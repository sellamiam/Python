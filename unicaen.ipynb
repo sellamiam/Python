{
 "cells": [
  {
   "cell_type": "code",
   "execution_count": null,
   "metadata": {
    "scrolled": true
   },
   "outputs": [],
   "source": [
    "## steps to create credential for a client to talk to google sheets API\n",
    "import gspread\n",
    "from oauth2client.service_account import ServiceAccountCredentials ## import service_account method\n",
    "scope =[\"https://www.googleapis.com/auth/drive\"] ## choose a scope for the access level from gsheet scopes\n",
    "credentials=ServiceAccountCredentials.from_json_keyfile_name(\"unicaen.json\", scope) ## create the credentials for (project file) with the right scope \n",
    "client  = gspread.authorize(credentials)\n",
    "\n",
    "sheet = client.open(\"unicaen\").sheet1 ## open a sheet and enter data below\n",
    "\n"
   ]
  },
  {
   "cell_type": "code",
   "execution_count": null,
   "metadata": {
    "scrolled": true
   },
   "outputs": [],
   "source": [
    "import requests\n",
    "import bs4\n",
    "import string\n",
    "list_synomyms= []\n",
    "page = requests.get(\"http://crisco.unicaen.fr/des/synonymes/caissi%C3%A8re\")\n",
    "soup = bs4.BeautifulSoup(page.text, \"lxml\")\n",
    "match = soup.find(id=\"synonymes\").findAll(\"a\")\n",
    "size = len(match)\n",
    "i=0\n",
    "while i <size:\n",
    "    synomym=match[i].getText()\n",
    "    i+=1\n",
    "    if synonym[0] =! 0:\n",
    "        if synonym not in list_synomyms:\n",
    "            list_synomyms.append(synonym)\n",
    "            \n",
    "print (list_synomyms)"
   ]
  },
  {
   "cell_type": "code",
   "execution_count": null,
   "metadata": {},
   "outputs": [],
   "source": []
  }
 ],
 "metadata": {
  "kernelspec": {
   "display_name": "Python 3",
   "language": "python",
   "name": "python3"
  },
  "language_info": {
   "codemirror_mode": {
    "name": "ipython",
    "version": 3
   },
   "file_extension": ".py",
   "mimetype": "text/x-python",
   "name": "python",
   "nbconvert_exporter": "python",
   "pygments_lexer": "ipython3",
   "version": "3.7.0"
  }
 },
 "nbformat": 4,
 "nbformat_minor": 2
}
