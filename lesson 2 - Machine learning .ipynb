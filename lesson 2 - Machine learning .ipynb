{
 "cells": [
  {
   "cell_type": "code",
   "execution_count": 2,
   "metadata": {
    "collapsed": true
   },
   "outputs": [],
   "source": [
    "import pandas as pd"
   ]
  },
  {
   "cell_type": "code",
   "execution_count": 3,
   "metadata": {
    "collapsed": true
   },
   "outputs": [],
   "source": [
    "import quandl\n"
   ]
  },
  {
   "cell_type": "code",
   "execution_count": 4,
   "metadata": {},
   "outputs": [
    {
     "name": "stdout",
     "output_type": "stream",
     "text": [
      "            ShortVolume  ShortExemptVolume  TotalVolume\n",
      "Date                                                   \n",
      "2014-04-03      27587.0              109.0      56737.0\n",
      "2014-04-04      34752.0              354.0      62450.0\n",
      "2014-04-07      18990.0              185.0      35857.0\n",
      "2014-04-08      20950.0               72.0      36196.0\n",
      "2014-04-09      12055.0               20.0      27047.0\n",
      "2014-04-10      22256.0              347.0      40394.0\n",
      "2014-04-11      18904.0              167.0      29852.0\n",
      "2014-04-14      20920.0               72.0      38324.0\n",
      "2014-04-15      21387.0               76.0      34867.0\n",
      "2014-04-16      21589.0              120.0      37025.0\n",
      "2014-04-17      33371.0                0.0      52253.0\n",
      "2014-04-21      13975.0               40.0      22356.0\n",
      "2014-04-22      14221.0                0.0      22918.0\n",
      "2014-04-23       9800.0                0.0      14400.0\n",
      "2014-04-24       7662.0               30.0      15828.0\n",
      "2014-04-25      15533.0               11.0      36034.0\n",
      "2014-04-28      20808.0                0.0      32113.0\n",
      "2014-04-29      10200.0                0.0      20282.0\n",
      "2014-04-30      20888.0                4.0      31598.0\n",
      "2014-05-01      11197.0                0.0      14773.0\n",
      "2014-05-02      13783.0              172.0      54799.0\n",
      "2014-05-05       6803.0               41.0      11193.0\n",
      "2014-05-06      16035.0               62.0      21434.0\n",
      "2014-05-07      22483.0               10.0      35553.0\n",
      "2014-05-08      17232.0               28.0      25177.0\n",
      "2014-05-09      10177.0               40.0      22175.0\n",
      "2014-05-12      10799.0                0.0      17819.0\n",
      "2014-05-13      11601.0               10.0      30283.0\n",
      "2014-05-14       7344.0              281.0      12654.0\n",
      "2014-05-15      13632.0               45.0      16930.0\n",
      "...                 ...                ...          ...\n",
      "2014-12-30       3105.0               23.0       6557.0\n",
      "2014-12-31       3391.0                0.0       5184.0\n",
      "2015-01-02       3117.0                0.0       4460.0\n",
      "2015-01-05       7226.0               33.0      11822.0\n",
      "2015-01-07      17525.0               67.0      23658.0\n",
      "2015-01-08      10094.0               15.0      26860.0\n",
      "2015-01-09       9613.0               10.0      14881.0\n",
      "2015-01-12      12366.0                5.0      22188.0\n",
      "2015-01-13       7712.0                1.0      17185.0\n",
      "2015-01-14       8694.0                0.0      14446.0\n",
      "2015-01-15      10104.0                0.0      12492.0\n",
      "2015-01-16       3522.0                0.0       8924.0\n",
      "2015-01-20       2917.0                0.0       5493.0\n",
      "2015-01-21       5560.0                0.0      11276.0\n",
      "2015-01-22      13880.0               11.0      28786.0\n",
      "2015-01-23       5551.0                0.0      12744.0\n",
      "2015-01-26       5825.0                0.0      11256.0\n",
      "2015-01-27       5935.0               65.0      10735.0\n",
      "2015-01-28       6828.0               84.0       9515.0\n",
      "2015-01-29       6394.0               67.0       9629.0\n",
      "2015-01-30       8875.0               20.0      10856.0\n",
      "2016-02-01     614739.0             2773.0    1252389.0\n",
      "2016-03-01     308105.0             1547.0     893430.0\n",
      "2016-04-01     219698.0             2454.0     381879.0\n",
      "2016-06-01     109981.0              485.0     244378.0\n",
      "2016-07-01     162720.0             2474.0     310031.0\n",
      "2016-08-01     382067.0             2854.0     746170.0\n",
      "2016-09-01     116038.0             2624.0     326252.0\n",
      "2016-11-01     241585.0             2659.0     697342.0\n",
      "2016-11-30     200147.0              847.0     511676.0\n",
      "\n",
      "[217 rows x 3 columns]\n"
     ]
    }
   ],
   "source": [
    "df = quandl. get (\"FINRA/FNRA_GOOGL\")\n",
    "\n",
    "df = df [[\"ShortVolume\", \"ShortExemptVolume\", \"TotalVolume\",]]\n",
    "print (df)"
   ]
  },
  {
   "cell_type": "code",
   "execution_count": 1,
   "metadata": {},
   "outputs": [
    {
     "data": {
      "text/plain": [
       "2"
      ]
     },
     "execution_count": 1,
     "metadata": {},
     "output_type": "execute_result"
    }
   ],
   "source": [
    "1+1"
   ]
  },
  {
   "cell_type": "code",
   "execution_count": 2,
   "metadata": {},
   "outputs": [
    {
     "data": {
      "text/plain": [
       "0.5"
      ]
     },
     "execution_count": 2,
     "metadata": {},
     "output_type": "execute_result"
    }
   ],
   "source": [
    "1/2\n"
   ]
  },
  {
   "cell_type": "code",
   "execution_count": 3,
   "metadata": {},
   "outputs": [
    {
     "data": {
      "text/plain": [
       "0.5"
      ]
     },
     "execution_count": 3,
     "metadata": {},
     "output_type": "execute_result"
    }
   ],
   "source": [
    "1/2.0"
   ]
  },
  {
   "cell_type": "code",
   "execution_count": 12,
   "metadata": {},
   "outputs": [],
   "source": [
    "list1= (1,2,2,2,2,3)"
   ]
  },
  {
   "cell_type": "code",
   "execution_count": 17,
   "metadata": {},
   "outputs": [
    {
     "data": {
      "text/plain": [
       "5"
      ]
     },
     "execution_count": 17,
     "metadata": {},
     "output_type": "execute_result"
    }
   ],
   "source": [
    "list1.index(3)"
   ]
  },
  {
   "cell_type": "code",
   "execution_count": 6,
   "metadata": {},
   "outputs": [
    {
     "data": {
      "text/plain": [
       "1"
      ]
     },
     "execution_count": 6,
     "metadata": {},
     "output_type": "execute_result"
    }
   ],
   "source": [
    "list1[0]"
   ]
  },
  {
   "cell_type": "code",
   "execution_count": 11,
   "metadata": {},
   "outputs": [
    {
     "data": {
      "text/plain": [
       "1"
      ]
     },
     "execution_count": 11,
     "metadata": {},
     "output_type": "execute_result"
    }
   ],
   "source": [
    "list1.count(2)"
   ]
  },
  {
   "cell_type": "code",
   "execution_count": 25,
   "metadata": {},
   "outputs": [],
   "source": [
    "s =set(list1)\n",
    "mul = lambda s : s+1"
   ]
  },
  {
   "cell_type": "code",
   "execution_count": 24,
   "metadata": {},
   "outputs": [
    {
     "data": {
      "text/plain": [
       "64"
      ]
     },
     "execution_count": 24,
     "metadata": {},
     "output_type": "execute_result"
    }
   ],
   "source": [
    "n = lambda num : num**3 \n",
    "n(4)"
   ]
  },
  {
   "cell_type": "code",
   "execution_count": 26,
   "metadata": {},
   "outputs": [
    {
     "ename": "TypeError",
     "evalue": "unsupported operand type(s) for +: 'set' and 'int'",
     "output_type": "error",
     "traceback": [
      "\u001b[0;31m---------------------------------------------------------------------------\u001b[0m",
      "\u001b[0;31mTypeError\u001b[0m                                 Traceback (most recent call last)",
      "\u001b[0;32m<ipython-input-26-43dcba5391b6>\u001b[0m in \u001b[0;36m<module>\u001b[0;34m()\u001b[0m\n\u001b[0;32m----> 1\u001b[0;31m \u001b[0mmul\u001b[0m\u001b[0;34m(\u001b[0m\u001b[0ms\u001b[0m\u001b[0;34m)\u001b[0m\u001b[0;34m\u001b[0m\u001b[0m\n\u001b[0m",
      "\u001b[0;32m<ipython-input-25-186b96b9aa65>\u001b[0m in \u001b[0;36m<lambda>\u001b[0;34m(s)\u001b[0m\n\u001b[1;32m      1\u001b[0m \u001b[0ms\u001b[0m \u001b[0;34m=\u001b[0m\u001b[0mset\u001b[0m\u001b[0;34m(\u001b[0m\u001b[0mlist1\u001b[0m\u001b[0;34m)\u001b[0m\u001b[0;34m\u001b[0m\u001b[0m\n\u001b[0;32m----> 2\u001b[0;31m \u001b[0mmul\u001b[0m \u001b[0;34m=\u001b[0m \u001b[0;32mlambda\u001b[0m \u001b[0ms\u001b[0m \u001b[0;34m:\u001b[0m \u001b[0ms\u001b[0m\u001b[0;34m+\u001b[0m\u001b[0;36m1\u001b[0m\u001b[0;34m\u001b[0m\u001b[0m\n\u001b[0m",
      "\u001b[0;31mTypeError\u001b[0m: unsupported operand type(s) for +: 'set' and 'int'"
     ]
    }
   ],
   "source": []
  },
  {
   "cell_type": "code",
   "execution_count": 37,
   "metadata": {},
   "outputs": [],
   "source": [
    "from random import randint as ri\n"
   ]
  },
  {
   "cell_type": "code",
   "execution_count": 98,
   "metadata": {},
   "outputs": [
    {
     "data": {
      "text/plain": [
       "[(1, 1),\n",
       " (1, 2),\n",
       " (1, 3),\n",
       " (1, 4),\n",
       " (1, 5),\n",
       " (1, 6),\n",
       " (1, 7),\n",
       " (1, 8),\n",
       " (1, 9),\n",
       " (2, 1),\n",
       " (2, 2),\n",
       " (2, 3),\n",
       " (2, 4),\n",
       " (2, 5),\n",
       " (2, 6),\n",
       " (2, 7),\n",
       " (2, 8),\n",
       " (2, 9),\n",
       " (3, 1),\n",
       " (3, 2),\n",
       " (3, 3),\n",
       " (3, 4),\n",
       " (3, 5),\n",
       " (3, 6),\n",
       " (3, 7),\n",
       " (3, 8),\n",
       " (3, 9),\n",
       " (4, 1),\n",
       " (4, 2),\n",
       " (4, 3),\n",
       " (4, 4),\n",
       " (4, 5),\n",
       " (4, 6),\n",
       " (4, 7),\n",
       " (4, 8),\n",
       " (4, 9),\n",
       " (5, 1),\n",
       " (5, 2),\n",
       " (5, 3),\n",
       " (5, 4),\n",
       " (5, 5),\n",
       " (5, 6),\n",
       " (5, 7),\n",
       " (5, 8),\n",
       " (5, 9),\n",
       " (6, 1),\n",
       " (6, 2),\n",
       " (6, 3),\n",
       " (6, 4),\n",
       " (6, 5),\n",
       " (6, 6),\n",
       " (6, 7),\n",
       " (6, 8),\n",
       " (6, 9),\n",
       " (7, 1),\n",
       " (7, 2),\n",
       " (7, 3),\n",
       " (7, 4),\n",
       " (7, 5),\n",
       " (7, 6),\n",
       " (7, 7),\n",
       " (7, 8),\n",
       " (7, 9),\n",
       " (8, 1),\n",
       " (8, 2),\n",
       " (8, 3),\n",
       " (8, 4),\n",
       " (8, 5),\n",
       " (8, 6),\n",
       " (8, 7),\n",
       " (8, 8),\n",
       " (8, 9),\n",
       " (9, 1),\n",
       " (9, 2),\n",
       " (9, 3),\n",
       " (9, 4),\n",
       " (9, 5),\n",
       " (9, 6),\n",
       " (9, 7),\n",
       " (9, 8),\n",
       " (9, 9)]"
      ]
     },
     "execution_count": 98,
     "metadata": {},
     "output_type": "execute_result"
    }
   ],
   "source": [
    "list2 = []\n",
    "for (a) in range (1,10):\n",
    "    for (b) in range (1,10):\n",
    "        a==ri(0,10)\n",
    "        b==ri(0,10)\n",
    "        list2.append((a,b))\n",
    "list2"
   ]
  },
  {
   "cell_type": "code",
   "execution_count": 82,
   "metadata": {},
   "outputs": [
    {
     "data": {
      "text/plain": [
       "[4, 4, 6, 10, 10, 0, 0, 2, 10, 8]"
      ]
     },
     "execution_count": 82,
     "metadata": {},
     "output_type": "execute_result"
    }
   ],
   "source": [
    "list(filter(lambda num: num%2==0, list2)) ## list out items that meet the lambda expression "
   ]
  },
  {
   "cell_type": "code",
   "execution_count": 103,
   "metadata": {},
   "outputs": [
    {
     "data": {
      "text/plain": [
       "['hio', 'jou', 'jjj']"
      ]
     },
     "execution_count": 103,
     "metadata": {},
     "output_type": "execute_result"
    }
   ],
   "source": [
    "s = \"hio jou jjj \"\n",
    "list(s.split())"
   ]
  },
  {
   "cell_type": "code",
   "execution_count": 106,
   "metadata": {},
   "outputs": [
    {
     "name": "stdout",
     "output_type": "stream",
     "text": [
      "the diamter of the planet earth is 12742\n"
     ]
    }
   ],
   "source": [
    "planet = \"earth\"\n",
    "diameter = 12742\n",
    "print (\"the diamter of the planet {} is {}\".format (planet, diameter))"
   ]
  },
  {
   "cell_type": "code",
   "execution_count": 109,
   "metadata": {},
   "outputs": [
    {
     "data": {
      "text/plain": [
       "'domain.com'"
      ]
     },
     "execution_count": 109,
     "metadata": {},
     "output_type": "execute_result"
    }
   ],
   "source": [
    "(\"user@domain.com\").split(\"@\")[1]"
   ]
  },
  {
   "cell_type": "code",
   "execution_count": 180,
   "metadata": {},
   "outputs": [
    {
     "name": "stdout",
     "output_type": "stream",
     "text": [
      "5\n"
     ]
    }
   ],
   "source": [
    "s = \"i love my DOG DOGDOGGOGODDOGDOG\"\n",
    "def dog(s):\n",
    "    count= 0\n",
    "    for word in s.split():\n",
    "        if \"dog\" in s.lower():\n",
    "            count+=1\n",
    "    print(count)\n",
    "dog(s)           "
   ]
  },
  {
   "cell_type": "code",
   "execution_count": 185,
   "metadata": {},
   "outputs": [
    {
     "data": {
      "text/plain": [
       "['pepper']"
      ]
     },
     "execution_count": 185,
     "metadata": {},
     "output_type": "execute_result"
    }
   ],
   "source": [
    "list3= [\"Soup\", \"salad\", \"salt\", \"pepper\", \"Srange\"]\n",
    "list(filter(lambda word : word[0].lower()!=\"s\", list3))"
   ]
  },
  {
   "cell_type": "code",
   "execution_count": 201,
   "metadata": {},
   "outputs": [],
   "source": [
    "def ticket(speed, birtday): \n",
    "    if birtday: \n",
    "        speeding = speed -5\n",
    "    else:\n",
    "        speeding = speed\n",
    "        \n",
    "    if speeding<=60:\n",
    "        return \"no ticket\"\n",
    "    elif 60<speeding<=80:\n",
    "        return \"small ticket\"\n",
    "    else:\n",
    "        return \"big ticket\"\n",
    "    "
   ]
  },
  {
   "cell_type": "code",
   "execution_count": 202,
   "metadata": {},
   "outputs": [
    {
     "data": {
      "text/plain": [
       "'small ticket'"
      ]
     },
     "execution_count": 202,
     "metadata": {},
     "output_type": "execute_result"
    }
   ],
   "source": [
    "ticket(67, True)"
   ]
  },
  {
   "cell_type": "markdown",
   "metadata": {},
   "source": [
    "## Numpy \n"
   ]
  },
  {
   "cell_type": "code",
   "execution_count": 8,
   "metadata": {},
   "outputs": [],
   "source": [
    "import numpy as np"
   ]
  },
  {
   "cell_type": "code",
   "execution_count": 13,
   "metadata": {},
   "outputs": [],
   "source": [
    "my_list = [1,2,3,4,5,6]"
   ]
  },
  {
   "cell_type": "code",
   "execution_count": 14,
   "metadata": {},
   "outputs": [
    {
     "data": {
      "text/plain": [
       "array([1, 2, 3, 4, 5, 6])"
      ]
     },
     "execution_count": 14,
     "metadata": {},
     "output_type": "execute_result"
    }
   ],
   "source": [
    "arr = np.array(my_list)\n",
    "arr"
   ]
  },
  {
   "cell_type": "code",
   "execution_count": 18,
   "metadata": {},
   "outputs": [
    {
     "data": {
      "text/plain": [
       "array([[1, 2],\n",
       "       [3, 4],\n",
       "       [5, 6]])"
      ]
     },
     "execution_count": 18,
     "metadata": {},
     "output_type": "execute_result"
    }
   ],
   "source": [
    "arr.reshape(3,2) ## tranform an array from one dimentional vector to a matrix"
   ]
  },
  {
   "cell_type": "code",
   "execution_count": 45,
   "metadata": {},
   "outputs": [
    {
     "data": {
      "text/plain": [
       "array([[ 0,  1],\n",
       "       [ 2,  3],\n",
       "       [ 4,  5],\n",
       "       [ 6,  7],\n",
       "       [ 8,  9],\n",
       "       [10, 11],\n",
       "       [12, 13],\n",
       "       [14, 15],\n",
       "       [16, 17],\n",
       "       [18, 19],\n",
       "       [20, 21]])"
      ]
     },
     "execution_count": 45,
     "metadata": {},
     "output_type": "execute_result"
    }
   ],
   "source": [
    "(np.arange(0,22)).reshape(11,2)\n"
   ]
  },
  {
   "cell_type": "code",
   "execution_count": 59,
   "metadata": {},
   "outputs": [
    {
     "data": {
      "text/plain": [
       "(array([[0., 0., 0., 0.],\n",
       "        [0., 0., 0., 0.]]), array([0., 0., 0., 0., 0.]))"
      ]
     },
     "execution_count": 59,
     "metadata": {},
     "output_type": "execute_result"
    }
   ],
   "source": [
    "np.zeros((2,4)), np.zeros(5)\n"
   ]
  },
  {
   "cell_type": "code",
   "execution_count": 55,
   "metadata": {},
   "outputs": [
    {
     "data": {
      "text/plain": [
       "(array([[1., 1.],\n",
       "        [1., 1.]]), array([1., 1., 1., 1., 1.]))"
      ]
     },
     "execution_count": 55,
     "metadata": {},
     "output_type": "execute_result"
    }
   ],
   "source": [
    "\n",
    "np.ones((2,2)), np.ones(5)"
   ]
  },
  {
   "cell_type": "code",
   "execution_count": 63,
   "metadata": {},
   "outputs": [
    {
     "data": {
      "text/plain": [
       "array([ 0.        ,  1.66666667,  3.33333333,  5.        ,  6.66666667,\n",
       "        8.33333333, 10.        ])"
      ]
     },
     "execution_count": 63,
     "metadata": {},
     "output_type": "execute_result"
    }
   ],
   "source": [
    "np.linspace(0,10,7) ## 7 equaly spaces floats within the range"
   ]
  },
  {
   "cell_type": "code",
   "execution_count": 75,
   "metadata": {},
   "outputs": [
    {
     "data": {
      "text/plain": [
       "array([[1., 0., 0., 0., 0., 0.],\n",
       "       [0., 1., 0., 0., 0., 0.],\n",
       "       [0., 0., 1., 0., 0., 0.],\n",
       "       [0., 0., 0., 1., 0., 0.],\n",
       "       [0., 0., 0., 0., 1., 0.],\n",
       "       [0., 0., 0., 0., 0., 1.]])"
      ]
     },
     "execution_count": 75,
     "metadata": {},
     "output_type": "execute_result"
    }
   ],
   "source": [
    " np.eye(6) #identity matrix, square matrix of 0 and 1 6X6\n",
    "\n"
   ]
  },
  {
   "cell_type": "code",
   "execution_count": 84,
   "metadata": {},
   "outputs": [
    {
     "data": {
      "text/plain": [
       "array([3, 2])"
      ]
     },
     "execution_count": 84,
     "metadata": {},
     "output_type": "execute_result"
    }
   ],
   "source": [
    "np.random.randint(0,10,2) ## 2 random nubmers from 0 to 10"
   ]
  },
  {
   "cell_type": "code",
   "execution_count": 86,
   "metadata": {},
   "outputs": [
    {
     "data": {
      "text/plain": [
       "array([0.21629045, 0.94098275, 0.48360987, 0.5343739 , 0.67732959])"
      ]
     },
     "execution_count": 86,
     "metadata": {},
     "output_type": "execute_result"
    }
   ],
   "source": [
    "np.random.rand(5)  # 5 random equaly distributed from 0 to 1, similar to linspace, but from 0 to 1 only \n",
    "\n"
   ]
  },
  {
   "cell_type": "code",
   "execution_count": 89,
   "metadata": {},
   "outputs": [
    {
     "data": {
      "text/plain": [
       "array([[0.02483838, 0.19002964, 0.01629712, 0.1209968 , 0.09328501],\n",
       "       [0.46951317, 0.98907665, 0.30508063, 0.43868742, 0.69052696],\n",
       "       [0.2778694 , 0.78314267, 0.00983983, 0.66355287, 0.28961134],\n",
       "       [0.48138857, 0.24869418, 0.68536598, 0.86804309, 0.8769666 ],\n",
       "       [0.16898152, 0.41726398, 0.9423215 , 0.59826855, 0.38138818]])"
      ]
     },
     "execution_count": 89,
     "metadata": {},
     "output_type": "execute_result"
    }
   ],
   "source": [
    "np.random.rand(5,5) # same like above, but a 5X5 matrix"
   ]
  },
  {
   "cell_type": "code",
   "execution_count": 102,
   "metadata": {},
   "outputs": [
    {
     "data": {
      "text/plain": [
       "array([-3.14744403,  0.63899416, -0.24769452, -0.53960312,  0.27798869])"
      ]
     },
     "execution_count": 102,
     "metadata": {},
     "output_type": "execute_result"
    }
   ],
   "source": [
    "np.random.randn(5) ## ramdon normal distribution centered around 0"
   ]
  },
  {
   "cell_type": "code",
   "execution_count": 100,
   "metadata": {},
   "outputs": [
    {
     "data": {
      "text/plain": [
       "array([[-1.09014517,  0.09299117, -1.08762616,  0.02214307, -0.87952078],\n",
       "       [ 0.54006791,  0.03670679, -0.81753255, -0.91496387,  0.92452712]])"
      ]
     },
     "execution_count": 100,
     "metadata": {},
     "output_type": "execute_result"
    }
   ],
   "source": [
    "np.random.randn(2,5) # ramdon normal distribution "
   ]
  },
  {
   "cell_type": "code",
   "execution_count": 125,
   "metadata": {},
   "outputs": [
    {
     "data": {
      "text/plain": [
       "array([[24, 24,  9, 16, 12],\n",
       "       [13, 11, 20,  6,  9]])"
      ]
     },
     "execution_count": 125,
     "metadata": {},
     "output_type": "execute_result"
    }
   ],
   "source": [
    "(np.random.randint(0,25,10)).reshape(2,5)\n"
   ]
  },
  {
   "cell_type": "code",
   "execution_count": 128,
   "metadata": {},
   "outputs": [
    {
     "data": {
      "text/plain": [
       "21"
      ]
     },
     "execution_count": 128,
     "metadata": {},
     "output_type": "execute_result"
    }
   ],
   "source": [
    "(np.random.randint(1,25,10)).max()\n"
   ]
  },
  {
   "cell_type": "code",
   "execution_count": 121,
   "metadata": {},
   "outputs": [
    {
     "data": {
      "text/plain": [
       "2"
      ]
     },
     "execution_count": 121,
     "metadata": {},
     "output_type": "execute_result"
    }
   ],
   "source": [
    "(np.random.randint(1,25,10)).min()\n"
   ]
  },
  {
   "cell_type": "code",
   "execution_count": 139,
   "metadata": {},
   "outputs": [
    {
     "data": {
      "text/plain": [
       "array([ 7, 17, 18, 11,  2, 15, 24, 15, 16, 12])"
      ]
     },
     "execution_count": 139,
     "metadata": {},
     "output_type": "execute_result"
    }
   ],
   "source": [
    "arr = np.random.randint(0,25,10)\n",
    "arr "
   ]
  },
  {
   "cell_type": "code",
   "execution_count": 140,
   "metadata": {},
   "outputs": [
    {
     "data": {
      "text/plain": [
       "24"
      ]
     },
     "execution_count": 140,
     "metadata": {},
     "output_type": "execute_result"
    }
   ],
   "source": [
    "arr.max()"
   ]
  },
  {
   "cell_type": "code",
   "execution_count": 141,
   "metadata": {},
   "outputs": [
    {
     "data": {
      "text/plain": [
       "6"
      ]
     },
     "execution_count": 141,
     "metadata": {},
     "output_type": "execute_result"
    }
   ],
   "source": [
    "arr.argmax() ##index of max number in the array"
   ]
  },
  {
   "cell_type": "code",
   "execution_count": 142,
   "metadata": {},
   "outputs": [
    {
     "data": {
      "text/plain": [
       "2"
      ]
     },
     "execution_count": 142,
     "metadata": {},
     "output_type": "execute_result"
    }
   ],
   "source": [
    "arr.min()"
   ]
  },
  {
   "cell_type": "code",
   "execution_count": 143,
   "metadata": {},
   "outputs": [
    {
     "data": {
      "text/plain": [
       "4"
      ]
     },
     "execution_count": 143,
     "metadata": {},
     "output_type": "execute_result"
    }
   ],
   "source": [
    "arr.argmin()"
   ]
  },
  {
   "cell_type": "code",
   "execution_count": 144,
   "metadata": {},
   "outputs": [
    {
     "data": {
      "text/plain": [
       "10"
      ]
     },
     "execution_count": 144,
     "metadata": {},
     "output_type": "execute_result"
    }
   ],
   "source": [
    "arr.size"
   ]
  },
  {
   "cell_type": "code",
   "execution_count": 149,
   "metadata": {},
   "outputs": [
    {
     "data": {
      "text/plain": [
       "array([[ 7, 17, 18, 11,  2],\n",
       "       [15, 24, 15, 16, 12]])"
      ]
     },
     "execution_count": 149,
     "metadata": {},
     "output_type": "execute_result"
    }
   ],
   "source": [
    "arr = arr.reshape(2,5)\n",
    "arr"
   ]
  },
  {
   "cell_type": "code",
   "execution_count": 150,
   "metadata": {},
   "outputs": [
    {
     "data": {
      "text/plain": [
       "(2, 5)"
      ]
     },
     "execution_count": 150,
     "metadata": {},
     "output_type": "execute_result"
    }
   ],
   "source": [
    "arr.shape"
   ]
  },
  {
   "cell_type": "code",
   "execution_count": 153,
   "metadata": {},
   "outputs": [
    {
     "data": {
      "text/plain": [
       "dtype('int64')"
      ]
     },
     "execution_count": 153,
     "metadata": {},
     "output_type": "execute_result"
    }
   ],
   "source": [
    "arr.dtype"
   ]
  },
  {
   "cell_type": "code",
   "execution_count": 156,
   "metadata": {},
   "outputs": [
    {
     "data": {
      "text/plain": [
       "24"
      ]
     },
     "execution_count": 156,
     "metadata": {},
     "output_type": "execute_result"
    }
   ],
   "source": [
    "arr[1][1] ## just like a list "
   ]
  },
  {
   "cell_type": "code",
   "execution_count": 160,
   "metadata": {},
   "outputs": [
    {
     "data": {
      "text/plain": [
       "array([ 0,  1,  2,  3,  4,  5,  6,  7,  8,  9, 10, 11, 12, 13, 14, 15, 16,\n",
       "       17, 18, 19, 20, 21, 22, 23, 24])"
      ]
     },
     "execution_count": 160,
     "metadata": {},
     "output_type": "execute_result"
    }
   ],
   "source": [
    "r = np.arange(0,25)\n",
    "r"
   ]
  },
  {
   "cell_type": "code",
   "execution_count": 177,
   "metadata": {},
   "outputs": [
    {
     "data": {
      "text/plain": [
       "array([0, 1, 2, 3, 4])"
      ]
     },
     "execution_count": 177,
     "metadata": {},
     "output_type": "execute_result"
    }
   ],
   "source": [
    "r[:5] ## up to and including index 5"
   ]
  },
  {
   "cell_type": "code",
   "execution_count": 178,
   "metadata": {},
   "outputs": [
    {
     "data": {
      "text/plain": [
       "array([ 5,  6,  7,  8,  9, 10, 11, 12, 13, 14, 15, 16, 17, 18, 19, 20, 21,\n",
       "       22, 23, 24])"
      ]
     },
     "execution_count": 178,
     "metadata": {},
     "output_type": "execute_result"
    }
   ],
   "source": [
    "r[5:] ## from and excluding index 5"
   ]
  },
  {
   "cell_type": "code",
   "execution_count": 180,
   "metadata": {},
   "outputs": [
    {
     "data": {
      "text/plain": [
       "array([ 0,  1,  2,  3,  4,  5,  6,  7,  8,  9, 10, 11, 12, 13, 14, 15, 16,\n",
       "       17, 18, 19, 20, 21, 22, 23, 24])"
      ]
     },
     "execution_count": 180,
     "metadata": {},
     "output_type": "execute_result"
    }
   ],
   "source": [
    "r = np.arange(0,25)\n",
    "r"
   ]
  },
  {
   "cell_type": "code",
   "execution_count": 183,
   "metadata": {},
   "outputs": [
    {
     "data": {
      "text/plain": [
       "array([100, 100, 100, 100, 100,   5,   6,   7,   8,   9,  10,  11,  12,\n",
       "        13,  14,  15,  16,  17,  18,  19,  20,  21,  22,  23,  24])"
      ]
     },
     "execution_count": 183,
     "metadata": {},
     "output_type": "execute_result"
    }
   ],
   "source": [
    "r[0:5]= 100 ## broadcasting, change the value of the first 5 indexed to 100, note it changed the values in the array r\n",
    "r"
   ]
  },
  {
   "cell_type": "code",
   "execution_count": 187,
   "metadata": {},
   "outputs": [
    {
     "data": {
      "text/plain": [
       "array([100, 100, 100, 100, 100,   5,   6,   7,   8,   9,  10,  11,  12,\n",
       "        13,  14,  15,  16,  17,  18,  19,  20,  21,  22,  23,  24])"
      ]
     },
     "execution_count": 187,
     "metadata": {},
     "output_type": "execute_result"
    }
   ],
   "source": [
    "r_copy = r.copy() ## made a copy of the array r, now we can broadcase values in the copy without affecting the original array r \n",
    "r_copy "
   ]
  },
  {
   "cell_type": "code",
   "execution_count": 199,
   "metadata": {},
   "outputs": [],
   "source": [
    "r_copy[0:5] = np.arange(0,5)"
   ]
  },
  {
   "cell_type": "code",
   "execution_count": 200,
   "metadata": {},
   "outputs": [
    {
     "data": {
      "text/plain": [
       "array([ 0,  1,  2,  3,  4,  5,  6,  7,  8,  9, 10, 11, 12, 13, 14, 15, 16,\n",
       "       17, 18, 19, 20, 21, 22, 23, 24])"
      ]
     },
     "execution_count": 200,
     "metadata": {},
     "output_type": "execute_result"
    }
   ],
   "source": [
    "r_copy"
   ]
  },
  {
   "cell_type": "code",
   "execution_count": 191,
   "metadata": {},
   "outputs": [
    {
     "data": {
      "text/plain": [
       "array([100, 100, 100, 100, 100,   5,   6,   7,   8,   9,  10,  11,  12,\n",
       "        13,  14,  15,  16,  17,  18,  19,  20,  21,  22,  23,  24])"
      ]
     },
     "execution_count": 191,
     "metadata": {},
     "output_type": "execute_result"
    }
   ],
   "source": [
    "r ## r still shows the changed values "
   ]
  },
  {
   "cell_type": "code",
   "execution_count": 221,
   "metadata": {},
   "outputs": [
    {
     "data": {
      "text/plain": [
       "array([[ 0,  1,  2,  3,  4,  5,  6,  7,  8],\n",
       "       [ 9, 10, 11, 12, 13, 14, 15, 16, 17],\n",
       "       [18, 19, 20, 21, 22, 23, 24, 25, 26],\n",
       "       [27, 28, 29, 30, 31, 32, 33, 34, 35],\n",
       "       [36, 37, 38, 39, 40, 41, 42, 43, 44]])"
      ]
     },
     "execution_count": 221,
     "metadata": {},
     "output_type": "execute_result"
    }
   ],
   "source": [
    "r_2 = (np.arange(0,45,1)).reshape(5,9)\n",
    "r_2"
   ]
  },
  {
   "cell_type": "code",
   "execution_count": 224,
   "metadata": {},
   "outputs": [
    {
     "data": {
      "text/plain": [
       "11"
      ]
     },
     "execution_count": 224,
     "metadata": {},
     "output_type": "execute_result"
    }
   ],
   "source": [
    "r_2[1][2] ## grabe data from a matrix array using double braket"
   ]
  },
  {
   "cell_type": "code",
   "execution_count": 225,
   "metadata": {},
   "outputs": [
    {
     "data": {
      "text/plain": [
       "11"
      ]
     },
     "execution_count": 225,
     "metadata": {},
     "output_type": "execute_result"
    }
   ],
   "source": [
    "r_2[1,2] ## grabe data from a matrix array using a single braket (comma), this does no work for lists my_list[1][0]"
   ]
  },
  {
   "cell_type": "code",
   "execution_count": 226,
   "metadata": {},
   "outputs": [
    {
     "data": {
      "text/plain": [
       "array([[ 0,  1,  2,  3,  4,  5,  6,  7,  8],\n",
       "       [ 9, 10, 11, 12, 13, 14, 15, 16, 17],\n",
       "       [18, 19, 20, 21, 22, 23, 24, 25, 26],\n",
       "       [27, 28, 29, 30, 31, 32, 33, 34, 35],\n",
       "       [36, 37, 38, 39, 40, 41, 42, 43, 44]])"
      ]
     },
     "execution_count": 226,
     "metadata": {},
     "output_type": "execute_result"
    }
   ],
   "source": [
    "r_2"
   ]
  },
  {
   "cell_type": "code",
   "execution_count": 230,
   "metadata": {},
   "outputs": [
    {
     "data": {
      "text/plain": [
       "array([[ 4,  5,  6,  7,  8],\n",
       "       [13, 14, 15, 16, 17],\n",
       "       [22, 23, 24, 25, 26]])"
      ]
     },
     "execution_count": 230,
     "metadata": {},
     "output_type": "execute_result"
    }
   ],
   "source": [
    "r_2[:3,4:] ## cool stuff no? "
   ]
  },
  {
   "cell_type": "code",
   "execution_count": 238,
   "metadata": {},
   "outputs": [],
   "source": [
    "bool_arr = r_2>30  ## name the bool array that meet the condition "
   ]
  },
  {
   "cell_type": "code",
   "execution_count": 239,
   "metadata": {},
   "outputs": [
    {
     "data": {
      "text/plain": [
       "array([31, 32, 33, 34, 35, 36, 37, 38, 39, 40, 41, 42, 43, 44])"
      ]
     },
     "execution_count": 239,
     "metadata": {},
     "output_type": "execute_result"
    }
   ],
   "source": [
    "r_2[bool_arr] ## slice the array using the bool array that meets the condition "
   ]
  },
  {
   "cell_type": "code",
   "execution_count": 252,
   "metadata": {},
   "outputs": [
    {
     "data": {
      "text/plain": [
       "array([31, 32, 33, 34, 35, 36, 37, 38, 39, 40, 41, 42, 43, 44])"
      ]
     },
     "execution_count": 252,
     "metadata": {},
     "output_type": "execute_result"
    }
   ],
   "source": [
    "r_2[r_2>30]  ## same result in one line of code, as if you wrote select from r_2 when r_2>30"
   ]
  },
  {
   "cell_type": "code",
   "execution_count": 266,
   "metadata": {},
   "outputs": [
    {
     "data": {
      "text/plain": [
       "True"
      ]
     },
     "execution_count": 266,
     "metadata": {},
     "output_type": "execute_result"
    }
   ],
   "source": [
    "r_2.any() ## if any of the values is  of them are true"
   ]
  },
  {
   "cell_type": "code",
   "execution_count": 22,
   "metadata": {},
   "outputs": [
    {
     "data": {
      "text/plain": [
       "array([[ 1,  2,  3,  4,  5,  6,  7,  8,  9, 10],\n",
       "       [11, 12, 13, 14, 15, 16, 17, 18, 19, 20],\n",
       "       [21, 22, 23, 24, 25, 26, 27, 28, 29, 30],\n",
       "       [31, 32, 33, 34, 35, 36, 37, 38, 39, 40],\n",
       "       [41, 42, 43, 44, 45, 46, 47, 48, 49, 50]])"
      ]
     },
     "execution_count": 22,
     "metadata": {},
     "output_type": "execute_result"
    }
   ],
   "source": [
    "r_3 = np.arange(1,51).reshape(5,10)\n",
    "r_3 "
   ]
  },
  {
   "cell_type": "code",
   "execution_count": 23,
   "metadata": {},
   "outputs": [
    {
     "data": {
      "text/plain": [
       "array([[14, 15],\n",
       "       [24, 25]])"
      ]
     },
     "execution_count": 23,
     "metadata": {},
     "output_type": "execute_result"
    }
   ],
   "source": [
    "r_3[1:3,3:5]"
   ]
  },
  {
   "cell_type": "code",
   "execution_count": 24,
   "metadata": {},
   "outputs": [],
   "source": [
    "r_3_list = r_3.tolist() ## convert an array into a list "
   ]
  },
  {
   "cell_type": "code",
   "execution_count": 25,
   "metadata": {},
   "outputs": [
    {
     "data": {
      "text/plain": [
       "array([[ 1,  2,  3,  4,  5,  6,  7,  8,  9, 10],\n",
       "       [11, 12, 13, 14, 15, 16, 17, 18, 19, 20],\n",
       "       [21, 22, 23, 24, 25, 26, 27, 28, 29, 30],\n",
       "       [31, 32, 33, 34, 35, 36, 37, 38, 39, 40],\n",
       "       [41, 42, 43, 44, 45, 46, 47, 48, 49, 50]])"
      ]
     },
     "execution_count": 25,
     "metadata": {},
     "output_type": "execute_result"
    }
   ],
   "source": [
    "r_3\n",
    "\n"
   ]
  },
  {
   "cell_type": "code",
   "execution_count": 28,
   "metadata": {},
   "outputs": [
    {
     "data": {
      "text/plain": [
       "array([[  2,   4,   6,   8,  10,  12,  14,  16,  18,  20],\n",
       "       [ 22,  24,  26,  28,  30,  32,  34,  36,  38,  40],\n",
       "       [ 42,  44,  46,  48,  50,  52,  54,  56,  58,  60],\n",
       "       [ 62,  64,  66,  68,  70,  72,  74,  76,  78,  80],\n",
       "       [ 82,  84,  86,  88,  90,  92,  94,  96,  98, 100]])"
      ]
     },
     "execution_count": 28,
     "metadata": {},
     "output_type": "execute_result"
    }
   ],
   "source": [
    "r_3+r_3 # adding arrays, you can +, -, / (as long as not zero) , * "
   ]
  },
  {
   "cell_type": "code",
   "execution_count": 30,
   "metadata": {},
   "outputs": [
    {
     "data": {
      "text/plain": [
       "array([[  3,   6,   9,  12,  15,  18,  21,  24,  27,  30],\n",
       "       [ 33,  36,  39,  42,  45,  48,  51,  54,  57,  60],\n",
       "       [ 63,  66,  69,  72,  75,  78,  81,  84,  87,  90],\n",
       "       [ 93,  96,  99, 102, 105, 108, 111, 114, 117, 120],\n",
       "       [123, 126, 129, 132, 135, 138, 141, 144, 147, 150]])"
      ]
     },
     "execution_count": 30,
     "metadata": {},
     "output_type": "execute_result"
    }
   ],
   "source": [
    "r_3*3"
   ]
  },
  {
   "cell_type": "code",
   "execution_count": 33,
   "metadata": {},
   "outputs": [
    {
     "name": "stderr",
     "output_type": "stream",
     "text": [
      "/Users/msellamia/anaconda3/lib/python3.7/site-packages/ipykernel_launcher.py:2: RuntimeWarning: invalid value encountered in true_divide\n",
      "  \n"
     ]
    },
    {
     "data": {
      "text/plain": [
       "array([nan,  1.,  1.,  1.,  1.,  1.,  1.,  1.,  1.,  1.,  1.,  1.,  1.,\n",
       "        1.,  1.,  1.,  1.,  1.,  1.,  1.,  1.,  1.,  1.,  1.,  1.,  1.,\n",
       "        1.,  1.,  1.,  1.,  1.,  1.,  1.,  1.,  1.,  1.,  1.,  1.,  1.,\n",
       "        1.,  1.,  1.,  1.,  1.,  1.,  1.,  1.,  1.,  1.,  1.])"
      ]
     },
     "execution_count": 33,
     "metadata": {},
     "output_type": "execute_result"
    }
   ],
   "source": [
    "r_4 = np.arange(0,50)\n",
    "r_4/r_4 ## nan for fist value "
   ]
  },
  {
   "cell_type": "code",
   "execution_count": 35,
   "metadata": {},
   "outputs": [
    {
     "name": "stderr",
     "output_type": "stream",
     "text": [
      "/Users/msellamia/anaconda3/lib/python3.7/site-packages/ipykernel_launcher.py:1: RuntimeWarning: divide by zero encountered in true_divide\n",
      "  \"\"\"Entry point for launching an IPython kernel.\n"
     ]
    },
    {
     "data": {
      "text/plain": [
       "array([       inf, 1.        , 0.5       , 0.33333333, 0.25      ,\n",
       "       0.2       , 0.16666667, 0.14285714, 0.125     , 0.11111111,\n",
       "       0.1       , 0.09090909, 0.08333333, 0.07692308, 0.07142857,\n",
       "       0.06666667, 0.0625    , 0.05882353, 0.05555556, 0.05263158,\n",
       "       0.05      , 0.04761905, 0.04545455, 0.04347826, 0.04166667,\n",
       "       0.04      , 0.03846154, 0.03703704, 0.03571429, 0.03448276,\n",
       "       0.03333333, 0.03225806, 0.03125   , 0.03030303, 0.02941176,\n",
       "       0.02857143, 0.02777778, 0.02702703, 0.02631579, 0.02564103,\n",
       "       0.025     , 0.02439024, 0.02380952, 0.02325581, 0.02272727,\n",
       "       0.02222222, 0.02173913, 0.0212766 , 0.02083333, 0.02040816])"
      ]
     },
     "execution_count": 35,
     "metadata": {},
     "output_type": "execute_result"
    }
   ],
   "source": [
    "1/r_4 ## or infinity inf"
   ]
  },
  {
   "cell_type": "code",
   "execution_count": 45,
   "metadata": {},
   "outputs": [
    {
     "data": {
      "text/plain": [
       "array([ 0,  1,  2,  3,  4,  5,  6,  7,  8,  9, 10, 11, 12, 13, 14, 15, 16,\n",
       "       17, 18, 19, 20, 21, 22, 23, 24, 25, 26, 27, 28, 29, 30, 31, 32, 33,\n",
       "       34, 35, 36, 37, 38, 39, 40, 41, 42, 43, 44, 45, 46, 47, 48, 49, 70])"
      ]
     },
     "execution_count": 45,
     "metadata": {},
     "output_type": "execute_result"
    }
   ],
   "source": [
    "np.append(r_4, 70) ## add an element to an array"
   ]
  },
  {
   "cell_type": "code",
   "execution_count": 47,
   "metadata": {},
   "outputs": [
    {
     "data": {
      "text/plain": [
       "array([0.        , 1.        , 1.41421356, 1.73205081, 2.        ,\n",
       "       2.23606798, 2.44948974, 2.64575131, 2.82842712, 3.        ,\n",
       "       3.16227766, 3.31662479, 3.46410162, 3.60555128, 3.74165739,\n",
       "       3.87298335, 4.        , 4.12310563, 4.24264069, 4.35889894,\n",
       "       4.47213595, 4.58257569, 4.69041576, 4.79583152, 4.89897949,\n",
       "       5.        , 5.09901951, 5.19615242, 5.29150262, 5.38516481,\n",
       "       5.47722558, 5.56776436, 5.65685425, 5.74456265, 5.83095189,\n",
       "       5.91607978, 6.        , 6.08276253, 6.164414  , 6.244998  ,\n",
       "       6.32455532, 6.40312424, 6.4807407 , 6.55743852, 6.63324958,\n",
       "       6.70820393, 6.78232998, 6.8556546 , 6.92820323, 7.        ])"
      ]
     },
     "execution_count": 47,
     "metadata": {},
     "output_type": "execute_result"
    }
   ],
   "source": [
    "np.sqrt(r_4) ## square root"
   ]
  },
  {
   "cell_type": "code",
   "execution_count": 26,
   "metadata": {},
   "outputs": [
    {
     "data": {
      "text/plain": [
       "array([ 1,  3,  5,  7,  9, 11, 13, 15, 17, 19, 21, 23, 25, 27, 29, 31, 33,\n",
       "       35, 37, 39, 41, 43, 45, 47, 49, 51, 53, 55, 57, 59, 61, 63, 65, 67,\n",
       "       69])"
      ]
     },
     "execution_count": 26,
     "metadata": {},
     "output_type": "execute_result"
    }
   ],
   "source": [
    "import numpy as np\n",
    "r_5= np.arange(1,70,2)\n",
    "r_5\n"
   ]
  },
  {
   "cell_type": "code",
   "execution_count": 28,
   "metadata": {},
   "outputs": [],
   "source": [
    "def array_index(array_to_search, value): ## pull out the index on an element in an array \n",
    "    for i in range (0, array_to_search.size):\n",
    "        if array_to_search[i]==value:\n",
    "            return (i)\n",
    "\n",
    "    return (\"no index\")\n",
    "\n",
    "\n",
    "      \n",
    "   \n",
    "        "
   ]
  },
  {
   "cell_type": "code",
   "execution_count": 31,
   "metadata": {},
   "outputs": [
    {
     "data": {
      "text/plain": [
       "12"
      ]
     },
     "execution_count": 31,
     "metadata": {},
     "output_type": "execute_result"
    }
   ],
   "source": [
    "array_index(r_5,25)  ## formula to find the index of a value in an array"
   ]
  },
  {
   "cell_type": "code",
   "execution_count": 127,
   "metadata": {},
   "outputs": [],
   "source": [
    "def array_index(array_to_search, value):\n",
    "    for i in range (0, array_to_search.size):\n",
    "        if array_to_search[i]==value:\n",
    "            print (i)\n",
    "        else:\n",
    "            return \"no index\"\n",
    "        \n",
    "        \n",
    "        "
   ]
  },
  {
   "cell_type": "code",
   "execution_count": 144,
   "metadata": {},
   "outputs": [],
   "source": [
    "#exercies "
   ]
  },
  {
   "cell_type": "code",
   "execution_count": 145,
   "metadata": {},
   "outputs": [
    {
     "data": {
      "text/plain": [
       "array([0., 0., 0., 0., 0., 0., 0., 0., 0., 0.])"
      ]
     },
     "execution_count": 145,
     "metadata": {},
     "output_type": "execute_result"
    }
   ],
   "source": [
    "np.zeros(10)"
   ]
  },
  {
   "cell_type": "code",
   "execution_count": 146,
   "metadata": {},
   "outputs": [
    {
     "data": {
      "text/plain": [
       "array([1., 1., 1., 1., 1., 1., 1., 1., 1., 1.])"
      ]
     },
     "execution_count": 146,
     "metadata": {},
     "output_type": "execute_result"
    }
   ],
   "source": [
    "np.ones(10)"
   ]
  },
  {
   "cell_type": "code",
   "execution_count": 149,
   "metadata": {},
   "outputs": [
    {
     "data": {
      "text/plain": [
       "array([5., 5., 5., 5., 5., 5., 5., 5., 5., 5.])"
      ]
     },
     "execution_count": 149,
     "metadata": {},
     "output_type": "execute_result"
    }
   ],
   "source": [
    "np.ones(10)*5"
   ]
  },
  {
   "cell_type": "code",
   "execution_count": 157,
   "metadata": {},
   "outputs": [
    {
     "data": {
      "text/plain": [
       "array([10, 12, 14, 16, 18, 20, 22, 24, 26, 28, 30, 32, 34, 36, 38, 40, 42,\n",
       "       44, 46, 48, 50])"
      ]
     },
     "execution_count": 157,
     "metadata": {},
     "output_type": "execute_result"
    }
   ],
   "source": [
    "np.arange(10,51,2)"
   ]
  },
  {
   "cell_type": "code",
   "execution_count": 158,
   "metadata": {},
   "outputs": [
    {
     "data": {
      "text/plain": [
       "array([[0, 1, 2],\n",
       "       [3, 4, 5],\n",
       "       [6, 7, 8]])"
      ]
     },
     "execution_count": 158,
     "metadata": {},
     "output_type": "execute_result"
    }
   ],
   "source": [
    "np.arange(9).reshape(3,3)"
   ]
  },
  {
   "cell_type": "code",
   "execution_count": 159,
   "metadata": {},
   "outputs": [
    {
     "data": {
      "text/plain": [
       "array([[1., 0., 0.],\n",
       "       [0., 1., 0.],\n",
       "       [0., 0., 1.]])"
      ]
     },
     "execution_count": 159,
     "metadata": {},
     "output_type": "execute_result"
    }
   ],
   "source": [
    "np.eye(3)"
   ]
  },
  {
   "cell_type": "code",
   "execution_count": 170,
   "metadata": {},
   "outputs": [
    {
     "data": {
      "text/plain": [
       "array([0.81272398])"
      ]
     },
     "execution_count": 170,
     "metadata": {},
     "output_type": "execute_result"
    }
   ],
   "source": [
    "np.random.rand(1)"
   ]
  },
  {
   "cell_type": "code",
   "execution_count": 173,
   "metadata": {},
   "outputs": [
    {
     "data": {
      "text/plain": [
       "array([ 2.14349829,  0.49350881, -0.30813131,  0.14172124,  0.37825925,\n",
       "       -0.50208449,  1.61207027, -1.21577431,  0.06621232, -0.96604783,\n",
       "        0.47386003,  0.19516475, -2.09549055, -1.7863974 , -1.52576686,\n",
       "       -0.87724112,  0.05358041,  0.03099159,  1.6193956 ,  0.42591518,\n",
       "       -0.90360751, -1.44578694,  0.80141748,  0.15424738,  1.05504723])"
      ]
     },
     "execution_count": 173,
     "metadata": {},
     "output_type": "execute_result"
    }
   ],
   "source": [
    "np.random.randn(25)"
   ]
  },
  {
   "cell_type": "code",
   "execution_count": 179,
   "metadata": {},
   "outputs": [
    {
     "data": {
      "text/plain": [
       "array([[0.01, 0.02, 0.03, 0.04, 0.05, 0.06, 0.07, 0.08, 0.09, 0.1 ],\n",
       "       [0.11, 0.12, 0.13, 0.14, 0.15, 0.16, 0.17, 0.18, 0.19, 0.2 ],\n",
       "       [0.21, 0.22, 0.23, 0.24, 0.25, 0.26, 0.27, 0.28, 0.29, 0.3 ],\n",
       "       [0.31, 0.32, 0.33, 0.34, 0.35, 0.36, 0.37, 0.38, 0.39, 0.4 ],\n",
       "       [0.41, 0.42, 0.43, 0.44, 0.45, 0.46, 0.47, 0.48, 0.49, 0.5 ],\n",
       "       [0.51, 0.52, 0.53, 0.54, 0.55, 0.56, 0.57, 0.58, 0.59, 0.6 ],\n",
       "       [0.61, 0.62, 0.63, 0.64, 0.65, 0.66, 0.67, 0.68, 0.69, 0.7 ],\n",
       "       [0.71, 0.72, 0.73, 0.74, 0.75, 0.76, 0.77, 0.78, 0.79, 0.8 ],\n",
       "       [0.81, 0.82, 0.83, 0.84, 0.85, 0.86, 0.87, 0.88, 0.89, 0.9 ],\n",
       "       [0.91, 0.92, 0.93, 0.94, 0.95, 0.96, 0.97, 0.98, 0.99, 1.  ]])"
      ]
     },
     "execution_count": 179,
     "metadata": {},
     "output_type": "execute_result"
    }
   ],
   "source": [
    "np.arange(0.01,1.01,0.01).reshape(10,10)"
   ]
  },
  {
   "cell_type": "code",
   "execution_count": 180,
   "metadata": {},
   "outputs": [
    {
     "data": {
      "text/plain": [
       "array([0.        , 0.05263158, 0.10526316, 0.15789474, 0.21052632,\n",
       "       0.26315789, 0.31578947, 0.36842105, 0.42105263, 0.47368421,\n",
       "       0.52631579, 0.57894737, 0.63157895, 0.68421053, 0.73684211,\n",
       "       0.78947368, 0.84210526, 0.89473684, 0.94736842, 1.        ])"
      ]
     },
     "execution_count": 180,
     "metadata": {},
     "output_type": "execute_result"
    }
   ],
   "source": [
    "np.linspace(0,1,20)"
   ]
  },
  {
   "cell_type": "code",
   "execution_count": 182,
   "metadata": {},
   "outputs": [
    {
     "data": {
      "text/plain": [
       "array([[ 1,  2,  3,  4,  5],\n",
       "       [ 6,  7,  8,  9, 10],\n",
       "       [11, 12, 13, 14, 15],\n",
       "       [16, 17, 18, 19, 20],\n",
       "       [21, 22, 23, 24, 25]])"
      ]
     },
     "execution_count": 182,
     "metadata": {},
     "output_type": "execute_result"
    }
   ],
   "source": [
    "mat = np.arange(1,26).reshape(5,5)\n",
    "mat"
   ]
  },
  {
   "cell_type": "code",
   "execution_count": 266,
   "metadata": {},
   "outputs": [
    {
     "data": {
      "text/plain": [
       "array([[12, 13, 14, 15],\n",
       "       [17, 18, 19, 20],\n",
       "       [22, 23, 24, 25]])"
      ]
     },
     "execution_count": 266,
     "metadata": {},
     "output_type": "execute_result"
    }
   ],
   "source": [
    "mat[2:,1:] ## fuck, use a come, it's not a list!!"
   ]
  },
  {
   "cell_type": "code",
   "execution_count": 289,
   "metadata": {},
   "outputs": [
    {
     "data": {
      "text/plain": [
       "array([[ 2],\n",
       "       [ 7],\n",
       "       [12]])"
      ]
     },
     "execution_count": 289,
     "metadata": {},
     "output_type": "execute_result"
    }
   ],
   "source": [
    "mat[:3,1:2]"
   ]
  },
  {
   "cell_type": "code",
   "execution_count": 290,
   "metadata": {},
   "outputs": [
    {
     "data": {
      "text/plain": [
       "array([[ 1,  2,  3,  4,  5],\n",
       "       [ 6,  7,  8,  9, 10],\n",
       "       [11, 12, 13, 14, 15],\n",
       "       [16, 17, 18, 19, 20],\n",
       "       [21, 22, 23, 24, 25]])"
      ]
     },
     "execution_count": 290,
     "metadata": {},
     "output_type": "execute_result"
    }
   ],
   "source": [
    "mat\n"
   ]
  },
  {
   "cell_type": "code",
   "execution_count": 294,
   "metadata": {},
   "outputs": [
    {
     "data": {
      "text/plain": [
       "array([[16, 17, 18, 19, 20],\n",
       "       [21, 22, 23, 24, 25]])"
      ]
     },
     "execution_count": 294,
     "metadata": {},
     "output_type": "execute_result"
    }
   ],
   "source": [
    "mat[3:]"
   ]
  },
  {
   "cell_type": "code",
   "execution_count": 296,
   "metadata": {},
   "outputs": [
    {
     "data": {
      "text/plain": [
       "325"
      ]
     },
     "execution_count": 296,
     "metadata": {},
     "output_type": "execute_result"
    }
   ],
   "source": [
    "mat.sum()"
   ]
  },
  {
   "cell_type": "code",
   "execution_count": 303,
   "metadata": {},
   "outputs": [
    {
     "data": {
      "text/plain": [
       "array([[ 1,  2,  3,  4,  5],\n",
       "       [ 6,  7,  8,  9, 10],\n",
       "       [11, 12, 13, 14, 15],\n",
       "       [16, 17, 18, 19, 20],\n",
       "       [21, 22, 23, 24, 25]])"
      ]
     },
     "execution_count": 303,
     "metadata": {},
     "output_type": "execute_result"
    }
   ],
   "source": [
    "mat"
   ]
  },
  {
   "cell_type": "code",
   "execution_count": 363,
   "metadata": {},
   "outputs": [
    {
     "data": {
      "text/plain": [
       "array([55, 60, 65, 70, 75])"
      ]
     },
     "execution_count": 363,
     "metadata": {},
     "output_type": "execute_result"
    }
   ],
   "source": [
    "mat.sum(axis=0)"
   ]
  },
  {
   "cell_type": "code",
   "execution_count": 1,
   "metadata": {},
   "outputs": [],
   "source": [
    "## array of objects: \n",
    "import numpy as np"
   ]
  },
  {
   "cell_type": "code",
   "execution_count": 10,
   "metadata": {},
   "outputs": [],
   "source": [
    "arr = np.arange (0,50, dtype=object)"
   ]
  },
  {
   "cell_type": "code",
   "execution_count": 11,
   "metadata": {},
   "outputs": [
    {
     "data": {
      "text/plain": [
       "array([0, 1, 2, 3, 4, 5, 6, 7, 8, 9, 10, 11, 12, 13, 14, 15, 16, 17, 18,\n",
       "       19, 20, 21, 22, 23, 24, 25, 26, 27, 28, 29, 30, 31, 32, 33, 34, 35,\n",
       "       36, 37, 38, 39, 40, 41, 42, 43, 44, 45, 46, 47, 48, 49],\n",
       "      dtype=object)"
      ]
     },
     "execution_count": 11,
     "metadata": {},
     "output_type": "execute_result"
    }
   ],
   "source": [
    "arr\n"
   ]
  },
  {
   "cell_type": "code",
   "execution_count": 6,
   "metadata": {},
   "outputs": [],
   "source": [
    "### NLTK Tokenization \n",
    "import nltk\n"
   ]
  },
  {
   "cell_type": "code",
   "execution_count": null,
   "metadata": {},
   "outputs": [
    {
     "name": "stdout",
     "output_type": "stream",
     "text": [
      "showing info https://raw.githubusercontent.com/nltk/nltk_data/gh-pages/index.xml\n"
     ]
    }
   ],
   "source": [
    "nltk.download()"
   ]
  },
  {
   "cell_type": "code",
   "execution_count": 9,
   "metadata": {},
   "outputs": [],
   "source": [
    "text = \"WASHINGTON — Petro O. Poroshenko was still the president of Ukraine earlier this year when his team sought a lifeline. With the polls showing him in clear danger of losing his re-election campaign, some of his associates, eager to hold on to their own jobs and influence, took steps that could have yielded a signal of public support from a vital ally: President Trump. Over several weeks in March, the office of Ukraine’s top prosecutor moved ahead on two investigations of intense interest to Mr. Trump. One was focused on an oligarch — previously cleared of wrongdoing by the same prosecutor — whose company employed former Vice President Joseph R. Biden Jr.’s son. The other dealt with the release by a separate Ukrainian law enforcement agency to the media of information that hurt Mr. Trump’s 2016 campaign\""
   ]
  },
  {
   "cell_type": "code",
   "execution_count": 10,
   "metadata": {},
   "outputs": [
    {
     "data": {
      "text/plain": [
       "['WASHINGTON',\n",
       " '—',\n",
       " 'Petro',\n",
       " 'O.',\n",
       " 'Poroshenko',\n",
       " 'was',\n",
       " 'still',\n",
       " 'the',\n",
       " 'president',\n",
       " 'of',\n",
       " 'Ukraine',\n",
       " 'earlier',\n",
       " 'this',\n",
       " 'year',\n",
       " 'when',\n",
       " 'his',\n",
       " 'team',\n",
       " 'sought',\n",
       " 'a',\n",
       " 'lifeline.',\n",
       " 'With',\n",
       " 'the',\n",
       " 'polls',\n",
       " 'showing',\n",
       " 'him',\n",
       " 'in',\n",
       " 'clear',\n",
       " 'danger',\n",
       " 'of',\n",
       " 'losing',\n",
       " 'his',\n",
       " 're-election',\n",
       " 'campaign,',\n",
       " 'some',\n",
       " 'of',\n",
       " 'his',\n",
       " 'associates,',\n",
       " 'eager',\n",
       " 'to',\n",
       " 'hold',\n",
       " 'on',\n",
       " 'to',\n",
       " 'their',\n",
       " 'own',\n",
       " 'jobs',\n",
       " 'and',\n",
       " 'influence,',\n",
       " 'took',\n",
       " 'steps',\n",
       " 'that',\n",
       " 'could',\n",
       " 'have',\n",
       " 'yielded',\n",
       " 'a',\n",
       " 'signal',\n",
       " 'of',\n",
       " 'public',\n",
       " 'support',\n",
       " 'from',\n",
       " 'a',\n",
       " 'vital',\n",
       " 'ally:',\n",
       " 'President',\n",
       " 'Trump.',\n",
       " 'Over',\n",
       " 'several',\n",
       " 'weeks',\n",
       " 'in',\n",
       " 'March,',\n",
       " 'the',\n",
       " 'office',\n",
       " 'of',\n",
       " 'Ukraine’s',\n",
       " 'top',\n",
       " 'prosecutor',\n",
       " 'moved',\n",
       " 'ahead',\n",
       " 'on',\n",
       " 'two',\n",
       " 'investigations',\n",
       " 'of',\n",
       " 'intense',\n",
       " 'interest',\n",
       " 'to',\n",
       " 'Mr.',\n",
       " 'Trump.',\n",
       " 'One',\n",
       " 'was',\n",
       " 'focused',\n",
       " 'on',\n",
       " 'an',\n",
       " 'oligarch',\n",
       " '—',\n",
       " 'previously',\n",
       " 'cleared',\n",
       " 'of',\n",
       " 'wrongdoing',\n",
       " 'by',\n",
       " 'the',\n",
       " 'same',\n",
       " 'prosecutor',\n",
       " '—',\n",
       " 'whose',\n",
       " 'company',\n",
       " 'employed',\n",
       " 'former',\n",
       " 'Vice',\n",
       " 'President',\n",
       " 'Joseph',\n",
       " 'R.',\n",
       " 'Biden',\n",
       " 'Jr.’s',\n",
       " 'son.',\n",
       " 'The',\n",
       " 'other',\n",
       " 'dealt',\n",
       " 'with',\n",
       " 'the',\n",
       " 'release',\n",
       " 'by',\n",
       " 'a',\n",
       " 'separate',\n",
       " 'Ukrainian',\n",
       " 'law',\n",
       " 'enforcement',\n",
       " 'agency',\n",
       " 'to',\n",
       " 'the',\n",
       " 'media',\n",
       " 'of',\n",
       " 'information',\n",
       " 'that',\n",
       " 'hurt',\n",
       " 'Mr.',\n",
       " 'Trump’s',\n",
       " '2016',\n",
       " 'campaign']"
      ]
     },
     "execution_count": 10,
     "metadata": {},
     "output_type": "execute_result"
    }
   ],
   "source": [
    "tokenizer = nltk.tokenize.WhitespaceTokenizer()\n",
    "tokenizer.tokenize(text)"
   ]
  },
  {
   "cell_type": "code",
   "execution_count": 11,
   "metadata": {},
   "outputs": [
    {
     "data": {
      "text/plain": [
       "['WASHINGTON',\n",
       " '—',\n",
       " 'Petro',\n",
       " 'O.',\n",
       " 'Poroshenko',\n",
       " 'was',\n",
       " 'still',\n",
       " 'the',\n",
       " 'president',\n",
       " 'of',\n",
       " 'Ukraine',\n",
       " 'earlier',\n",
       " 'this',\n",
       " 'year',\n",
       " 'when',\n",
       " 'his',\n",
       " 'team',\n",
       " 'sought',\n",
       " 'a',\n",
       " 'lifeline.',\n",
       " 'With',\n",
       " 'the',\n",
       " 'polls',\n",
       " 'showing',\n",
       " 'him',\n",
       " 'in',\n",
       " 'clear',\n",
       " 'danger',\n",
       " 'of',\n",
       " 'losing',\n",
       " 'his',\n",
       " 're-election',\n",
       " 'campaign',\n",
       " ',',\n",
       " 'some',\n",
       " 'of',\n",
       " 'his',\n",
       " 'associates',\n",
       " ',',\n",
       " 'eager',\n",
       " 'to',\n",
       " 'hold',\n",
       " 'on',\n",
       " 'to',\n",
       " 'their',\n",
       " 'own',\n",
       " 'jobs',\n",
       " 'and',\n",
       " 'influence',\n",
       " ',',\n",
       " 'took',\n",
       " 'steps',\n",
       " 'that',\n",
       " 'could',\n",
       " 'have',\n",
       " 'yielded',\n",
       " 'a',\n",
       " 'signal',\n",
       " 'of',\n",
       " 'public',\n",
       " 'support',\n",
       " 'from',\n",
       " 'a',\n",
       " 'vital',\n",
       " 'ally',\n",
       " ':',\n",
       " 'President',\n",
       " 'Trump.',\n",
       " 'Over',\n",
       " 'several',\n",
       " 'weeks',\n",
       " 'in',\n",
       " 'March',\n",
       " ',',\n",
       " 'the',\n",
       " 'office',\n",
       " 'of',\n",
       " 'Ukraine',\n",
       " '’',\n",
       " 's',\n",
       " 'top',\n",
       " 'prosecutor',\n",
       " 'moved',\n",
       " 'ahead',\n",
       " 'on',\n",
       " 'two',\n",
       " 'investigations',\n",
       " 'of',\n",
       " 'intense',\n",
       " 'interest',\n",
       " 'to',\n",
       " 'Mr.',\n",
       " 'Trump.',\n",
       " 'One',\n",
       " 'was',\n",
       " 'focused',\n",
       " 'on',\n",
       " 'an',\n",
       " 'oligarch',\n",
       " '—',\n",
       " 'previously',\n",
       " 'cleared',\n",
       " 'of',\n",
       " 'wrongdoing',\n",
       " 'by',\n",
       " 'the',\n",
       " 'same',\n",
       " 'prosecutor',\n",
       " '—',\n",
       " 'whose',\n",
       " 'company',\n",
       " 'employed',\n",
       " 'former',\n",
       " 'Vice',\n",
       " 'President',\n",
       " 'Joseph',\n",
       " 'R.',\n",
       " 'Biden',\n",
       " 'Jr.',\n",
       " '’',\n",
       " 's',\n",
       " 'son.',\n",
       " 'The',\n",
       " 'other',\n",
       " 'dealt',\n",
       " 'with',\n",
       " 'the',\n",
       " 'release',\n",
       " 'by',\n",
       " 'a',\n",
       " 'separate',\n",
       " 'Ukrainian',\n",
       " 'law',\n",
       " 'enforcement',\n",
       " 'agency',\n",
       " 'to',\n",
       " 'the',\n",
       " 'media',\n",
       " 'of',\n",
       " 'information',\n",
       " 'that',\n",
       " 'hurt',\n",
       " 'Mr.',\n",
       " 'Trump',\n",
       " '’',\n",
       " 's',\n",
       " '2016',\n",
       " 'campaign']"
      ]
     },
     "execution_count": 11,
     "metadata": {},
     "output_type": "execute_result"
    }
   ],
   "source": [
    "tokenizer = nltk.tokenize.TreebankWordTokenizer()\n",
    "tokenizer.tokenize(text)"
   ]
  },
  {
   "cell_type": "code",
   "execution_count": 16,
   "metadata": {},
   "outputs": [
    {
     "data": {
      "text/plain": [
       "['WASHINGTON',\n",
       " '—',\n",
       " 'Petro',\n",
       " 'O',\n",
       " '.',\n",
       " 'Poroshenko',\n",
       " 'was',\n",
       " 'still',\n",
       " 'the',\n",
       " 'president',\n",
       " 'of',\n",
       " 'Ukraine',\n",
       " 'earlier',\n",
       " 'this',\n",
       " 'year',\n",
       " 'when',\n",
       " 'his',\n",
       " 'team',\n",
       " 'sought',\n",
       " 'a',\n",
       " 'lifeline',\n",
       " '.',\n",
       " 'With',\n",
       " 'the',\n",
       " 'polls',\n",
       " 'showing',\n",
       " 'him',\n",
       " 'in',\n",
       " 'clear',\n",
       " 'danger',\n",
       " 'of',\n",
       " 'losing',\n",
       " 'his',\n",
       " 're',\n",
       " '-',\n",
       " 'election',\n",
       " 'campaign',\n",
       " ',',\n",
       " 'some',\n",
       " 'of',\n",
       " 'his',\n",
       " 'associates',\n",
       " ',',\n",
       " 'eager',\n",
       " 'to',\n",
       " 'hold',\n",
       " 'on',\n",
       " 'to',\n",
       " 'their',\n",
       " 'own',\n",
       " 'jobs',\n",
       " 'and',\n",
       " 'influence',\n",
       " ',',\n",
       " 'took',\n",
       " 'steps',\n",
       " 'that',\n",
       " 'could',\n",
       " 'have',\n",
       " 'yielded',\n",
       " 'a',\n",
       " 'signal',\n",
       " 'of',\n",
       " 'public',\n",
       " 'support',\n",
       " 'from',\n",
       " 'a',\n",
       " 'vital',\n",
       " 'ally',\n",
       " ':',\n",
       " 'President',\n",
       " 'Trump',\n",
       " '.',\n",
       " 'Over',\n",
       " 'several',\n",
       " 'weeks',\n",
       " 'in',\n",
       " 'March',\n",
       " ',',\n",
       " 'the',\n",
       " 'office',\n",
       " 'of',\n",
       " 'Ukraine',\n",
       " '’',\n",
       " 's',\n",
       " 'top',\n",
       " 'prosecutor',\n",
       " 'moved',\n",
       " 'ahead',\n",
       " 'on',\n",
       " 'two',\n",
       " 'investigations',\n",
       " 'of',\n",
       " 'intense',\n",
       " 'interest',\n",
       " 'to',\n",
       " 'Mr',\n",
       " '.',\n",
       " 'Trump',\n",
       " '.',\n",
       " 'One',\n",
       " 'was',\n",
       " 'focused',\n",
       " 'on',\n",
       " 'an',\n",
       " 'oligarch',\n",
       " '—',\n",
       " 'previously',\n",
       " 'cleared',\n",
       " 'of',\n",
       " 'wrongdoing',\n",
       " 'by',\n",
       " 'the',\n",
       " 'same',\n",
       " 'prosecutor',\n",
       " '—',\n",
       " 'whose',\n",
       " 'company',\n",
       " 'employed',\n",
       " 'former',\n",
       " 'Vice',\n",
       " 'President',\n",
       " 'Joseph',\n",
       " 'R',\n",
       " '.',\n",
       " 'Biden',\n",
       " 'Jr',\n",
       " '.’',\n",
       " 's',\n",
       " 'son',\n",
       " '.',\n",
       " 'The',\n",
       " 'other',\n",
       " 'dealt',\n",
       " 'with',\n",
       " 'the',\n",
       " 'release',\n",
       " 'by',\n",
       " 'a',\n",
       " 'separate',\n",
       " 'Ukrainian',\n",
       " 'law',\n",
       " 'enforcement',\n",
       " 'agency',\n",
       " 'to',\n",
       " 'the',\n",
       " 'media',\n",
       " 'of',\n",
       " 'information',\n",
       " 'that',\n",
       " 'hurt',\n",
       " 'Mr',\n",
       " '.',\n",
       " 'Trump',\n",
       " '’',\n",
       " 's',\n",
       " '2016',\n",
       " 'campaign']"
      ]
     },
     "execution_count": 16,
     "metadata": {},
     "output_type": "execute_result"
    }
   ],
   "source": [
    "tokenizer = nltk.tokenize.WordPunctTokenizer()\n",
    "tokenizer.tokenize(text)\n"
   ]
  },
  {
   "cell_type": "code",
   "execution_count": 17,
   "metadata": {},
   "outputs": [],
   "source": [
    "## stemming\n",
    "\n",
    "stemmer = nltk.stem.PorterStemmer()\n"
   ]
  },
  {
   "cell_type": "code",
   "execution_count": 19,
   "metadata": {},
   "outputs": [
    {
     "data": {
      "text/plain": [
       "'washington — petro O . poroshenko wa still the presid of ukrain earlier thi year when hi team sought a lifelin . with the poll show him in clear danger of lose hi re - elect campaign , some of hi associ , eager to hold on to their own job and influenc , took step that could have yield a signal of public support from a vital alli : presid trump . over sever week in march , the offic of ukrain ’ s top prosecutor move ahead on two investig of intens interest to Mr . trump . one wa focus on an oligarch — previous clear of wrongdo by the same prosecutor — whose compani employ former vice presid joseph R . biden Jr .’ s son . the other dealt with the releas by a separ ukrainian law enforc agenc to the media of inform that hurt Mr . trump ’ s 2016 campaign'"
      ]
     },
     "execution_count": 19,
     "metadata": {},
     "output_type": "execute_result"
    }
   ],
   "source": [
    "\" \".join(stemmer.stem(token) for token in tokenizer.tokenize(text))"
   ]
  },
  {
   "cell_type": "code",
   "execution_count": 20,
   "metadata": {},
   "outputs": [],
   "source": [
    "## Lemmatizing"
   ]
  },
  {
   "cell_type": "code",
   "execution_count": 21,
   "metadata": {},
   "outputs": [],
   "source": [
    "stemmer = nltk.stem.WordNetLemmatizer()"
   ]
  },
  {
   "cell_type": "code",
   "execution_count": 22,
   "metadata": {},
   "outputs": [
    {
     "data": {
      "text/plain": [
       "'WASHINGTON — Petro O . Poroshenko wa still the president of Ukraine earlier this year when his team sought a lifeline . With the poll showing him in clear danger of losing his re - election campaign , some of his associate , eager to hold on to their own job and influence , took step that could have yielded a signal of public support from a vital ally : President Trump . Over several week in March , the office of Ukraine ’ s top prosecutor moved ahead on two investigation of intense interest to Mr . Trump . One wa focused on an oligarch — previously cleared of wrongdoing by the same prosecutor — whose company employed former Vice President Joseph R . Biden Jr .’ s son . The other dealt with the release by a separate Ukrainian law enforcement agency to the medium of information that hurt Mr . Trump ’ s 2016 campaign'"
      ]
     },
     "execution_count": 22,
     "metadata": {},
     "output_type": "execute_result"
    }
   ],
   "source": [
    "\" \".join(stemmer.lemmatize(token) for token in tokenizer.tokenize(text))"
   ]
  },
  {
   "cell_type": "code",
   "execution_count": 33,
   "metadata": {},
   "outputs": [],
   "source": [
    "## Pandas"
   ]
  },
  {
   "cell_type": "code",
   "execution_count": 34,
   "metadata": {},
   "outputs": [],
   "source": [
    "## Series "
   ]
  },
  {
   "cell_type": "code",
   "execution_count": 21,
   "metadata": {},
   "outputs": [],
   "source": [
    "import numpy as np\n",
    "import pandas as pd"
   ]
  },
  {
   "cell_type": "code",
   "execution_count": 20,
   "metadata": {},
   "outputs": [
    {
     "data": {
      "text/plain": [
       "{'a': 10, 'b': 20, 'c': 30}"
      ]
     },
     "execution_count": 20,
     "metadata": {},
     "output_type": "execute_result"
    }
   ],
   "source": [
    "letters = [\"a\",\"b\",\"c\"]\n",
    "data = [10,20,30]\n",
    "d = {}\n",
    "for i in range (len(letters)): ## build a dictioary from a list \n",
    "        d[letters[i]]=data[i]\n",
    "d"
   ]
  },
  {
   "cell_type": "code",
   "execution_count": 114,
   "metadata": {},
   "outputs": [
    {
     "data": {
      "text/plain": [
       "a    10\n",
       "b    20\n",
       "c    30\n",
       "dtype: int64"
      ]
     },
     "execution_count": 114,
     "metadata": {},
     "output_type": "execute_result"
    }
   ],
   "source": [
    "ser1= pd.Series(d)\n",
    "ser1"
   ]
  },
  {
   "cell_type": "code",
   "execution_count": 115,
   "metadata": {},
   "outputs": [
    {
     "data": {
      "text/plain": [
       "2    10\n",
       "4    20\n",
       "5    30\n",
       "dtype: int64"
      ]
     },
     "execution_count": 115,
     "metadata": {},
     "output_type": "execute_result"
    }
   ],
   "source": [
    "ser2=pd.Series(data, [2,4,5])\n",
    "ser2"
   ]
  },
  {
   "cell_type": "code",
   "execution_count": 57,
   "metadata": {},
   "outputs": [
    {
     "data": {
      "text/plain": [
       "a   NaN\n",
       "b   NaN\n",
       "c   NaN\n",
       "2   NaN\n",
       "4   NaN\n",
       "5   NaN\n",
       "dtype: float64"
      ]
     },
     "execution_count": 57,
     "metadata": {},
     "output_type": "execute_result"
    }
   ],
   "source": [
    "ser1+ser2 ## adding series, nan when the values in the series do not match "
   ]
  },
  {
   "cell_type": "code",
   "execution_count": 79,
   "metadata": {},
   "outputs": [],
   "source": [
    "from numpy.random import randn\n",
    "import pandas as pd\n",
    "              "
   ]
  },
  {
   "cell_type": "code",
   "execution_count": 80,
   "metadata": {},
   "outputs": [],
   "source": [
    "np.random.seed(101) "
   ]
  },
  {
   "cell_type": "code",
   "execution_count": 195,
   "metadata": {},
   "outputs": [],
   "source": [
    "## DataFrame(a bunch of series that share the same index, like excel sheets. used to read data from csv files\n",
    "\n",
    "df = pd.DataFrame(randn(5,4),[\"A\",\"B\",\"C\",\"E\",\"F\"],[\"W\",\"X\",\"Y\",\"Z\"]) ## 5 rows, 4 columns and corresponding values "
   ]
  },
  {
   "cell_type": "code",
   "execution_count": 156,
   "metadata": {},
   "outputs": [
    {
     "data": {
      "text/html": [
       "<div>\n",
       "<style scoped>\n",
       "    .dataframe tbody tr th:only-of-type {\n",
       "        vertical-align: middle;\n",
       "    }\n",
       "\n",
       "    .dataframe tbody tr th {\n",
       "        vertical-align: top;\n",
       "    }\n",
       "\n",
       "    .dataframe thead th {\n",
       "        text-align: right;\n",
       "    }\n",
       "</style>\n",
       "<table border=\"1\" class=\"dataframe\">\n",
       "  <thead>\n",
       "    <tr style=\"text-align: right;\">\n",
       "      <th></th>\n",
       "      <th>W</th>\n",
       "      <th>X</th>\n",
       "      <th>Y</th>\n",
       "      <th>Z</th>\n",
       "    </tr>\n",
       "  </thead>\n",
       "  <tbody>\n",
       "    <tr>\n",
       "      <th>A</th>\n",
       "      <td>1.585812</td>\n",
       "      <td>0.929658</td>\n",
       "      <td>-0.550876</td>\n",
       "      <td>0.942045</td>\n",
       "    </tr>\n",
       "    <tr>\n",
       "      <th>B</th>\n",
       "      <td>-0.975349</td>\n",
       "      <td>-1.054851</td>\n",
       "      <td>2.165421</td>\n",
       "      <td>-1.267240</td>\n",
       "    </tr>\n",
       "    <tr>\n",
       "      <th>C</th>\n",
       "      <td>-0.802843</td>\n",
       "      <td>-0.253479</td>\n",
       "      <td>0.090699</td>\n",
       "      <td>1.321715</td>\n",
       "    </tr>\n",
       "    <tr>\n",
       "      <th>E</th>\n",
       "      <td>0.794129</td>\n",
       "      <td>1.359712</td>\n",
       "      <td>0.771970</td>\n",
       "      <td>0.294217</td>\n",
       "    </tr>\n",
       "    <tr>\n",
       "      <th>F</th>\n",
       "      <td>-1.391519</td>\n",
       "      <td>0.147486</td>\n",
       "      <td>-0.729466</td>\n",
       "      <td>-0.720110</td>\n",
       "    </tr>\n",
       "  </tbody>\n",
       "</table>\n",
       "</div>"
      ],
      "text/plain": [
       "          W         X         Y         Z\n",
       "A  1.585812  0.929658 -0.550876  0.942045\n",
       "B -0.975349 -1.054851  2.165421 -1.267240\n",
       "C -0.802843 -0.253479  0.090699  1.321715\n",
       "E  0.794129  1.359712  0.771970  0.294217\n",
       "F -1.391519  0.147486 -0.729466 -0.720110"
      ]
     },
     "execution_count": 156,
     "metadata": {},
     "output_type": "execute_result"
    }
   ],
   "source": [
    "df\n"
   ]
  },
  {
   "cell_type": "code",
   "execution_count": 157,
   "metadata": {},
   "outputs": [
    {
     "data": {
      "text/plain": [
       "A    1.585812\n",
       "B   -0.975349\n",
       "C   -0.802843\n",
       "E    0.794129\n",
       "F   -1.391519\n",
       "Name: W, dtype: float64"
      ]
     },
     "execution_count": 157,
     "metadata": {},
     "output_type": "execute_result"
    }
   ],
   "source": [
    "df[\"W\"] ## grabs colums values in a form of series \n"
   ]
  },
  {
   "cell_type": "code",
   "execution_count": 136,
   "metadata": {},
   "outputs": [
    {
     "data": {
      "text/plain": [
       "-1.029577156962552"
      ]
     },
     "execution_count": 136,
     "metadata": {},
     "output_type": "execute_result"
    }
   ],
   "source": [
    "df[\"W\"][\"C\"] ## grapbs coordinates values, status with columsn first "
   ]
  },
  {
   "cell_type": "code",
   "execution_count": 122,
   "metadata": {},
   "outputs": [
    {
     "data": {
      "text/plain": [
       "pandas.core.series.Series"
      ]
     },
     "execution_count": 122,
     "metadata": {},
     "output_type": "execute_result"
    }
   ],
   "source": [
    "type(df[\"W\"])"
   ]
  },
  {
   "cell_type": "code",
   "execution_count": 123,
   "metadata": {},
   "outputs": [
    {
     "data": {
      "text/plain": [
       "pandas.core.frame.DataFrame"
      ]
     },
     "execution_count": 123,
     "metadata": {},
     "output_type": "execute_result"
    }
   ],
   "source": [
    "type(df)"
   ]
  },
  {
   "cell_type": "code",
   "execution_count": 138,
   "metadata": {},
   "outputs": [
    {
     "data": {
      "text/plain": [
       "-1.029577156962552"
      ]
     },
     "execution_count": 138,
     "metadata": {},
     "output_type": "execute_result"
    }
   ],
   "source": [
    "df.W.C ## another way of doing it, just like SQL"
   ]
  },
  {
   "cell_type": "code",
   "execution_count": 145,
   "metadata": {},
   "outputs": [
    {
     "data": {
      "text/html": [
       "<div>\n",
       "<style scoped>\n",
       "    .dataframe tbody tr th:only-of-type {\n",
       "        vertical-align: middle;\n",
       "    }\n",
       "\n",
       "    .dataframe tbody tr th {\n",
       "        vertical-align: top;\n",
       "    }\n",
       "\n",
       "    .dataframe thead th {\n",
       "        text-align: right;\n",
       "    }\n",
       "</style>\n",
       "<table border=\"1\" class=\"dataframe\">\n",
       "  <thead>\n",
       "    <tr style=\"text-align: right;\">\n",
       "      <th></th>\n",
       "      <th>W</th>\n",
       "      <th>Z</th>\n",
       "    </tr>\n",
       "  </thead>\n",
       "  <tbody>\n",
       "    <tr>\n",
       "      <th>A</th>\n",
       "      <td>0.889031</td>\n",
       "      <td>-1.076591</td>\n",
       "    </tr>\n",
       "    <tr>\n",
       "      <th>B</th>\n",
       "      <td>-0.580383</td>\n",
       "      <td>-0.820463</td>\n",
       "    </tr>\n",
       "    <tr>\n",
       "      <th>C</th>\n",
       "      <td>-1.029577</td>\n",
       "      <td>1.602816</td>\n",
       "    </tr>\n",
       "    <tr>\n",
       "      <th>E</th>\n",
       "      <td>0.185479</td>\n",
       "      <td>-1.335092</td>\n",
       "    </tr>\n",
       "    <tr>\n",
       "      <th>F</th>\n",
       "      <td>-0.089298</td>\n",
       "      <td>0.870907</td>\n",
       "    </tr>\n",
       "  </tbody>\n",
       "</table>\n",
       "</div>"
      ],
      "text/plain": [
       "          W         Z\n",
       "A  0.889031 -1.076591\n",
       "B -0.580383 -0.820463\n",
       "C -1.029577  1.602816\n",
       "E  0.185479 -1.335092\n",
       "F -0.089298  0.870907"
      ]
     },
     "execution_count": 145,
     "metadata": {},
     "output_type": "execute_result"
    }
   ],
   "source": [
    "df[[\"W\",\"Z\"]]"
   ]
  },
  {
   "cell_type": "code",
   "execution_count": 172,
   "metadata": {},
   "outputs": [
    {
     "data": {
      "text/plain": [
       "A    2.527857\n",
       "B   -2.242590\n",
       "C    0.518872\n",
       "E    1.088345\n",
       "F   -2.111629\n",
       "Name: New, dtype: float64"
      ]
     },
     "execution_count": 172,
     "metadata": {},
     "output_type": "execute_result"
    }
   ],
   "source": [
    "df[\"New\"] = df[\"W\"] + df[\"Z\"] ## added a new coloum to df\n",
    "df[\"New\"]"
   ]
  },
  {
   "cell_type": "code",
   "execution_count": 173,
   "metadata": {},
   "outputs": [
    {
     "data": {
      "text/html": [
       "<div>\n",
       "<style scoped>\n",
       "    .dataframe tbody tr th:only-of-type {\n",
       "        vertical-align: middle;\n",
       "    }\n",
       "\n",
       "    .dataframe tbody tr th {\n",
       "        vertical-align: top;\n",
       "    }\n",
       "\n",
       "    .dataframe thead th {\n",
       "        text-align: right;\n",
       "    }\n",
       "</style>\n",
       "<table border=\"1\" class=\"dataframe\">\n",
       "  <thead>\n",
       "    <tr style=\"text-align: right;\">\n",
       "      <th></th>\n",
       "      <th>W</th>\n",
       "      <th>X</th>\n",
       "      <th>Y</th>\n",
       "      <th>Z</th>\n",
       "      <th>New</th>\n",
       "    </tr>\n",
       "  </thead>\n",
       "  <tbody>\n",
       "    <tr>\n",
       "      <th>A</th>\n",
       "      <td>1.585812</td>\n",
       "      <td>0.929658</td>\n",
       "      <td>-0.550876</td>\n",
       "      <td>0.942045</td>\n",
       "      <td>2.527857</td>\n",
       "    </tr>\n",
       "    <tr>\n",
       "      <th>B</th>\n",
       "      <td>-0.975349</td>\n",
       "      <td>-1.054851</td>\n",
       "      <td>2.165421</td>\n",
       "      <td>-1.267240</td>\n",
       "      <td>-2.242590</td>\n",
       "    </tr>\n",
       "    <tr>\n",
       "      <th>C</th>\n",
       "      <td>-0.802843</td>\n",
       "      <td>-0.253479</td>\n",
       "      <td>0.090699</td>\n",
       "      <td>1.321715</td>\n",
       "      <td>0.518872</td>\n",
       "    </tr>\n",
       "    <tr>\n",
       "      <th>E</th>\n",
       "      <td>0.794129</td>\n",
       "      <td>1.359712</td>\n",
       "      <td>0.771970</td>\n",
       "      <td>0.294217</td>\n",
       "      <td>1.088345</td>\n",
       "    </tr>\n",
       "    <tr>\n",
       "      <th>F</th>\n",
       "      <td>-1.391519</td>\n",
       "      <td>0.147486</td>\n",
       "      <td>-0.729466</td>\n",
       "      <td>-0.720110</td>\n",
       "      <td>-2.111629</td>\n",
       "    </tr>\n",
       "  </tbody>\n",
       "</table>\n",
       "</div>"
      ],
      "text/plain": [
       "          W         X         Y         Z       New\n",
       "A  1.585812  0.929658 -0.550876  0.942045  2.527857\n",
       "B -0.975349 -1.054851  2.165421 -1.267240 -2.242590\n",
       "C -0.802843 -0.253479  0.090699  1.321715  0.518872\n",
       "E  0.794129  1.359712  0.771970  0.294217  1.088345\n",
       "F -1.391519  0.147486 -0.729466 -0.720110 -2.111629"
      ]
     },
     "execution_count": 173,
     "metadata": {},
     "output_type": "execute_result"
    }
   ],
   "source": [
    "df"
   ]
  },
  {
   "cell_type": "code",
   "execution_count": 174,
   "metadata": {},
   "outputs": [
    {
     "data": {
      "text/html": [
       "<div>\n",
       "<style scoped>\n",
       "    .dataframe tbody tr th:only-of-type {\n",
       "        vertical-align: middle;\n",
       "    }\n",
       "\n",
       "    .dataframe tbody tr th {\n",
       "        vertical-align: top;\n",
       "    }\n",
       "\n",
       "    .dataframe thead th {\n",
       "        text-align: right;\n",
       "    }\n",
       "</style>\n",
       "<table border=\"1\" class=\"dataframe\">\n",
       "  <thead>\n",
       "    <tr style=\"text-align: right;\">\n",
       "      <th></th>\n",
       "      <th>W</th>\n",
       "      <th>X</th>\n",
       "      <th>Y</th>\n",
       "      <th>Z</th>\n",
       "    </tr>\n",
       "  </thead>\n",
       "  <tbody>\n",
       "    <tr>\n",
       "      <th>A</th>\n",
       "      <td>1.585812</td>\n",
       "      <td>0.929658</td>\n",
       "      <td>-0.550876</td>\n",
       "      <td>0.942045</td>\n",
       "    </tr>\n",
       "    <tr>\n",
       "      <th>B</th>\n",
       "      <td>-0.975349</td>\n",
       "      <td>-1.054851</td>\n",
       "      <td>2.165421</td>\n",
       "      <td>-1.267240</td>\n",
       "    </tr>\n",
       "    <tr>\n",
       "      <th>C</th>\n",
       "      <td>-0.802843</td>\n",
       "      <td>-0.253479</td>\n",
       "      <td>0.090699</td>\n",
       "      <td>1.321715</td>\n",
       "    </tr>\n",
       "    <tr>\n",
       "      <th>E</th>\n",
       "      <td>0.794129</td>\n",
       "      <td>1.359712</td>\n",
       "      <td>0.771970</td>\n",
       "      <td>0.294217</td>\n",
       "    </tr>\n",
       "    <tr>\n",
       "      <th>F</th>\n",
       "      <td>-1.391519</td>\n",
       "      <td>0.147486</td>\n",
       "      <td>-0.729466</td>\n",
       "      <td>-0.720110</td>\n",
       "    </tr>\n",
       "  </tbody>\n",
       "</table>\n",
       "</div>"
      ],
      "text/plain": [
       "          W         X         Y         Z\n",
       "A  1.585812  0.929658 -0.550876  0.942045\n",
       "B -0.975349 -1.054851  2.165421 -1.267240\n",
       "C -0.802843 -0.253479  0.090699  1.321715\n",
       "E  0.794129  1.359712  0.771970  0.294217\n",
       "F -1.391519  0.147486 -0.729466 -0.720110"
      ]
     },
     "execution_count": 174,
     "metadata": {},
     "output_type": "execute_result"
    }
   ],
   "source": [
    " df.drop(\"New\",axis=1) ## axis=1 to specify the column "
   ]
  },
  {
   "cell_type": "code",
   "execution_count": 175,
   "metadata": {},
   "outputs": [
    {
     "data": {
      "text/html": [
       "<div>\n",
       "<style scoped>\n",
       "    .dataframe tbody tr th:only-of-type {\n",
       "        vertical-align: middle;\n",
       "    }\n",
       "\n",
       "    .dataframe tbody tr th {\n",
       "        vertical-align: top;\n",
       "    }\n",
       "\n",
       "    .dataframe thead th {\n",
       "        text-align: right;\n",
       "    }\n",
       "</style>\n",
       "<table border=\"1\" class=\"dataframe\">\n",
       "  <thead>\n",
       "    <tr style=\"text-align: right;\">\n",
       "      <th></th>\n",
       "      <th>W</th>\n",
       "      <th>X</th>\n",
       "      <th>Y</th>\n",
       "      <th>Z</th>\n",
       "      <th>New</th>\n",
       "    </tr>\n",
       "  </thead>\n",
       "  <tbody>\n",
       "    <tr>\n",
       "      <th>A</th>\n",
       "      <td>1.585812</td>\n",
       "      <td>0.929658</td>\n",
       "      <td>-0.550876</td>\n",
       "      <td>0.942045</td>\n",
       "      <td>2.527857</td>\n",
       "    </tr>\n",
       "    <tr>\n",
       "      <th>B</th>\n",
       "      <td>-0.975349</td>\n",
       "      <td>-1.054851</td>\n",
       "      <td>2.165421</td>\n",
       "      <td>-1.267240</td>\n",
       "      <td>-2.242590</td>\n",
       "    </tr>\n",
       "    <tr>\n",
       "      <th>C</th>\n",
       "      <td>-0.802843</td>\n",
       "      <td>-0.253479</td>\n",
       "      <td>0.090699</td>\n",
       "      <td>1.321715</td>\n",
       "      <td>0.518872</td>\n",
       "    </tr>\n",
       "    <tr>\n",
       "      <th>E</th>\n",
       "      <td>0.794129</td>\n",
       "      <td>1.359712</td>\n",
       "      <td>0.771970</td>\n",
       "      <td>0.294217</td>\n",
       "      <td>1.088345</td>\n",
       "    </tr>\n",
       "    <tr>\n",
       "      <th>F</th>\n",
       "      <td>-1.391519</td>\n",
       "      <td>0.147486</td>\n",
       "      <td>-0.729466</td>\n",
       "      <td>-0.720110</td>\n",
       "      <td>-2.111629</td>\n",
       "    </tr>\n",
       "  </tbody>\n",
       "</table>\n",
       "</div>"
      ],
      "text/plain": [
       "          W         X         Y         Z       New\n",
       "A  1.585812  0.929658 -0.550876  0.942045  2.527857\n",
       "B -0.975349 -1.054851  2.165421 -1.267240 -2.242590\n",
       "C -0.802843 -0.253479  0.090699  1.321715  0.518872\n",
       "E  0.794129  1.359712  0.771970  0.294217  1.088345\n",
       "F -1.391519  0.147486 -0.729466 -0.720110 -2.111629"
      ]
     },
     "execution_count": 175,
     "metadata": {},
     "output_type": "execute_result"
    }
   ],
   "source": [
    " df ## new not removed permantly unless you specify inplace=True"
   ]
  },
  {
   "cell_type": "code",
   "execution_count": 176,
   "metadata": {},
   "outputs": [],
   "source": [
    "df.drop(\"New\",axis=1,inplace=True)"
   ]
  },
  {
   "cell_type": "code",
   "execution_count": 177,
   "metadata": {},
   "outputs": [
    {
     "data": {
      "text/html": [
       "<div>\n",
       "<style scoped>\n",
       "    .dataframe tbody tr th:only-of-type {\n",
       "        vertical-align: middle;\n",
       "    }\n",
       "\n",
       "    .dataframe tbody tr th {\n",
       "        vertical-align: top;\n",
       "    }\n",
       "\n",
       "    .dataframe thead th {\n",
       "        text-align: right;\n",
       "    }\n",
       "</style>\n",
       "<table border=\"1\" class=\"dataframe\">\n",
       "  <thead>\n",
       "    <tr style=\"text-align: right;\">\n",
       "      <th></th>\n",
       "      <th>W</th>\n",
       "      <th>X</th>\n",
       "      <th>Y</th>\n",
       "      <th>Z</th>\n",
       "    </tr>\n",
       "  </thead>\n",
       "  <tbody>\n",
       "    <tr>\n",
       "      <th>A</th>\n",
       "      <td>1.585812</td>\n",
       "      <td>0.929658</td>\n",
       "      <td>-0.550876</td>\n",
       "      <td>0.942045</td>\n",
       "    </tr>\n",
       "    <tr>\n",
       "      <th>B</th>\n",
       "      <td>-0.975349</td>\n",
       "      <td>-1.054851</td>\n",
       "      <td>2.165421</td>\n",
       "      <td>-1.267240</td>\n",
       "    </tr>\n",
       "    <tr>\n",
       "      <th>C</th>\n",
       "      <td>-0.802843</td>\n",
       "      <td>-0.253479</td>\n",
       "      <td>0.090699</td>\n",
       "      <td>1.321715</td>\n",
       "    </tr>\n",
       "    <tr>\n",
       "      <th>E</th>\n",
       "      <td>0.794129</td>\n",
       "      <td>1.359712</td>\n",
       "      <td>0.771970</td>\n",
       "      <td>0.294217</td>\n",
       "    </tr>\n",
       "    <tr>\n",
       "      <th>F</th>\n",
       "      <td>-1.391519</td>\n",
       "      <td>0.147486</td>\n",
       "      <td>-0.729466</td>\n",
       "      <td>-0.720110</td>\n",
       "    </tr>\n",
       "  </tbody>\n",
       "</table>\n",
       "</div>"
      ],
      "text/plain": [
       "          W         X         Y         Z\n",
       "A  1.585812  0.929658 -0.550876  0.942045\n",
       "B -0.975349 -1.054851  2.165421 -1.267240\n",
       "C -0.802843 -0.253479  0.090699  1.321715\n",
       "E  0.794129  1.359712  0.771970  0.294217\n",
       "F -1.391519  0.147486 -0.729466 -0.720110"
      ]
     },
     "execution_count": 177,
     "metadata": {},
     "output_type": "execute_result"
    }
   ],
   "source": [
    "df"
   ]
  },
  {
   "cell_type": "code",
   "execution_count": 154,
   "metadata": {},
   "outputs": [
    {
     "data": {
      "text/html": [
       "<div>\n",
       "<style scoped>\n",
       "    .dataframe tbody tr th:only-of-type {\n",
       "        vertical-align: middle;\n",
       "    }\n",
       "\n",
       "    .dataframe tbody tr th {\n",
       "        vertical-align: top;\n",
       "    }\n",
       "\n",
       "    .dataframe thead th {\n",
       "        text-align: right;\n",
       "    }\n",
       "</style>\n",
       "<table border=\"1\" class=\"dataframe\">\n",
       "  <thead>\n",
       "    <tr style=\"text-align: right;\">\n",
       "      <th></th>\n",
       "      <th>W</th>\n",
       "      <th>X</th>\n",
       "      <th>Y</th>\n",
       "      <th>Z</th>\n",
       "      <th>New</th>\n",
       "    </tr>\n",
       "  </thead>\n",
       "  <tbody>\n",
       "    <tr>\n",
       "      <th>B</th>\n",
       "      <td>-0.580383</td>\n",
       "      <td>1.209027</td>\n",
       "      <td>1.201744</td>\n",
       "      <td>-0.820463</td>\n",
       "      <td>-1.400846</td>\n",
       "    </tr>\n",
       "    <tr>\n",
       "      <th>C</th>\n",
       "      <td>-1.029577</td>\n",
       "      <td>-1.524856</td>\n",
       "      <td>-0.854860</td>\n",
       "      <td>1.602816</td>\n",
       "      <td>0.573238</td>\n",
       "    </tr>\n",
       "    <tr>\n",
       "      <th>E</th>\n",
       "      <td>0.185479</td>\n",
       "      <td>-0.994018</td>\n",
       "      <td>-0.131906</td>\n",
       "      <td>-1.335092</td>\n",
       "      <td>-1.149613</td>\n",
       "    </tr>\n",
       "    <tr>\n",
       "      <th>F</th>\n",
       "      <td>-0.089298</td>\n",
       "      <td>0.698566</td>\n",
       "      <td>-1.409126</td>\n",
       "      <td>0.870907</td>\n",
       "      <td>0.781609</td>\n",
       "    </tr>\n",
       "  </tbody>\n",
       "</table>\n",
       "</div>"
      ],
      "text/plain": [
       "          W         X         Y         Z       New\n",
       "B -0.580383  1.209027  1.201744 -0.820463 -1.400846\n",
       "C -1.029577 -1.524856 -0.854860  1.602816  0.573238\n",
       "E  0.185479 -0.994018 -0.131906 -1.335092 -1.149613\n",
       "F -0.089298  0.698566 -1.409126  0.870907  0.781609"
      ]
     },
     "execution_count": 154,
     "metadata": {},
     "output_type": "execute_result"
    }
   ],
   "source": [
    " df.drop(\"A\") ## dopped a line, no need to specify the axis"
   ]
  },
  {
   "cell_type": "code",
   "execution_count": 178,
   "metadata": {},
   "outputs": [
    {
     "data": {
      "text/html": [
       "<div>\n",
       "<style scoped>\n",
       "    .dataframe tbody tr th:only-of-type {\n",
       "        vertical-align: middle;\n",
       "    }\n",
       "\n",
       "    .dataframe tbody tr th {\n",
       "        vertical-align: top;\n",
       "    }\n",
       "\n",
       "    .dataframe thead th {\n",
       "        text-align: right;\n",
       "    }\n",
       "</style>\n",
       "<table border=\"1\" class=\"dataframe\">\n",
       "  <thead>\n",
       "    <tr style=\"text-align: right;\">\n",
       "      <th></th>\n",
       "      <th>W</th>\n",
       "      <th>X</th>\n",
       "      <th>Y</th>\n",
       "      <th>Z</th>\n",
       "    </tr>\n",
       "  </thead>\n",
       "  <tbody>\n",
       "    <tr>\n",
       "      <th>A</th>\n",
       "      <td>1.585812</td>\n",
       "      <td>0.929658</td>\n",
       "      <td>-0.550876</td>\n",
       "      <td>0.942045</td>\n",
       "    </tr>\n",
       "    <tr>\n",
       "      <th>B</th>\n",
       "      <td>-0.975349</td>\n",
       "      <td>-1.054851</td>\n",
       "      <td>2.165421</td>\n",
       "      <td>-1.267240</td>\n",
       "    </tr>\n",
       "    <tr>\n",
       "      <th>C</th>\n",
       "      <td>-0.802843</td>\n",
       "      <td>-0.253479</td>\n",
       "      <td>0.090699</td>\n",
       "      <td>1.321715</td>\n",
       "    </tr>\n",
       "    <tr>\n",
       "      <th>E</th>\n",
       "      <td>0.794129</td>\n",
       "      <td>1.359712</td>\n",
       "      <td>0.771970</td>\n",
       "      <td>0.294217</td>\n",
       "    </tr>\n",
       "    <tr>\n",
       "      <th>F</th>\n",
       "      <td>-1.391519</td>\n",
       "      <td>0.147486</td>\n",
       "      <td>-0.729466</td>\n",
       "      <td>-0.720110</td>\n",
       "    </tr>\n",
       "  </tbody>\n",
       "</table>\n",
       "</div>"
      ],
      "text/plain": [
       "          W         X         Y         Z\n",
       "A  1.585812  0.929658 -0.550876  0.942045\n",
       "B -0.975349 -1.054851  2.165421 -1.267240\n",
       "C -0.802843 -0.253479  0.090699  1.321715\n",
       "E  0.794129  1.359712  0.771970  0.294217\n",
       "F -1.391519  0.147486 -0.729466 -0.720110"
      ]
     },
     "execution_count": 178,
     "metadata": {},
     "output_type": "execute_result"
    }
   ],
   "source": [
    "df"
   ]
  },
  {
   "cell_type": "code",
   "execution_count": 183,
   "metadata": {},
   "outputs": [
    {
     "data": {
      "text/plain": [
       "W    1.585812\n",
       "X    0.929658\n",
       "Y   -0.550876\n",
       "Z    0.942045\n",
       "Name: A, dtype: float64"
      ]
     },
     "execution_count": 183,
     "metadata": {},
     "output_type": "execute_result"
    }
   ],
   "source": [
    "df.loc[\"A\"] ## to return the values of the index, or row"
   ]
  },
  {
   "cell_type": "code",
   "execution_count": 185,
   "metadata": {},
   "outputs": [
    {
     "data": {
      "text/plain": [
       "W    1.585812\n",
       "X    0.929658\n",
       "Y   -0.550876\n",
       "Z    0.942045\n",
       "Name: A, dtype: float64"
      ]
     },
     "execution_count": 185,
     "metadata": {},
     "output_type": "execute_result"
    }
   ],
   "source": [
    "df.iloc[0] ## use iloc to return the values of index, or row"
   ]
  },
  {
   "cell_type": "code",
   "execution_count": 194,
   "metadata": {},
   "outputs": [
    {
     "data": {
      "text/html": [
       "<div>\n",
       "<style scoped>\n",
       "    .dataframe tbody tr th:only-of-type {\n",
       "        vertical-align: middle;\n",
       "    }\n",
       "\n",
       "    .dataframe tbody tr th {\n",
       "        vertical-align: top;\n",
       "    }\n",
       "\n",
       "    .dataframe thead th {\n",
       "        text-align: right;\n",
       "    }\n",
       "</style>\n",
       "<table border=\"1\" class=\"dataframe\">\n",
       "  <thead>\n",
       "    <tr style=\"text-align: right;\">\n",
       "      <th></th>\n",
       "      <th>X</th>\n",
       "      <th>Y</th>\n",
       "      <th>Z</th>\n",
       "    </tr>\n",
       "  </thead>\n",
       "  <tbody>\n",
       "    <tr>\n",
       "      <th>E</th>\n",
       "      <td>1.359712</td>\n",
       "      <td>0.771970</td>\n",
       "      <td>0.294217</td>\n",
       "    </tr>\n",
       "    <tr>\n",
       "      <th>F</th>\n",
       "      <td>0.147486</td>\n",
       "      <td>-0.729466</td>\n",
       "      <td>-0.720110</td>\n",
       "    </tr>\n",
       "  </tbody>\n",
       "</table>\n",
       "</div>"
      ],
      "text/plain": [
       "          X         Y         Z\n",
       "E  1.359712  0.771970  0.294217\n",
       "F  0.147486 -0.729466 -0.720110"
      ]
     },
     "execution_count": 194,
     "metadata": {},
     "output_type": "execute_result"
    }
   ],
   "source": [
    "df.loc[\"E\":,\"X\":] ## grab values from the DataFrame "
   ]
  },
  {
   "cell_type": "code",
   "execution_count": 201,
   "metadata": {},
   "outputs": [
    {
     "data": {
      "text/html": [
       "<div>\n",
       "<style scoped>\n",
       "    .dataframe tbody tr th:only-of-type {\n",
       "        vertical-align: middle;\n",
       "    }\n",
       "\n",
       "    .dataframe tbody tr th {\n",
       "        vertical-align: top;\n",
       "    }\n",
       "\n",
       "    .dataframe thead th {\n",
       "        text-align: right;\n",
       "    }\n",
       "</style>\n",
       "<table border=\"1\" class=\"dataframe\">\n",
       "  <thead>\n",
       "    <tr style=\"text-align: right;\">\n",
       "      <th></th>\n",
       "      <th>W</th>\n",
       "      <th>X</th>\n",
       "      <th>Y</th>\n",
       "      <th>Z</th>\n",
       "    </tr>\n",
       "  </thead>\n",
       "  <tbody>\n",
       "    <tr>\n",
       "      <th>A</th>\n",
       "      <td>False</td>\n",
       "      <td>True</td>\n",
       "      <td>True</td>\n",
       "      <td>True</td>\n",
       "    </tr>\n",
       "    <tr>\n",
       "      <th>B</th>\n",
       "      <td>False</td>\n",
       "      <td>False</td>\n",
       "      <td>False</td>\n",
       "      <td>True</td>\n",
       "    </tr>\n",
       "    <tr>\n",
       "      <th>C</th>\n",
       "      <td>True</td>\n",
       "      <td>False</td>\n",
       "      <td>True</td>\n",
       "      <td>True</td>\n",
       "    </tr>\n",
       "    <tr>\n",
       "      <th>E</th>\n",
       "      <td>True</td>\n",
       "      <td>True</td>\n",
       "      <td>False</td>\n",
       "      <td>False</td>\n",
       "    </tr>\n",
       "    <tr>\n",
       "      <th>F</th>\n",
       "      <td>False</td>\n",
       "      <td>False</td>\n",
       "      <td>False</td>\n",
       "      <td>False</td>\n",
       "    </tr>\n",
       "  </tbody>\n",
       "</table>\n",
       "</div>"
      ],
      "text/plain": [
       "       W      X      Y      Z\n",
       "A  False   True   True   True\n",
       "B  False  False  False   True\n",
       "C   True  False   True   True\n",
       "E   True   True  False  False\n",
       "F  False  False  False  False"
      ]
     },
     "execution_count": 201,
     "metadata": {},
     "output_type": "execute_result"
    }
   ],
   "source": [
    " df > 0 ## where the bool is true"
   ]
  },
  {
   "cell_type": "code",
   "execution_count": 203,
   "metadata": {},
   "outputs": [
    {
     "data": {
      "text/html": [
       "<div>\n",
       "<style scoped>\n",
       "    .dataframe tbody tr th:only-of-type {\n",
       "        vertical-align: middle;\n",
       "    }\n",
       "\n",
       "    .dataframe tbody tr th {\n",
       "        vertical-align: top;\n",
       "    }\n",
       "\n",
       "    .dataframe thead th {\n",
       "        text-align: right;\n",
       "    }\n",
       "</style>\n",
       "<table border=\"1\" class=\"dataframe\">\n",
       "  <thead>\n",
       "    <tr style=\"text-align: right;\">\n",
       "      <th></th>\n",
       "      <th>W</th>\n",
       "      <th>X</th>\n",
       "      <th>Y</th>\n",
       "      <th>Z</th>\n",
       "    </tr>\n",
       "  </thead>\n",
       "  <tbody>\n",
       "    <tr>\n",
       "      <th>A</th>\n",
       "      <td>NaN</td>\n",
       "      <td>2.090539</td>\n",
       "      <td>1.004056</td>\n",
       "      <td>1.031916</td>\n",
       "    </tr>\n",
       "    <tr>\n",
       "      <th>B</th>\n",
       "      <td>NaN</td>\n",
       "      <td>NaN</td>\n",
       "      <td>NaN</td>\n",
       "      <td>0.292795</td>\n",
       "    </tr>\n",
       "    <tr>\n",
       "      <th>C</th>\n",
       "      <td>0.834355</td>\n",
       "      <td>NaN</td>\n",
       "      <td>0.119145</td>\n",
       "      <td>0.665715</td>\n",
       "    </tr>\n",
       "    <tr>\n",
       "      <th>E</th>\n",
       "      <td>0.407586</td>\n",
       "      <td>0.807843</td>\n",
       "      <td>NaN</td>\n",
       "      <td>NaN</td>\n",
       "    </tr>\n",
       "    <tr>\n",
       "      <th>F</th>\n",
       "      <td>NaN</td>\n",
       "      <td>NaN</td>\n",
       "      <td>NaN</td>\n",
       "      <td>NaN</td>\n",
       "    </tr>\n",
       "  </tbody>\n",
       "</table>\n",
       "</div>"
      ],
      "text/plain": [
       "          W         X         Y         Z\n",
       "A       NaN  2.090539  1.004056  1.031916\n",
       "B       NaN       NaN       NaN  0.292795\n",
       "C  0.834355       NaN  0.119145  0.665715\n",
       "E  0.407586  0.807843       NaN       NaN\n",
       "F       NaN       NaN       NaN       NaN"
      ]
     },
     "execution_count": 203,
     "metadata": {},
     "output_type": "execute_result"
    }
   ],
   "source": [
    "df[df>0] ## grab the values when the bool is true "
   ]
  },
  {
   "cell_type": "code",
   "execution_count": 221,
   "metadata": {},
   "outputs": [
    {
     "data": {
      "text/html": [
       "<div>\n",
       "<style scoped>\n",
       "    .dataframe tbody tr th:only-of-type {\n",
       "        vertical-align: middle;\n",
       "    }\n",
       "\n",
       "    .dataframe tbody tr th {\n",
       "        vertical-align: top;\n",
       "    }\n",
       "\n",
       "    .dataframe thead th {\n",
       "        text-align: right;\n",
       "    }\n",
       "</style>\n",
       "<table border=\"1\" class=\"dataframe\">\n",
       "  <thead>\n",
       "    <tr style=\"text-align: right;\">\n",
       "      <th></th>\n",
       "      <th>W</th>\n",
       "      <th>X</th>\n",
       "      <th>Y</th>\n",
       "      <th>Z</th>\n",
       "    </tr>\n",
       "  </thead>\n",
       "  <tbody>\n",
       "    <tr>\n",
       "      <th>A</th>\n",
       "      <td>-0.285257</td>\n",
       "      <td>2.090539</td>\n",
       "      <td>1.004056</td>\n",
       "      <td>1.031916</td>\n",
       "    </tr>\n",
       "    <tr>\n",
       "      <th>E</th>\n",
       "      <td>0.407586</td>\n",
       "      <td>0.807843</td>\n",
       "      <td>-2.736464</td>\n",
       "      <td>-0.985153</td>\n",
       "    </tr>\n",
       "  </tbody>\n",
       "</table>\n",
       "</div>"
      ],
      "text/plain": [
       "          W         X         Y         Z\n",
       "A -0.285257  2.090539  1.004056  1.031916\n",
       "E  0.407586  0.807843 -2.736464 -0.985153"
      ]
     },
     "execution_count": 221,
     "metadata": {},
     "output_type": "execute_result"
    }
   ],
   "source": [
    "df[df[\"X\"]>0] ## filter value in colomn X that are > 0"
   ]
  },
  {
   "cell_type": "code",
   "execution_count": 223,
   "metadata": {},
   "outputs": [
    {
     "data": {
      "text/plain": [
       "A    1.031916\n",
       "E   -0.985153\n",
       "Name: Z, dtype: float64"
      ]
     },
     "execution_count": 223,
     "metadata": {},
     "output_type": "execute_result"
    }
   ],
   "source": [
    "df[df[\"X\"]>0][\"Z\"] ## filter value in colomn X that are > 0 and by colom that meet the condition"
   ]
  },
  {
   "cell_type": "code",
   "execution_count": 233,
   "metadata": {},
   "outputs": [
    {
     "data": {
      "text/html": [
       "<div>\n",
       "<style scoped>\n",
       "    .dataframe tbody tr th:only-of-type {\n",
       "        vertical-align: middle;\n",
       "    }\n",
       "\n",
       "    .dataframe tbody tr th {\n",
       "        vertical-align: top;\n",
       "    }\n",
       "\n",
       "    .dataframe thead th {\n",
       "        text-align: right;\n",
       "    }\n",
       "</style>\n",
       "<table border=\"1\" class=\"dataframe\">\n",
       "  <thead>\n",
       "    <tr style=\"text-align: right;\">\n",
       "      <th></th>\n",
       "      <th>W</th>\n",
       "      <th>X</th>\n",
       "      <th>Y</th>\n",
       "      <th>Z</th>\n",
       "    </tr>\n",
       "  </thead>\n",
       "  <tbody>\n",
       "    <tr>\n",
       "      <th>A</th>\n",
       "      <td>-0.285257</td>\n",
       "      <td>2.090539</td>\n",
       "      <td>1.004056</td>\n",
       "      <td>1.031916</td>\n",
       "    </tr>\n",
       "  </tbody>\n",
       "</table>\n",
       "</div>"
      ],
      "text/plain": [
       "          W         X         Y         Z\n",
       "A -0.285257  2.090539  1.004056  1.031916"
      ]
     },
     "execution_count": 233,
     "metadata": {},
     "output_type": "execute_result"
    }
   ],
   "source": [
    "df[(df[\"X\"]>0) & (df[\"Z\"]>1)] ## filter value in colomn X that are > 0 and in colom Z that are > 1, we use & instead of + or , "
   ]
  },
  {
   "cell_type": "code",
   "execution_count": 234,
   "metadata": {},
   "outputs": [
    {
     "data": {
      "text/html": [
       "<div>\n",
       "<style scoped>\n",
       "    .dataframe tbody tr th:only-of-type {\n",
       "        vertical-align: middle;\n",
       "    }\n",
       "\n",
       "    .dataframe tbody tr th {\n",
       "        vertical-align: top;\n",
       "    }\n",
       "\n",
       "    .dataframe thead th {\n",
       "        text-align: right;\n",
       "    }\n",
       "</style>\n",
       "<table border=\"1\" class=\"dataframe\">\n",
       "  <thead>\n",
       "    <tr style=\"text-align: right;\">\n",
       "      <th></th>\n",
       "      <th>W</th>\n",
       "      <th>X</th>\n",
       "      <th>Y</th>\n",
       "      <th>Z</th>\n",
       "    </tr>\n",
       "  </thead>\n",
       "  <tbody>\n",
       "    <tr>\n",
       "      <th>A</th>\n",
       "      <td>-0.285257</td>\n",
       "      <td>2.090539</td>\n",
       "      <td>1.004056</td>\n",
       "      <td>1.031916</td>\n",
       "    </tr>\n",
       "    <tr>\n",
       "      <th>E</th>\n",
       "      <td>0.407586</td>\n",
       "      <td>0.807843</td>\n",
       "      <td>-2.736464</td>\n",
       "      <td>-0.985153</td>\n",
       "    </tr>\n",
       "  </tbody>\n",
       "</table>\n",
       "</div>"
      ],
      "text/plain": [
       "          W         X         Y         Z\n",
       "A -0.285257  2.090539  1.004056  1.031916\n",
       "E  0.407586  0.807843 -2.736464 -0.985153"
      ]
     },
     "execution_count": 234,
     "metadata": {},
     "output_type": "execute_result"
    }
   ],
   "source": [
    "df[(df[\"X\"]>0) | (df[\"Z\"]>1)] ## for or, use the pipe operator \"|\""
   ]
  },
  {
   "cell_type": "code",
   "execution_count": 237,
   "metadata": {},
   "outputs": [
    {
     "data": {
      "text/html": [
       "<div>\n",
       "<style scoped>\n",
       "    .dataframe tbody tr th:only-of-type {\n",
       "        vertical-align: middle;\n",
       "    }\n",
       "\n",
       "    .dataframe tbody tr th {\n",
       "        vertical-align: top;\n",
       "    }\n",
       "\n",
       "    .dataframe thead th {\n",
       "        text-align: right;\n",
       "    }\n",
       "</style>\n",
       "<table border=\"1\" class=\"dataframe\">\n",
       "  <thead>\n",
       "    <tr style=\"text-align: right;\">\n",
       "      <th></th>\n",
       "      <th>index</th>\n",
       "      <th>W</th>\n",
       "      <th>X</th>\n",
       "      <th>Y</th>\n",
       "      <th>Z</th>\n",
       "    </tr>\n",
       "  </thead>\n",
       "  <tbody>\n",
       "    <tr>\n",
       "      <th>0</th>\n",
       "      <td>A</td>\n",
       "      <td>-0.285257</td>\n",
       "      <td>2.090539</td>\n",
       "      <td>1.004056</td>\n",
       "      <td>1.031916</td>\n",
       "    </tr>\n",
       "    <tr>\n",
       "      <th>1</th>\n",
       "      <td>B</td>\n",
       "      <td>-1.081118</td>\n",
       "      <td>-0.000355</td>\n",
       "      <td>-0.219882</td>\n",
       "      <td>0.292795</td>\n",
       "    </tr>\n",
       "    <tr>\n",
       "      <th>2</th>\n",
       "      <td>C</td>\n",
       "      <td>0.834355</td>\n",
       "      <td>-0.140432</td>\n",
       "      <td>0.119145</td>\n",
       "      <td>0.665715</td>\n",
       "    </tr>\n",
       "    <tr>\n",
       "      <th>3</th>\n",
       "      <td>E</td>\n",
       "      <td>0.407586</td>\n",
       "      <td>0.807843</td>\n",
       "      <td>-2.736464</td>\n",
       "      <td>-0.985153</td>\n",
       "    </tr>\n",
       "    <tr>\n",
       "      <th>4</th>\n",
       "      <td>F</td>\n",
       "      <td>-0.155276</td>\n",
       "      <td>-1.013228</td>\n",
       "      <td>-1.087436</td>\n",
       "      <td>-2.567767</td>\n",
       "    </tr>\n",
       "  </tbody>\n",
       "</table>\n",
       "</div>"
      ],
      "text/plain": [
       "  index         W         X         Y         Z\n",
       "0     A -0.285257  2.090539  1.004056  1.031916\n",
       "1     B -1.081118 -0.000355 -0.219882  0.292795\n",
       "2     C  0.834355 -0.140432  0.119145  0.665715\n",
       "3     E  0.407586  0.807843 -2.736464 -0.985153\n",
       "4     F -0.155276 -1.013228 -1.087436 -2.567767"
      ]
     },
     "execution_count": 237,
     "metadata": {},
     "output_type": "execute_result"
    }
   ],
   "source": [
    "df.reset_index()## to reset the index to a numerical values, add inplace=True to permanantly change df"
   ]
  },
  {
   "cell_type": "code",
   "execution_count": 241,
   "metadata": {},
   "outputs": [],
   "source": [
    "new = \"AL BH NJ BN GH\".split() ## easily create a list without adding the parantheses"
   ]
  },
  {
   "cell_type": "code",
   "execution_count": 242,
   "metadata": {},
   "outputs": [
    {
     "data": {
      "text/plain": [
       "['AL', 'BH', 'NJ', 'BN', 'GH']"
      ]
     },
     "execution_count": 242,
     "metadata": {},
     "output_type": "execute_result"
    }
   ],
   "source": [
    "new"
   ]
  },
  {
   "cell_type": "code",
   "execution_count": 245,
   "metadata": {},
   "outputs": [],
   "source": [
    "df[\"Sates\"] = new ## addeda new coloum to the df"
   ]
  },
  {
   "cell_type": "code",
   "execution_count": 244,
   "metadata": {},
   "outputs": [
    {
     "data": {
      "text/html": [
       "<div>\n",
       "<style scoped>\n",
       "    .dataframe tbody tr th:only-of-type {\n",
       "        vertical-align: middle;\n",
       "    }\n",
       "\n",
       "    .dataframe tbody tr th {\n",
       "        vertical-align: top;\n",
       "    }\n",
       "\n",
       "    .dataframe thead th {\n",
       "        text-align: right;\n",
       "    }\n",
       "</style>\n",
       "<table border=\"1\" class=\"dataframe\">\n",
       "  <thead>\n",
       "    <tr style=\"text-align: right;\">\n",
       "      <th></th>\n",
       "      <th>W</th>\n",
       "      <th>X</th>\n",
       "      <th>Y</th>\n",
       "      <th>Z</th>\n",
       "      <th>Sates</th>\n",
       "    </tr>\n",
       "  </thead>\n",
       "  <tbody>\n",
       "    <tr>\n",
       "      <th>A</th>\n",
       "      <td>-0.285257</td>\n",
       "      <td>2.090539</td>\n",
       "      <td>1.004056</td>\n",
       "      <td>1.031916</td>\n",
       "      <td>AL</td>\n",
       "    </tr>\n",
       "    <tr>\n",
       "      <th>B</th>\n",
       "      <td>-1.081118</td>\n",
       "      <td>-0.000355</td>\n",
       "      <td>-0.219882</td>\n",
       "      <td>0.292795</td>\n",
       "      <td>BH</td>\n",
       "    </tr>\n",
       "    <tr>\n",
       "      <th>C</th>\n",
       "      <td>0.834355</td>\n",
       "      <td>-0.140432</td>\n",
       "      <td>0.119145</td>\n",
       "      <td>0.665715</td>\n",
       "      <td>NJ</td>\n",
       "    </tr>\n",
       "    <tr>\n",
       "      <th>E</th>\n",
       "      <td>0.407586</td>\n",
       "      <td>0.807843</td>\n",
       "      <td>-2.736464</td>\n",
       "      <td>-0.985153</td>\n",
       "      <td>BN</td>\n",
       "    </tr>\n",
       "    <tr>\n",
       "      <th>F</th>\n",
       "      <td>-0.155276</td>\n",
       "      <td>-1.013228</td>\n",
       "      <td>-1.087436</td>\n",
       "      <td>-2.567767</td>\n",
       "      <td>GH</td>\n",
       "    </tr>\n",
       "  </tbody>\n",
       "</table>\n",
       "</div>"
      ],
      "text/plain": [
       "          W         X         Y         Z Sates\n",
       "A -0.285257  2.090539  1.004056  1.031916    AL\n",
       "B -1.081118 -0.000355 -0.219882  0.292795    BH\n",
       "C  0.834355 -0.140432  0.119145  0.665715    NJ\n",
       "E  0.407586  0.807843 -2.736464 -0.985153    BN\n",
       "F -0.155276 -1.013228 -1.087436 -2.567767    GH"
      ]
     },
     "execution_count": 244,
     "metadata": {},
     "output_type": "execute_result"
    }
   ],
   "source": [
    "df"
   ]
  },
  {
   "cell_type": "code",
   "execution_count": 249,
   "metadata": {},
   "outputs": [
    {
     "data": {
      "text/html": [
       "<div>\n",
       "<style scoped>\n",
       "    .dataframe tbody tr th:only-of-type {\n",
       "        vertical-align: middle;\n",
       "    }\n",
       "\n",
       "    .dataframe tbody tr th {\n",
       "        vertical-align: top;\n",
       "    }\n",
       "\n",
       "    .dataframe thead th {\n",
       "        text-align: right;\n",
       "    }\n",
       "</style>\n",
       "<table border=\"1\" class=\"dataframe\">\n",
       "  <thead>\n",
       "    <tr style=\"text-align: right;\">\n",
       "      <th></th>\n",
       "      <th>W</th>\n",
       "      <th>X</th>\n",
       "      <th>Y</th>\n",
       "      <th>Z</th>\n",
       "    </tr>\n",
       "    <tr>\n",
       "      <th>Sates</th>\n",
       "      <th></th>\n",
       "      <th></th>\n",
       "      <th></th>\n",
       "      <th></th>\n",
       "    </tr>\n",
       "  </thead>\n",
       "  <tbody>\n",
       "    <tr>\n",
       "      <th>AL</th>\n",
       "      <td>-0.285257</td>\n",
       "      <td>2.090539</td>\n",
       "      <td>1.004056</td>\n",
       "      <td>1.031916</td>\n",
       "    </tr>\n",
       "    <tr>\n",
       "      <th>BH</th>\n",
       "      <td>-1.081118</td>\n",
       "      <td>-0.000355</td>\n",
       "      <td>-0.219882</td>\n",
       "      <td>0.292795</td>\n",
       "    </tr>\n",
       "    <tr>\n",
       "      <th>NJ</th>\n",
       "      <td>0.834355</td>\n",
       "      <td>-0.140432</td>\n",
       "      <td>0.119145</td>\n",
       "      <td>0.665715</td>\n",
       "    </tr>\n",
       "    <tr>\n",
       "      <th>BN</th>\n",
       "      <td>0.407586</td>\n",
       "      <td>0.807843</td>\n",
       "      <td>-2.736464</td>\n",
       "      <td>-0.985153</td>\n",
       "    </tr>\n",
       "    <tr>\n",
       "      <th>GH</th>\n",
       "      <td>-0.155276</td>\n",
       "      <td>-1.013228</td>\n",
       "      <td>-1.087436</td>\n",
       "      <td>-2.567767</td>\n",
       "    </tr>\n",
       "  </tbody>\n",
       "</table>\n",
       "</div>"
      ],
      "text/plain": [
       "              W         X         Y         Z\n",
       "Sates                                        \n",
       "AL    -0.285257  2.090539  1.004056  1.031916\n",
       "BH    -1.081118 -0.000355 -0.219882  0.292795\n",
       "NJ     0.834355 -0.140432  0.119145  0.665715\n",
       "BN     0.407586  0.807843 -2.736464 -0.985153\n",
       "GH    -0.155276 -1.013228 -1.087436 -2.567767"
      ]
     },
     "execution_count": 249,
     "metadata": {},
     "output_type": "execute_result"
    }
   ],
   "source": [
    "df.set_index(\"Sates\") ## set states to be the index, not permanant unless I specify inplace=True "
   ]
  },
  {
   "cell_type": "code",
   "execution_count": 248,
   "metadata": {},
   "outputs": [
    {
     "data": {
      "text/html": [
       "<div>\n",
       "<style scoped>\n",
       "    .dataframe tbody tr th:only-of-type {\n",
       "        vertical-align: middle;\n",
       "    }\n",
       "\n",
       "    .dataframe tbody tr th {\n",
       "        vertical-align: top;\n",
       "    }\n",
       "\n",
       "    .dataframe thead th {\n",
       "        text-align: right;\n",
       "    }\n",
       "</style>\n",
       "<table border=\"1\" class=\"dataframe\">\n",
       "  <thead>\n",
       "    <tr style=\"text-align: right;\">\n",
       "      <th></th>\n",
       "      <th>W</th>\n",
       "      <th>X</th>\n",
       "      <th>Y</th>\n",
       "      <th>Z</th>\n",
       "      <th>Sates</th>\n",
       "    </tr>\n",
       "  </thead>\n",
       "  <tbody>\n",
       "    <tr>\n",
       "      <th>A</th>\n",
       "      <td>-0.285257</td>\n",
       "      <td>2.090539</td>\n",
       "      <td>1.004056</td>\n",
       "      <td>1.031916</td>\n",
       "      <td>AL</td>\n",
       "    </tr>\n",
       "    <tr>\n",
       "      <th>B</th>\n",
       "      <td>-1.081118</td>\n",
       "      <td>-0.000355</td>\n",
       "      <td>-0.219882</td>\n",
       "      <td>0.292795</td>\n",
       "      <td>BH</td>\n",
       "    </tr>\n",
       "    <tr>\n",
       "      <th>C</th>\n",
       "      <td>0.834355</td>\n",
       "      <td>-0.140432</td>\n",
       "      <td>0.119145</td>\n",
       "      <td>0.665715</td>\n",
       "      <td>NJ</td>\n",
       "    </tr>\n",
       "    <tr>\n",
       "      <th>E</th>\n",
       "      <td>0.407586</td>\n",
       "      <td>0.807843</td>\n",
       "      <td>-2.736464</td>\n",
       "      <td>-0.985153</td>\n",
       "      <td>BN</td>\n",
       "    </tr>\n",
       "    <tr>\n",
       "      <th>F</th>\n",
       "      <td>-0.155276</td>\n",
       "      <td>-1.013228</td>\n",
       "      <td>-1.087436</td>\n",
       "      <td>-2.567767</td>\n",
       "      <td>GH</td>\n",
       "    </tr>\n",
       "  </tbody>\n",
       "</table>\n",
       "</div>"
      ],
      "text/plain": [
       "          W         X         Y         Z Sates\n",
       "A -0.285257  2.090539  1.004056  1.031916    AL\n",
       "B -1.081118 -0.000355 -0.219882  0.292795    BH\n",
       "C  0.834355 -0.140432  0.119145  0.665715    NJ\n",
       "E  0.407586  0.807843 -2.736464 -0.985153    BN\n",
       "F -0.155276 -1.013228 -1.087436 -2.567767    GH"
      ]
     },
     "execution_count": 248,
     "metadata": {},
     "output_type": "execute_result"
    }
   ],
   "source": [
    "df"
   ]
  },
  {
   "cell_type": "code",
   "execution_count": null,
   "metadata": {},
   "outputs": [],
   "source": []
  }
 ],
 "metadata": {
  "kernelspec": {
   "display_name": "Python 3",
   "language": "python",
   "name": "python3"
  }
 },
 "nbformat": 4,
 "nbformat_minor": 2
}
