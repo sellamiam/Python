{
 "cells": [
  {
   "cell_type": "code",
   "execution_count": null,
   "metadata": {},
   "outputs": [],
   "source": [
    "number = int(input (\"enter number : \"))\n",
    "if number not in int:\n",
    "    print (\"enter an integer\")\n",
    "\n",
    "     \n",
    " \n",
    "\n",
    "            \n",
    "\n"
   ]
  },
  {
   "cell_type": "code",
   "execution_count": 23,
   "metadata": {},
   "outputs": [
    {
     "data": {
      "text/plain": [
       "dict"
      ]
     },
     "execution_count": 23,
     "metadata": {},
     "output_type": "execute_result"
    }
   ],
   "source": [
    "type ({1:2})\n"
   ]
  },
  {
   "cell_type": "code",
   "execution_count": 22,
   "metadata": {},
   "outputs": [
    {
     "name": "stdout",
     "output_type": "stream",
     "text": [
      "enter salart : 89999\n",
      "enter tax rate %:9\n",
      "annual n\n",
      "et_income = 81899.09\n",
      "monthly net_income = 6824.92\n"
     ]
    }
   ],
   "source": [
    "\n",
    "income = int(input (\"enter salart : \"))\n",
    "tax = int(input (\"enter tax rate %:\"))\n",
    "\n",
    "net_income = income*(1-(tax/100))\n",
    "print (\"annual net_income =\", round(net_income,2))\n",
    "print (\"monthly net_income =\", round(net_income/12,2))"
   ]
  },
  {
   "cell_type": "code",
   "execution_count": 44,
   "metadata": {},
   "outputs": [
    {
     "name": "stdout",
     "output_type": "stream",
     "text": [
      "hello world\n"
     ]
    }
   ],
   "source": [
    "n= \"hello world\"\n",
    "print (n)\n"
   ]
  },
  {
   "cell_type": "code",
   "execution_count": 34,
   "metadata": {},
   "outputs": [
    {
     "name": "stdout",
     "output_type": "stream",
     "text": [
      "hello \n",
      "\tworld\n"
     ]
    }
   ],
   "source": [
    "print (\"hello \\n\\tworld\")"
   ]
  },
  {
   "cell_type": "code",
   "execution_count": 49,
   "metadata": {},
   "outputs": [
    {
     "data": {
      "text/plain": [
       "11"
      ]
     },
     "execution_count": 49,
     "metadata": {},
     "output_type": "execute_result"
    }
   ],
   "source": [
    "len(n)"
   ]
  },
  {
   "cell_type": "code",
   "execution_count": 53,
   "metadata": {},
   "outputs": [
    {
     "name": "stdout",
     "output_type": "stream",
     "text": [
      "['h', 'e', 'l', 'l', 'o', ' ', 'w', 'o', 'r', 'l', 'd']\n"
     ]
    }
   ],
   "source": [
    "list =[]\n",
    "for i in n:\n",
    "    if i!=\"\":\n",
    "        list.append(i)\n",
    "print (list)"
   ]
  },
  {
   "cell_type": "code",
   "execution_count": 56,
   "metadata": {},
   "outputs": [
    {
     "name": "stdout",
     "output_type": "stream",
     "text": [
      "dlrow olleh\n"
     ]
    }
   ],
   "source": [
    "print (n[::-1])"
   ]
  },
  {
   "cell_type": "code",
   "execution_count": 58,
   "metadata": {},
   "outputs": [
    {
     "name": "stdout",
     "output_type": "stream",
     "text": [
      "r\n"
     ]
    }
   ],
   "source": [
    "n= \"Hello World\"\n",
    "print (n[8])"
   ]
  },
  {
   "cell_type": "code",
   "execution_count": 60,
   "metadata": {},
   "outputs": [
    {
     "name": "stdout",
     "output_type": "stream",
     "text": [
      "ink\n"
     ]
    }
   ],
   "source": [
    "print ('tinker'[1:4])"
   ]
  },
  {
   "cell_type": "code",
   "execution_count": 31,
   "metadata": {},
   "outputs": [
    {
     "data": {
      "text/plain": [
       "'Pam Hello World'"
      ]
     },
     "execution_count": 31,
     "metadata": {},
     "output_type": "execute_result"
    }
   ],
   "source": [
    "name = \"Sam\" + \" Hello World\"\n",
    "\n",
    "\"P\"+name[1:]\n"
   ]
  },
  {
   "cell_type": "code",
   "execution_count": 32,
   "metadata": {},
   "outputs": [
    {
     "data": {
      "text/plain": [
       "'Sam Hello WorldSam Hello WorldSam Hello WorldSam Hello WorldSam Hello WorldSam Hello WorldSam Hello WorldSam Hello WorldSam Hello WorldSam Hello WorldSam Hello WorldSam Hello WorldSam Hello WorldSam Hello WorldSam Hello World'"
      ]
     },
     "execution_count": 32,
     "metadata": {},
     "output_type": "execute_result"
    }
   ],
   "source": [
    "name *len(name)"
   ]
  },
  {
   "cell_type": "code",
   "execution_count": 28,
   "metadata": {},
   "outputs": [
    {
     "data": {
      "text/plain": [
       "['Sam Hell',\n",
       " ' W',\n",
       " 'rldSam Hell',\n",
       " ' W',\n",
       " 'rldSam Hell',\n",
       " ' W',\n",
       " 'rldSam Hell',\n",
       " ' W',\n",
       " 'rldSam Hell',\n",
       " ' W',\n",
       " 'rldSam Hell',\n",
       " ' W',\n",
       " 'rldSam Hell',\n",
       " ' W',\n",
       " 'rldSam Hell',\n",
       " ' W',\n",
       " 'rldSam Hell',\n",
       " ' W',\n",
       " 'rldSam Hell',\n",
       " ' W',\n",
       " 'rldSam Hell',\n",
       " ' W',\n",
       " 'rldSam Hell',\n",
       " ' W',\n",
       " 'rldSam Hell',\n",
       " ' W',\n",
       " 'rldSam Hell',\n",
       " ' W',\n",
       " 'rldSam Hell',\n",
       " ' W',\n",
       " 'rld']"
      ]
     },
     "execution_count": 28,
     "metadata": {},
     "output_type": "execute_result"
    }
   ],
   "source": [
    "name.split('o')"
   ]
  },
  {
   "cell_type": "code",
   "execution_count": 36,
   "metadata": {},
   "outputs": [
    {
     "name": "stdout",
     "output_type": "stream",
     "text": [
      "crazy text 2\n"
     ]
    }
   ],
   "source": [
    "print ('crazy text {1}'.format(1,2,3))"
   ]
  },
  {
   "cell_type": "code",
   "execution_count": 48,
   "metadata": {},
   "outputs": [
    {
     "name": "stdout",
     "output_type": "stream",
     "text": [
      "crazy text 2\n"
     ]
    }
   ],
   "source": [
    "print ('crazy text {1}'.format(1,2,3))"
   ]
  },
  {
   "cell_type": "code",
   "execution_count": 6,
   "metadata": {},
   "outputs": [
    {
     "name": "stdout",
     "output_type": "stream",
     "text": [
      "enter your first name : mo\n",
      "enter your last name : Mo\n",
      "Welcome Mo Mo\n"
     ]
    }
   ],
   "source": [
    "first_name = str(input (\"enter your first name : \"))\n",
    "last_name = str(input (\"enter your last name : \"))\n",
    "\n",
    "print (\"Welcome {f} {l}\".format(f=first_name.capitalize(),l=last_name.capitalize()))"
   ]
  },
  {
   "cell_type": "code",
   "execution_count": null,
   "metadata": {
    "collapsed": true
   },
   "outputs": [],
   "source": []
  }
 ],
 "metadata": {
  "kernelspec": {
   "display_name": "Python 3",
   "language": "python",
   "name": "python3"
  },
  "language_info": {
   "codemirror_mode": {
    "name": "ipython",
    "version": 3
   },
   "file_extension": ".py",
   "mimetype": "text/x-python",
   "name": "python",
   "nbconvert_exporter": "python",
   "pygments_lexer": "ipython3",
   "version": "3.7.0"
  }
 },
 "nbformat": 4,
 "nbformat_minor": 2
}
