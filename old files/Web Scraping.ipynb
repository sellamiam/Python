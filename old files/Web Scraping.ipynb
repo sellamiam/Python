{
 "cells": [
  {
   "cell_type": "code",
   "execution_count": 4,
   "metadata": {
    "collapsed": true
   },
   "outputs": [],
   "source": [
    "import requests"
   ]
  },
  {
   "cell_type": "code",
   "execution_count": 5,
   "metadata": {
    "collapsed": true
   },
   "outputs": [],
   "source": [
    "import bs4"
   ]
  },
  {
   "cell_type": "code",
   "execution_count": 6,
   "metadata": {},
   "outputs": [],
   "source": [
    "res = requests.get('http://www.who.int/diabetes/country-profiles/en/#C')"
   ]
  },
  {
   "cell_type": "code",
   "execution_count": 8,
   "metadata": {},
   "outputs": [
    {
     "data": {
      "text/plain": [
       "requests.models.Response"
      ]
     },
     "execution_count": 8,
     "metadata": {},
     "output_type": "execute_result"
    }
   ],
   "source": [
    "type(res)"
   ]
  },
  {
   "cell_type": "code",
   "execution_count": 7,
   "metadata": {
    "scrolled": false
   },
   "outputs": [
    {
     "data": {
      "text/plain": [
       "'<!DOCTYPE html PUBLIC \"-//W3C//DTD XHTML 1.0 Transitional//EN\" \"http://www.w3.org/TR/xhtml1/DTD/xhtml1-transitional.dtd\">\\n<html>\\n<head>\\n<meta http-equiv=\"X-UA-Compatible\" content=\"IE=edge\">\\n<meta http-equiv=\"Content-Type\" content=\"text/html; charset=UTF-8\">\\n<meta name=\"viewport\" content=\"width=device-width, initial-scale=1\">\\n<title>WHO | Diabetes country profiles 2016</title>\\n<meta name=\"DC.title\" content=\"WHO | Diabetes country profiles 2016\">\\n<meta name=\"DC.publisher\" content=\"World Health Organization\">\\n<meta name=\"DC.format\" content=\"text/html\">\\n<meta name=\"DC.source\" content=\"WHO\">\\n<meta name=\"DC.date.published\" content=\"2016-04-27 14:46:10\">\\n<meta name=\"DC.identifier\" content=\"/entity/diabetes/country-profiles/en/index.html\">\\n<meta name=\"description\" content=\"In order to combat the global epidemic of diabetes and noncommunicable diseases (NCDs), it is imperative to create a baseline for monitoring trends and to assess the progress of countries in addressing the epidemic.\">\\n<meta name=\"webit_document_id\" content=\"209563\">\\n<meta name=\"webit_document_name\" content=\"EN Diabetes: Country profiles\">\\n<meta name=\"webit_cover_date\" content=\"2016-03-17\">\\n<meta name=\"burntime\" content=\"2016-04-27 14:46:22.000000\">\\n<meta name=\"robots\" content=\"noindex, follow\">\\n<meta name=\"fb:app_id\" content=\"1678989475646792\"> \\n<meta property=\"og:site_name\" content=\"World Health Organization\"> \\n<meta property=\"og:url\" content=\"http://www.who.int/diabetes/country-profiles/en/\"> \\n<meta property=\"og:locale\" content=\"en_GB\"> \\n<meta name=\"article:publisher\" content=\"https://www.facebook.com/WHO\"> \\n<meta property=\"og:title\" content=\"Diabetes country profiles 2016\"> \\n<meta property=\"og:description\" content=\"In order to combat the global epidemic of diabetes and noncommunicable diseases (NCDs), it is imperative to create a baseline for monitoring trends and to assess the progress of countries in addressing the epidemic.\"> \\n<meta property=\"og:type\" content=\"website\"> \\n<meta name=\"twitter:card\" content=\"summary\"> \\n<meta name=\"twitter:site\" content=\"@who\"> \\n<meta name=\"twitter:title\" content=\"Diabetes country profiles 2016\"> \\n<meta name=\"twitter:description\" content=\"In order to combat the global epidemic of diabetes and noncommunicable diseases (NCDs), it is imperative to create a baseline for monitoring trends and to assess the progress of countries in addressing the epidemic.\"> \\n\\n\\n\\n\\n<script type=\"text/javascript\">\\n    var lang = \"en\";\\n</script>\\n<link rel=\"shortcut icon\" href=\"/sysmedia/media/resources/favicon.ico\">\\n<link rel=\"apple-touch-icon\" href=\"/sysmedia/media/resources/apple-touch-icon.png\">\\t\\t\\n<script type=\"text/javascript\" src=\"/sysmedia/media/js/lib/jquery.js\"></script>\\n<script type=\"text/javascript\" src=\"/sysmedia/media/js/lib/jquery.plugins_r.js\"></script>\\n\\n<!--[if gte IE 9]>\\n<script type=\"text/javascript\" src=\"/sysmedia/media/js/lib/matchMedia.js\"></script>\\n<script type=\"text/javascript\" src=\"/sysmedia/media/js/lib/matchMedia.addListener.js\"></script>\\n<script type=\"text/javascript\" src=\"/sysmedia/media/js/lib/enquire.min.js\"></script>\\n<![endif]-->\\n<![if !IE]>\\n<script type=\"text/javascript\" src=\"/sysmedia/media/js/lib/enquire.min.js\"></script>\\n<![endif]>\\n\\n<script type=\"text/javascript\" src=\"/sysmedia/media/js/lib/owl.carousel.js\"></script>\\n<script type=\"text/javascript\" src=\"/sysmedia/media/js/who.js\"></script>\\n<script type=\"text/javascript\" src=\"/sysmedia/media/js/responsive.js\"></script>\\n \\n \\n \\n\\n\\n\\n\\n\\n<link href=\"/sysmedia/media/style/who_responsive.css\" rel=\"stylesheet\" type=\"text/css\">\\n<script type=\"text/javascript\" src=\"/sysmedia/media/js/captify.js\"></script>\\n<!--[if IE]><link href=\"/sysmedia/media/style/css/patches/patch_ie_r.css\" rel=\"stylesheet\" type=\"text/css\" /><![endif]-->\\n<!--[if IE 7]><link href=\"/sysmedia/media/style/css/patches/patch_ie_7_r.css\" rel=\"stylesheet\" type=\"text/css\" /><![endif]-->\\n<!--[if IE 6]><link href=\"/sysmedia/media/style/css/patches/patch_ie_6_r.css\" rel=\"stylesheet\" type=\"text/css\" /><![endif]-->\\n<!--[if lte IE 7]><link href=\"/sysmedia/media/style/css/screen/responsive-ie-fix.css\" rel=\"stylesheet\" type=\"text/css\" /><![endif]-->  \\n<!--[if IE 8]><link href=\"/sysmedia/media/style/css/screen/responsive-ie-fix.css\" rel=\"stylesheet\" type=\"text/css\" /><![endif]-->\\n<!-- jquery_share_css_place_holder --> \\n\\n\\n<link rel=\"stylesheet\" type=\"text/css\" href=\"/sysmedia/media/style/css/language/lang_en_r.css\">  \\n\\n    <link rel=\"stylesheet\" type=\"text/css\" href=\"/sysmedia/scripts/shadowbox/en/shadowbox.css\">\\n  <script type=\"text/javascript\" src=\"/sysmedia/scripts/shadowbox/en/shadowbox.js\"></script>\\n    <script type=\"text/javascript\">\\n//<![CDATA[\\n        Shadowbox.init({\\n          //troubleElements: [\"select\", \"object\", \"embed\", \"canvas\"],viewportPadding: 20,\\n          //flashVersion: 9.0.0,counterLimit: 20, displayCounter: true, displayNav: true, enableKeys: true,\\n          //modal: true, fadeDuration:0.35, handleUnsupported:: link, initialHeight: , initialWidth: , onChange: ,\\n          // onClose , onFinish, onOpen, overlayColor: #000,\\n          animate : true,\\n          animateFade:true,\\n          animSequence: \"sync\",\\n          continuous: true,\\n          counterType: \"skip\",\\n          handleOversize: \"drag\",\\n          modal: false,\\n          overlayOpacity: 0.8,\\n          showOverlay: true,\\n          resizeDuration: 0.50,\\n          showMovieControls: false,\\n          slideshowDelay: 0,\\n          displayNav: true\\n    });\\n    //]]>\\n    </script>\\n\\n\\n\\n\\n<!-- secondary nav styles -->\\n <style type=\"text/css\">\\n\\n\\n\\t#__diabetes__country-profiles ul {display: block;}\\n\\t#__diabetes__country-profiles ul ul {display: none;}\\n\\t#__diabetes__country-profiles ul .node a {background: url(/sysmedia/media/style/img/node-closed.gif) no-repeat 1px 8px;}\\n\\t#__diabetes__country-profiles a {background: url(/sysmedia/media/style/img/node-open.gif) no-repeat 0px 10px;}\\n\\t#__diabetes__country-profiles.leave a, #__diabetes__country-profiles .leave a, #__diabetes__country-profiles .leaves a {background:none;}\\n\\t#__diabetes__country-profiles a, #__diabetes__country-profiles li a:hover {color:#D86422;}\\n\\t#__diabetes__country-profiles li a {color:#196aaa;}\\n</style>\\n<script type=\"text/javascript\">\\n\\n        var path_elements = new Array(\\'__diabetes__country-profiles\\',\\'__diabetes\\');\\n\\n        function fixMenu(){\\n                for( i = 0; i < path_elements.length; i++ ){\\n                        if( document.getElementById( path_elements[i] ) ){\\n                                document.getElementById( path_elements[i] ).firstChild.style.color = \\'#D86422\\';\\n                                break;\\n                        }\\n                }\\n        }\\n\\n</script> \\n\\n\\n\\n\\n\\n\\n<!-- head to scrape:on --> <meta http-equiv=\"X-UA-Compatible\" content=\"IE=edge,chrome=1\"> <meta charset=\"utf-8\"> <meta name=\"viewport\" content=\"width=device-width, initial-scale=1\"> <title>\\r\\n\\tSYSTEM DO NOT MOVE OR EDIT\\r\\n</title> <link rel=\"shortcut icon\" href=\"/favicon.ico\"> <link href=\"//use.fontawesome.com/releases/v5.0.10/css/all.css\" rel=\"stylesheet\" type=\"text/css\"> <link rel=\\'stylesheet\\' href=\\'/ResourcePackages/WHO/assets/dist/styles/origin.min.css?v=1011083604\\'> <!-- head to scrape:off --></head>\\n<body class=\"main-site\">\\n<!-- Google Tag Manager -->\\n<noscript><iframe src=\"//www.googletagmanager.com/ns.html?id=GTM-MDCJXB\" height=\"0\" width=\"0\" style=\"display:none;visibility:hidden\"></iframe></noscript>\\n<script>(function(w,d,s,l,i){w[l]=w[l]||[];w[l].push({\\'gtm.start\\':\\nnew Date().getTime(),event:\\'gtm.js\\'});var f=d.getElementsByTagName(s)[0],\\nj=d.createElement(s),dl=l!=\\'dataLayer\\'?\\'&l=\\'+l:\\'\\';j.async=true;j.src=\\n\\'//www.googletagmanager.com/gtm.js?id=\\'+i+dl;f.parentNode.insertBefore(j,f);\\n})(window,document,\\'script\\',\\'dataLayer\\',\\'GTM-MDCJXB\\');</script>\\n<!-- End Google Tag Manager -->\\n\\n\\n\\n\\t\\t<!-- begin: page -->\\n\\t<script>\\n\\t\\tvar show_contextly = 0;\\n\\t</script>\\n\\n\\n\\n\\t<div id=\"sf-top-header\" class=\"top-header\"> <div class=\"sf_colsIn container\" data-sf-element=\"Container\" data-placeholder-label=\"Container\"> \\r\\n<div id=\"TopHeader_TD9F2A204012_Col00\" class=\"sf_colsIn container\" data-sf-element=\"Container\" data-placeholder-label=\"Container\">\\r\\n</div>\\r\\n\\r\\n\\r\\n <div class=\"row\" data-sf-element=\"Row\"> <div class=\"sf_colsIn col-lg-4\" data-sf-element=\"Geo Navigation\" data-placeholder-label=\"Geo Navigation\"> \\r\\n\\r\\n\\r\\n\\r\\n\\r\\n    <div id=\"sf-geo-navigation-container\">\\r\\n        <nav class=\"sf-geo-navigation\">\\r\\n            \\r\\n            <ul id=\"sf-primary-geo-navigation\" class=\"sf-primary-geo-navigation\">\\r\\n                \\r\\n\\r\\n                <li class=\"active sf-no-logo\">\\r\\n                    <a href=\"http://www.who.int/\" class=\"mobile nav-logo\">\\r\\n                            <img src=\"http://www.who.int/images/default-source/fallback/header-logos/h-logo-blue.svg?sfvrsn=aaed4f35_14\" class=\"svg\">\\r\\n                    </a>\\r\\n                    <a href=\"http://www.who.int/\" class=\"desktop\">Global</a>\\r\\n                </li>\\r\\n\\r\\n                \\r\\n                <li class=\" has-children\">\\r\\n                    <a href=\"#\">Regions</a>\\r\\n\\r\\n                    <div class=\"sf-secondary-geo-navigation-container\">\\r\\n                        <div class=\"sf-secondary-geo-navigation-wrapper\">\\r\\n                            <div class=\"sf-geo-navigation-title\">\\r\\n                                <div class=\"nav-header\">\\r\\n                                    <span class=\"nav-logo\">\\r\\n                                            <img src=\"http://www.who.int/images/default-source/fallback/header-logos/h-logo-blue.svg?sfvrsn=aaed4f35_14\" class=\"svg\">\\r\\n                                    </span>\\r\\n\\r\\n\\r\\n                                    <span class=\"nav-title\">WHO Regional websites</span>\\r\\n\\r\\n                                    <div class=\"nav-back-btn\"><i class=\"fas fa-angle-left\"></i></div>\\r\\n                                </div>\\r\\n\\r\\n\\r\\n                            </div>\\r\\n\\r\\n                            <ul class=\"sf-secondary-geo-navigation sf-secondary-geo-navigation-region row\">\\r\\n                                        <li class=\" col-md-4\">\\r\\n                                            <a href=\"https://www.afro.who.int/\">\\r\\n                                                    <img src=\"http://www.who.int/images/default-source/fallback/maps/africa.png?sfvrsn=3204f957_14\">\\r\\n\\r\\n                                                <span>Africa</span>\\r\\n                                            </a>\\r\\n                                        </li>\\r\\n                                        <li class=\" col-md-4\">\\r\\n                                            <a href=\"https://www.paho.org/hq/index.php?lang=en\">\\r\\n                                                    <img src=\"http://www.who.int/images/default-source/fallback/maps/americas.png?sfvrsn=9efd6df3_14\">\\r\\n\\r\\n                                                <span>Americas</span>\\r\\n                                            </a>\\r\\n                                        </li>\\r\\n                                        <li class=\" col-md-4\">\\r\\n                                            <a href=\"http://www.searo.who.int/en/\">\\r\\n                                                    <img src=\"http://www.who.int/images/default-source/fallback/maps/south-east-asia.png?sfvrsn=68e76dc2_14\">\\r\\n\\r\\n                                                <span>South-East Asia</span>\\r\\n                                            </a>\\r\\n                                        </li>\\r\\n                                        <li class=\" col-md-4\">\\r\\n                                            <a href=\"http://www.euro.who.int/en/home\">\\r\\n                                                    <img src=\"http://www.who.int/images/default-source/fallback/maps/europe.png?sfvrsn=c7d5c5a5_14\">\\r\\n\\r\\n                                                <span>Europe</span>\\r\\n                                            </a>\\r\\n                                        </li>\\r\\n                                        <li class=\" col-md-4\">\\r\\n                                            <a href=\"http://www.emro.who.int/\">\\r\\n                                                    <img src=\"http://www.who.int/images/default-source/fallback/maps/eastern-mediterranean.png?sfvrsn=71211e18_14\">\\r\\n\\r\\n                                                <span>Eastern Mediterranean</span>\\r\\n                                            </a>\\r\\n                                        </li>\\r\\n                                        <li class=\" col-md-4\">\\r\\n                                            <a href=\"http://www.who.int/westernpacific/\">\\r\\n                                                    <img src=\"http://www.who.int/images/default-source/fallback/maps/western-pacific.png?sfvrsn=88cbdcd5_14\">\\r\\n\\r\\n                                                <span>Western Pacific</span>\\r\\n                                            </a>\\r\\n                                        </li>\\r\\n                            </ul>\\r\\n                        </div>\\r\\n                    </div>\\r\\n                </li>\\r\\n\\r\\n                \\r\\n                \\r\\n\\r\\n            </ul>\\r\\n        </nav>\\r\\n    </div>\\r\\n </div> <div class=\"sf_colsIn col-lg-8\" data-sf-element=\"Language Selector & Search\" data-placeholder-label=\"Language Selector & Search\"> <!--Navigation search:on--> <div class=\"navigation-search\"> <span> <i class=\"fa fa-search fa-2x fa-loaded\" aria-hidden=\"true\"></i> </span> </div> <!--Navigation search:off--> \\r\\n\\r\\n\\r\\n<div class=\"language-selector language-selector-header\">\\r\\n    <ul class=\"sf-lang-selector\"><li><a href=\"../ar/\" title=\"Arabic\"><span dir=\"rtl\">Ø¹Ø±Ø¨Ù\\x8a</span> </a></li><li><a href=\"../zh/\" title=\"Chinese\"><span>ä¸\\xadæ\\x96\\x87</span> </a></li><li><a href=\"../en/\" title=\"English\" class=\"selected\"><span>English</span> </a></li><li><a href=\"../fr/\" title=\"French\"><span>FranÃ§ais</span> </a></li><li><a href=\"../ru/\" title=\"Russian\"><span>Ð\\xa0Ñ\\x83Ñ\\x81Ñ\\x81ÐºÐ¸Ð¹</span> </a></li><li><a href=\"../es/\" title=\"Spanish\"><span>EspaÃ±ol</span> </a></li></ul>\\r\\n</div>\\r\\n\\r\\n\\r\\n\\r\\n </div> </div> </div> </div><div id=\"sf-main-header\" class=\"main-header\"> <div class=\"container\"> <div class=\"row\" data-sf-element=\"Row\"> <div class=\"sf_colsIn col-md-12\" data-sf-element=\"Logos\" data-placeholder-label=\"Logos Geo Navigation\"> \\r\\n\\r\\n\\r\\n\\r\\n\\r\\n    <div id=\"sf-geo-navigation-sites-container\">\\r\\n        <nav class=\"sf-geo-navigation-sites\">\\r\\n            \\r\\n            <div id=\"sf-primary-geo-navigation-sites\" class=\"sf-primary-geo-navigation-sites\">\\r\\n                \\r\\n                <div class=\"global-site\">\\r\\n                    <a href=\"http://www.who.int/\">\\r\\n                            <img src=\"http://www.who.int/images/default-source/fallback/header-logos/h-logo-blue.svg?sfvrsn=aaed4f35_14\" class=\"svg\">\\r\\n                    </a>\\r\\n                </div>\\r\\n\\r\\n\\r\\n\\r\\n            </div>\\r\\n        </nav>\\r\\n    </div>\\r\\n <div class=\"header-logo logos-container\"> <a href=\"/\" title=\"Home\" class=\"primary-logo\"> <img src=\"/ResourcePackages/WHO/assets/dist/images/logos/en/h-logo-blue.svg\" alt=\"Home\" class=\"logo svg\"> </a> </div> </div> </div> </div> \\r\\n\\n<div id=\"search2\">\\n    <form action=\"http://search.who.int/search\" target=\"_self\" id=\"search-form\">\\n        <label for=\"search_who\">\\n            <input name=\"q\" id=\"q\" class=\"searchInput\" title=\"Search WHO.int\" type=\"text\" placeholder=\"Search WHO.int\" value=\"\" autocomplete=\"off\">\\n            <div id=\"clear-search\" class=\"search-clear\"><i class=\"fa fa-times-circle fa-loaded fa-2x\"></i></div>\\n        </label>\\n        <input type=\"hidden\" name=\"ie\" value=\"utf8\"> <input type=\"hidden\" name=\"site\" value=\"who\">\\n        <input type=\"hidden\" name=\"client\" value=\"_en_r\"> <input type=\"hidden\" name=\"proxystylesheet\" value=\"_en_r\">\\n        <input type=\"hidden\" name=\"output\" value=\"xml_no_dtd\">\\n        <input type=\"hidden\" name=\"oe\" value=\"utf8\">\\n        <input type=\"hidden\" name=\"getfields\" value=\"doctype\">\\n        <button id=\"searchSubmit \" class=\"search-button\" title=\"Search \" data-reactid=\"8 \">   <i class=\"fa fa-search fa-2x fa-loaded\" aria-hidden=\"true\"></i></button>\\n    </form>\\n</div>\\n\\n </div><div id=\"navigationToScrape\" class=\"navigation\"> \\r\\n<div class=\"row navWrapper\" data-sf-element=\"Row\">\\r\\n    <div class=\"nav-container\">\\r\\n        <!--Main desktop navigation:on-->\\r\\n        <ul class=\"nav\"></ul>\\r\\n        <!--Main desktop navigation:off-->\\r\\n    </div>\\r\\n\\r\\n    <ul class=\"nav-mobile\"></ul>\\r\\n\\r\\n    <div id=\"Navigation_TD9F2A204024_Col00\" class=\"sf_colsIn col-md-12\" data-sf-element=\"Menu Wrapper\" data-placeholder-label=\"Menu Wrapper\"><div class=\"navItemLayout navHomeItemLayout\">\\r\\n    <div id=\"Navigation_TD9F2A204025_Col00\" class=\"sf_colsIn col-md-12 navParent\" data-sf-element=\"Menu Parent Link\" data-placeholder-label=\"Menu Parent Link\">\\r\\n<nav role=\"navigation\">\\r\\n    <ul class=\"main-navigation\">\\r\\n    <li class=\"\"><a href=\"/\" target=\"_self\">Home</a></li>\\r\\n    </ul>\\r\\n</nav>\\r\\n\\r\\n\\r\\n\\r\\n\\r\\n</div>\\r\\n\\r\\n    <div class=\"container\">\\r\\n        <div class=\"row\">\\r\\n            <div id=\"Navigation_TD9F2A204025_Col01\" class=\"sf_colsIn col-md-12 navDropdown\" data-sf-element=\"Menu Item Dropdown\" data-placeholder-label=\"Menu Item Dropdown\"></div>\\r\\n        </div>\\r\\n    </div>\\r\\n</div>\\r\\n<div class=\"navItemLayout\">\\r\\n    <div id=\"Navigation_TD9F2A204029_Col00\" class=\"sf_colsIn navParent\" data-sf-element=\"Menu Parent Link\" data-placeholder-label=\"Menu Parent Link\">\\r\\n<nav role=\"navigation\">\\r\\n    <ul class=\"main-navigation\">\\r\\n    <li class=\"\"><a href=\"/redirect-pages/mega-menu/health-topics\" target=\"_self\">Health Topics</a></li>\\r\\n    </ul>\\r\\n</nav>\\r\\n\\r\\n\\r\\n\\r\\n\\r\\n</div>\\r\\n\\r\\n    <div class=\"container\">\\r\\n        <div class=\"row\">\\r\\n            <div id=\"Navigation_TD9F2A204029_Col01\" class=\"sf_colsIn col-md-12 navDropdown\" data-sf-element=\"Menu Item Dropdown\" data-placeholder-label=\"Menu Item Dropdown\"><div class=\"row\" data-sf-element=\"Row\">\\r\\n    <div id=\"Navigation_T75121FDA161_Col00\" class=\"sf_colsIn col-md-3\" data-sf-element=\"Column 1\" data-placeholder-label=\"Column 1\"><div id=\"Navigation_TD9F2A204114_Col00\" class=\"sf_colsIn horizontal\" data-sf-element=\"Horizontal\" data-placeholder-label=\"Horizontal\">\\r\\n<div class=\"content-block\">\\r\\n    <div><ul><li><a href=\"/health-topics/\">All topics &raquo;</a></li><li><a href=\"/health-topics/#A\">A</a></li><li><a href=\"/health-topics/#B\">B</a></li><li><a href=\"/health-topics/#C\">C</a></li><li><a href=\"/health-topics/#D\">D</a></li><li><a href=\"/health-topics/#E\">E</a></li><li><a href=\"/health-topics/#F\">F</a></li><li><a href=\"/health-topics/#G\">G</a></li><li><a href=\"/health-topics/#H\">H</a></li><li><a href=\"/health-topics/#I\">I</a></li><li><a href=\"/health-topics/#J\">J</a></li><li><a href=\"/health-topics/#K\">K</a></li><li><a href=\"/health-topics/#L\">L</a></li><li><a href=\"/health-topics/#M\">M</a></li><li><a href=\"/health-topics/#N\">N</a></li><li><a href=\"/health-topics/#O\">O</a></li><li><a href=\"/health-topics/#P\">P</a></li><li><a href=\"/health-topics/#Q\">Q</a></li><li><a href=\"/health-topics/#R\">R</a></li><li><a href=\"/health-topics/#S\">S</a></li><li><a href=\"/health-topics/#T\">T</a></li><li><a href=\"/health-topics/#U\">U</a></li><li><a href=\"/health-topics/#V\">V</a></li><li><a href=\"/health-topics/#W\">W</a></li><li><a href=\"/health-topics/#X\">X</a></li><li><a href=\"/health-topics/#Y\">Y</a></li><li><a href=\"/health-topics/#Z\">Z</a></li></ul></div>    \\r\\n\\r\\n</div>\\r\\n</div>\\r\\n\\r\\n    </div>\\r\\n     <div id=\"Navigation_T75121FDA161_Col01\" class=\"sf_colsIn col-md-3\" data-sf-element=\"Column 2\" data-placeholder-label=\"Column 2\">\\r\\n<div class=\"main-navigation--wrapper\">\\r\\n\\r\\n    <ul class=\"main-navigation navVertical\">\\r\\n    <li class=\"\">\\r\\n        <a href=\"/redirect-pages/mega-menu/health-topics/facts\" target=\"_self\">Resources &#187;</a>\\r\\n\\r\\n            <ul class=\"sub-level\">\\r\\n    <li class=\"\">\\r\\n        <a href=\"/redirect-pages/mega-menu/health-topics/facts/data\" target=\"_blank\">Data</a>\\r\\n\\r\\n    </li>\\r\\n    <li class=\"\">\\r\\n        <a href=\"/redirect-pages/mega-menu/health-topics/facts/fact-sheets\" target=\"_self\">Fact sheets</a>\\r\\n\\r\\n    </li>\\r\\n    <li class=\"\">\\r\\n        <a href=\"/redirect-pages/mega-menu/health-topics/facts/facts-in-pictures\" target=\"_self\">Facts in pictures</a>\\r\\n\\r\\n    </li>\\r\\n    <li class=\"\">\\r\\n        <a href=\"/redirect-pages/mega-menu/health-topics/facts/publications\" target=\"_blank\">Publications</a>\\r\\n\\r\\n    </li>\\r\\n    <li class=\"\">\\r\\n        <a href=\"/redirect-pages/mega-menu/health-topics/facts/questions-answers\" target=\"_self\">Questions &amp; answers</a>\\r\\n\\r\\n    </li>\\r\\n            </ul>\\r\\n    </li>\\r\\n    </ul>\\r\\n</div>\\r\\n\\r\\n\\r\\n\\r\\n\\r\\n\\r\\n    </div>\\r\\n     <div id=\"Navigation_T75121FDA161_Col02\" class=\"sf_colsIn col-md-3\" data-sf-element=\"Column 3\" data-placeholder-label=\"Column 3\">\\r\\n<div class=\"main-navigation--wrapper\">\\r\\n\\r\\n    <ul class=\"main-navigation navVertical\">\\r\\n    <li class=\"\">\\r\\n        <a href=\"/redirect-pages/mega-menu/health-topics/popular\" target=\"_self\">Popular &#187;</a>\\r\\n\\r\\n            <ul class=\"sub-level\">\\r\\n    <li class=\"\">\\r\\n        <a href=\"/redirect-pages/mega-menu/health-topics/popular/ebola-virus-disease\" target=\"_self\">Ebola virus disease</a>\\r\\n\\r\\n    </li>\\r\\n    <li class=\"\">\\r\\n        <a href=\"/redirect-pages/mega-menu/health-topics/popular/nipah-virus-infection\" target=\"_self\">Nipah virus infection</a>\\r\\n\\r\\n    </li>\\r\\n    <li class=\"\">\\r\\n        <a href=\"/redirect-pages/mega-menu/health-topics/popular/nutrition\" target=\"_self\">Nutrition</a>\\r\\n\\r\\n    </li>\\r\\n    <li class=\"\">\\r\\n        <a href=\"/redirect-pages/mega-menu/health-topics/popular/hepatitis\" target=\"_self\">Hepatitis</a>\\r\\n\\r\\n    </li>\\r\\n    <li class=\"\">\\r\\n        <a href=\"/redirect-pages/mega-menu/health-topics/popular/top-10-causes-of-death\" target=\"_self\">Top 10 causes of death</a>\\r\\n\\r\\n    </li>\\r\\n            </ul>\\r\\n    </li>\\r\\n    </ul>\\r\\n</div>\\r\\n\\r\\n\\r\\n\\r\\n\\r\\n\\r\\n    </div>\\r\\n     <div id=\"Navigation_T75121FDA161_Col03\" class=\"sf_colsIn col-md-3\" data-sf-element=\"Column 4\" data-placeholder-label=\"Column 4\">\\r\\n<div class=\"content-block\">\\r\\n    <div><div><a href=\"/campaigns/world-antibiotic-awareness-week/en/\"><strong>World Antibiotic Awareness Week&nbsp;&raquo;</strong></a></div></div>    \\r\\n\\r\\n</div>\\r\\n        <img class=\"lazy\" data-src=\"/images/default-source/campaigns/resistance-antibiotics-jpg.tmb-479v.jpg?sfvrsn=68a49229_6\" title=\"WMR-2017-cover_180px\" alt=\"World Antibiotic Awareness Week 2018\">\\r\\n\\r\\n    </div>\\r\\n</div>\\r\\n</div>\\r\\n        </div>\\r\\n    </div>\\r\\n</div>\\r\\n<div class=\"navItemLayout\">\\r\\n    <div id=\"Navigation_TD9F2A204027_Col00\" class=\"sf_colsIn navParent\" data-sf-element=\"Menu Parent Link\" data-placeholder-label=\"Menu Parent Link\">\\r\\n<nav role=\"navigation\">\\r\\n    <ul class=\"main-navigation\">\\r\\n    <li class=\"\"><a href=\"/redirect-pages/mega-menu/countries\" target=\"_self\">Countries</a></li>\\r\\n    </ul>\\r\\n</nav>\\r\\n\\r\\n\\r\\n\\r\\n\\r\\n</div>\\r\\n\\r\\n    <div class=\"container\">\\r\\n        <div class=\"row\">\\r\\n            <div id=\"Navigation_TD9F2A204027_Col01\" class=\"sf_colsIn col-md-12 navDropdown\" data-sf-element=\"Menu Item Dropdown\" data-placeholder-label=\"Menu Item Dropdown\"><div class=\"row\" data-sf-element=\"Row\">\\r\\n    <div id=\"Navigation_TD9F2A204039_Col00\" class=\"sf_colsIn col-md-3\" data-sf-element=\"Column 1\" data-placeholder-label=\"Column 1\"><div id=\"Navigation_TD9F2A204043_Col00\" class=\"sf_colsIn horizontal\" data-sf-element=\"Horizontal\" data-placeholder-label=\"Horizontal\">\\r\\n<div class=\"content-block\">\\r\\n    <div><ul><li><a href=\"http://www.who.int/countries/en/\">All countries&nbsp;&raquo;</a></li><li><a href=\"http://www.who.int/countries/en/#A\">A</a></li><li><a href=\"http://www.who.int/countries/en/#B\">B</a></li><li><a href=\"http://www.who.int/countries/en/#C\">C</a></li><li><a href=\"http://www.who.int/countries/en/#D\">D</a></li><li><a href=\"http://www.who.int/countries/en/#E\">E</a></li><li><a href=\"http://www.who.int/countries/en/#F\">F</a></li><li><a href=\"http://www.who.int/countries/en/#G\">G</a></li><li><a href=\"http://www.who.int/countries/en/#H\">H</a></li><li><a href=\"http://www.who.int/countries/en/#I \">I</a></li><li><a href=\"http://www.who.int/countries/en/#J\\n            \">J</a></li><li><a href=\"http://www.who.int/countries/en/#K \">K</a></li><li><a href=\"http://www.who.int/countries/en/#L \">L</a></li><li><a href=\"http://www.who.int/countries/en/#M \">M</a></li><li><a href=\"http://www.who.int/countries/en/#N \">N</a></li><li><a href=\"http://www.who.int/countries/en/#O\\n            \">O</a></li><li><a href=\"http://www.who.int/countries/en/#P \">P</a></li><li><a href=\"http://www.who.int/countries/en/#Q \">Q</a></li><li><a \"=\" \" #r=\" \" countries=\" \" en=\" \" href=\"http://www.who.int/countries/en/#Q&gt;Q&lt;/a&gt;&lt;/li&gt; &lt;li&gt;&lt;a href=\" http:=\" \" www.who.int=\" \">R</a>\\n </li><li><a href=\"http://www.who.int/countries/en/#S \">S</a></li><li><a href=\"http://www.who.int/countries/en/#T \">T</a></li><li><a href=\"http://www.who.int/countries/en/#U \">U</a></li><li><a href=\"http://www.who.int/countries/en/#V\\n            \">V</a></li><li><a href=\"http://www.who.int/countries/en/#W \">W</a></li><li><a href=\"http://www.who.int/countries/en/#X \">X</a></li><li><a href=\"http://www.who.int/countries/en/#Y \">Y</a></li><li><a href=\"http://www.who.int/countries/en/#Z \">Z</a></li></ul></div>    \\r\\n\\r\\n</div>\\r\\n</div>\\r\\n\\r\\n    </div>\\r\\n     <div id=\"Navigation_TD9F2A204039_Col01\" class=\"sf_colsIn col-md-3\" data-sf-element=\"Column 2\" data-placeholder-label=\"Column 2\">\\r\\n<div class=\"main-navigation--wrapper\">\\r\\n\\r\\n    <ul class=\"main-navigation navVertical\">\\r\\n    <li class=\"\">\\r\\n        <a href=\"/redirect-pages/mega-menu/countries/regions\" target=\"_self\">Regions &#187;</a>\\r\\n\\r\\n            <ul class=\"sub-level\">\\r\\n    <li class=\"\">\\r\\n        <a href=\"/redirect-pages/mega-menu/countries/regions/africa\" target=\"_self\">Africa</a>\\r\\n\\r\\n    </li>\\r\\n    <li class=\"\">\\r\\n        <a href=\"/redirect-pages/mega-menu/countries/regions/americas\" target=\"_self\">Americas</a>\\r\\n\\r\\n    </li>\\r\\n    <li class=\"\">\\r\\n        <a href=\"/redirect-pages/mega-menu/countries/regions/south-east-asia\" target=\"_self\">South-East Asia</a>\\r\\n\\r\\n    </li>\\r\\n    <li class=\"\">\\r\\n        <a href=\"/redirect-pages/mega-menu/countries/regions/europe\" target=\"_self\">Europe</a>\\r\\n\\r\\n    </li>\\r\\n    <li class=\"\">\\r\\n        <a href=\"/redirect-pages/mega-menu/countries/regions/eastern-mediterranean\" target=\"_self\">Eastern Mediterranean</a>\\r\\n\\r\\n    </li>\\r\\n    <li class=\"\">\\r\\n        <a href=\"/redirect-pages/mega-menu/countries/regions/western-pacific\" target=\"_self\">Western Pacific</a>\\r\\n\\r\\n    </li>\\r\\n            </ul>\\r\\n    </li>\\r\\n    </ul>\\r\\n</div>\\r\\n\\r\\n\\r\\n\\r\\n\\r\\n\\r\\n    </div>\\r\\n     <div id=\"Navigation_TD9F2A204039_Col02\" class=\"sf_colsIn col-md-3\" data-sf-element=\"Column 3\" data-placeholder-label=\"Column 3\">\\r\\n<div class=\"main-navigation--wrapper\">\\r\\n\\r\\n    <ul class=\"main-navigation navVertical\">\\r\\n    <li class=\"\">\\r\\n        <a href=\"/redirect-pages/mega-menu/countries/who-in-countries\" target=\"_self\">WHO in countries &#187;</a>\\r\\n\\r\\n            <ul class=\"sub-level\">\\r\\n    <li class=\"\">\\r\\n        <a href=\"/redirect-pages/mega-menu/countries/who-in-countries/overview\" target=\"_self\">Overview</a>\\r\\n\\r\\n    </li>\\r\\n    <li class=\"\">\\r\\n        <a href=\"/redirect-pages/mega-menu/countries/who-in-countries/data-statistics\" target=\"_self\">Statistics</a>\\r\\n\\r\\n    </li>\\r\\n    <li class=\"\">\\r\\n        <a href=\"/redirect-pages/mega-menu/countries/who-in-countries/cooperation-strategies\" target=\"_self\">Cooperation strategies</a>\\r\\n\\r\\n    </li>\\r\\n            </ul>\\r\\n    </li>\\r\\n    </ul>\\r\\n</div>\\r\\n\\r\\n\\r\\n\\r\\n\\r\\n\\r\\n    </div>\\r\\n     <div id=\"Navigation_TD9F2A204039_Col03\" class=\"sf_colsIn col-md-3\" data-sf-element=\"Column 4\" data-placeholder-label=\"Column 4\">\\r\\n<div class=\"content-block\">\\r\\n    <div><div class=\"navigation-title\"><a href=\"http://www.who.int/emergencies/crises/cod/en/\">Democratic Republic of the Congo&nbsp;&raquo;</a></div></div>    \\r\\n\\r\\n</div>\\r\\n    <a href=\"http://www.who.int/redirect-pages/mega-menu/emergencies/emergencies/democratic-republic-of-the-congo\">\\r\\n                <img class=\"lazy\" data-src=\"/images/default-source/imported/ebola-drc-4-630px-jpg.tmb-340v.jpg?sfvrsn=d52a48d0_12\" title=\"chronic-disease-tanzania\" alt=\"An old man in Tanzania, having his blood pressure checked\">\\r\\n\\r\\n    </a>\\r\\n\\r\\n<div class=\"content-block\">\\r\\n    <div><div class=\"navigation-title\">&nbsp;</div></div>    \\r\\n\\r\\n</div>\\r\\n    </div>\\r\\n</div>\\r\\n</div>\\r\\n        </div>\\r\\n    </div>\\r\\n</div>\\r\\n<div class=\"navItemLayout\">\\r\\n    <div id=\"Navigation_TD9F2A204028_Col00\" class=\"sf_colsIn navParent\" data-sf-element=\"Menu Parent Link\" data-placeholder-label=\"Menu Parent Link\">\\r\\n<nav role=\"navigation\">\\r\\n    <ul class=\"main-navigation\">\\r\\n    <li class=\"\"><a href=\"/news-room\" target=\"_self\">News</a></li>\\r\\n    </ul>\\r\\n</nav>\\r\\n\\r\\n\\r\\n\\r\\n\\r\\n</div>\\r\\n\\r\\n    <div class=\"container\">\\r\\n        <div class=\"row\">\\r\\n            <div id=\"Navigation_TD9F2A204028_Col01\" class=\"sf_colsIn col-md-12 navDropdown\" data-sf-element=\"Menu Item Dropdown\" data-placeholder-label=\"Menu Item Dropdown\"><div class=\"row\" data-sf-element=\"Row\">\\r\\n    <div id=\"Navigation_TD9F2A204038_Col00\" class=\"sf_colsIn col-md-3\" data-sf-element=\"Column 1\" data-placeholder-label=\"Column 1\">\\r\\n<div class=\"main-navigation--wrapper\">\\r\\n\\r\\n    <ul class=\"main-navigation navVertical\">\\r\\n    <li class=\"\">\\r\\n        <a href=\"/redirect-pages/mega-menu/news/all-news\" target=\"_self\">All news &#187;</a>\\r\\n\\r\\n            <ul class=\"sub-level\">\\r\\n    <li class=\"\">\\r\\n        <a href=\"/redirect-pages/mega-menu/news/all-news/releases\" target=\"_self\">News releases</a>\\r\\n\\r\\n    </li>\\r\\n    <li class=\"\">\\r\\n        <a href=\"/redirect-pages/mega-menu/news/all-news/statements\" target=\"_self\">Statements</a>\\r\\n\\r\\n    </li>\\r\\n    <li class=\"\">\\r\\n        <a href=\"/redirect-pages/mega-menu/news/all-news/notes-for-media\" target=\"_self\">Notes for media</a>\\r\\n\\r\\n    </li>\\r\\n    <li class=\"\">\\r\\n        <a href=\"/redirect-pages/mega-menu/news/all-news/commentaries\" target=\"_self\">Commentaries</a>\\r\\n\\r\\n    </li>\\r\\n    <li class=\"\">\\r\\n        <a href=\"/redirect-pages/mega-menu/news/all-news/events\" target=\"_self\">Events</a>\\r\\n\\r\\n    </li>\\r\\n    <li class=\"\">\\r\\n        <a href=\"/redirect-pages/mega-menu/news/all-news/feature-stories\" target=\"_self\">Feature stories</a>\\r\\n\\r\\n    </li>\\r\\n    <li class=\"\">\\r\\n        <a href=\"/redirect-pages/mega-menu/news/all-news/speeches\" target=\"_self\">Speeches</a>\\r\\n\\r\\n    </li>\\r\\n    <li class=\"\">\\r\\n        <a href=\"/redirect-pages/mega-menu/news/all-news/spotlights\" target=\"_self\">Spotlight</a>\\r\\n\\r\\n    </li>\\r\\n            </ul>\\r\\n    </li>\\r\\n    </ul>\\r\\n</div>\\r\\n\\r\\n\\r\\n\\r\\n\\r\\n\\r\\n    </div>\\r\\n    <div id=\"Navigation_TD9F2A204038_Col01\" class=\"sf_colsIn col-md-6\" data-sf-element=\"Column 2\" data-placeholder-label=\"Column 2\">\\r\\n<div class=\"content-block\">\\r\\n    <div><ul><li><a href=\"http://www.who.int/news-room/headlines\">Headlines&nbsp;&raquo;</a></li></ul></div>    \\r\\n\\r\\n</div>\\r\\n\\r\\n<div id=\"listView\" class=\"vertical-list\"></div>\\r\\n<script type=\"text/x-kendo-tmpl\" id=\"template\">\\r\\n    <div class=\"vertical-list-item\">\\r\\n        <div class=\"info\">\\r\\n            <a href=\"http://www.who.int/news-room/detail#:ItemDefaultUrl #\" aria-label=\"#: Title #\" role=\"link\">\\r\\n                <p class=\"heading\">#: Title #</p>\\r\\n            </a>\\r\\n            <div class=\"date\">\\r\\n                <span class=\"timestamp\">#: FormatedDate #</span>\\r\\n                <div class=\"sf-tags-list\">\\r\\n                    <div class=\"sf-tags-list-item\">#: NewsType #</div>\\r\\n                </div>\\r\\n            </div>\\r\\n        </div>\\r\\n    </div>\\r\\n</script>\\r\\n\\r\\n<script>\\r\\n    function loadScript(url, callback) {\\r\\n        var script = document.createElement(\"script\");\\r\\n        script.type = \"text/javascript\";\\r\\n        if (script.readyState) {  //IE\\r\\n            script.onreadystatechange = function () {\\r\\n                if (script.readyState === \"loaded\" || script.readyState === \"complete\") {\\r\\n                    script.onreadystatechange = null;\\r\\n                    callback();\\r\\n                }\\r\\n            };\\r\\n        } else {  //Others\\r\\n            script.onload = function () {\\r\\n                callback();\\r\\n            };\\r\\n        }\\r\\n\\r\\n        script.src = url;\\r\\n        document.body.appendChild(script);\\r\\n    }\\r\\n\\r\\n    window.onload = function () {\\r\\n        loadScript(\"//kendo.cdn.telerik.com/2018.1.221/js/kendo.ui.core.min.js\", function () {\\r\\n            var remoteDataSource = new kendo.data.DataSource({\\r\\n                type: \"odata-v4\",\\r\\n                transport: {\\r\\n                    read: \"/api/news/newsitems?sf_provider=OpenAccessDataProvider&sf_culture=en&$top=4&$orderby=PublicationDateAndTime%20desc&$select=Title,ItemDefaultUrl,FormatedDate,NewsType\"\\r\\n                }\\r\\n            });\\r\\n            $(\"#listView\").kendoListView({\\r\\n                dataSource: remoteDataSource,\\r\\n                pageable: true,\\r\\n                template: kendo.template($(\"#template\").html()),\\r\\n                dataBound: function () {\\r\\n                    this.wrapper.removeClass(\"k-widget\");\\r\\n                    this.wrapper.removeClass(\"k-listview\");\\r\\n                }\\r\\n            });\\r\\n        });\\r\\n    };\\r\\n</script>\\r\\n\\r\\n    </div>\\r\\n    <div id=\"Navigation_TD9F2A204038_Col02\" class=\"sf_colsIn col-md-3\" data-sf-element=\"Column 3\" data-placeholder-label=\"Column 3\">\\r\\n<div class=\"content-block\">\\r\\n    <div><ul><li><a href=\"http://www.who.int/news-room/spotlight\">Spotlight&nbsp;&raquo;</a></li></ul></div>    \\r\\n\\r\\n</div>\\r\\n    <a href=\"http://www.who.int/influenza/spotlight\">\\r\\n                <img class=\"lazy\" data-src=\"/images/default-source/big-stories/influenza-spotlight/image-gallery/influenza-gallery-4.tmb-340v.jpg?sfvrsn=5b13b6d8_1\" title=\"Coming of age: adolescent health\" alt=\"Adolescents Asia girls\">\\r\\n\\r\\n    </a>\\r\\n\\r\\n<div class=\"content-block\">\\r\\n    <div><a href=\"http://www.who.int/influenza/spotlight\">Influenza: are we ready?</a></div>    \\r\\n\\r\\n</div>\\r\\n    </div>\\r\\n</div>\\r\\n</div>\\r\\n        </div>\\r\\n    </div>\\r\\n</div>\\r\\n<div class=\"navItemLayout\">\\r\\n    <div id=\"Navigation_TD9F2A204040_Col00\" class=\"sf_colsIn navParent\" data-sf-element=\"Menu Parent Link\" data-placeholder-label=\"Menu Parent Link\">\\r\\n<nav role=\"navigation\">\\r\\n    <ul class=\"main-navigation\">\\r\\n    <li class=\"\"><a href=\"/redirect-pages/mega-menu/emergencies\" target=\"_self\">Emergencies</a></li>\\r\\n    </ul>\\r\\n</nav>\\r\\n\\r\\n\\r\\n\\r\\n\\r\\n</div>\\r\\n\\r\\n    <div class=\"container\">\\r\\n        <div class=\"row\">\\r\\n            <div id=\"Navigation_TD9F2A204040_Col01\" class=\"sf_colsIn col-md-12 navDropdown\" data-sf-element=\"Menu Item Dropdown\" data-placeholder-label=\"Menu Item Dropdown\"><div class=\"row\" data-sf-element=\"Row\">\\r\\n    <div id=\"Navigation_TD9F2A204090_Col00\" class=\"sf_colsIn col-md-3\" data-sf-element=\"Column 1\" data-placeholder-label=\"Column 1\">\\r\\n<div class=\"main-navigation--wrapper\">\\r\\n\\r\\n    <ul class=\"main-navigation navVertical\">\\r\\n    <li class=\"\">\\r\\n        <a href=\"/redirect-pages/mega-menu/emergencies/emergencies\" target=\"_self\">Focus on &#187;</a>\\r\\n\\r\\n            <ul class=\"sub-level\">\\r\\n    <li class=\"\">\\r\\n        <a href=\"/redirect-pages/mega-menu/emergencies/emergencies/bangladesh-rohingya\" target=\"_self\">Bangladesh Rohingya</a>\\r\\n\\r\\n    </li>\\r\\n    <li class=\"\">\\r\\n        <a href=\"/redirect-pages/mega-menu/emergencies/emergencies/democratic-republic-of-the-congo\" target=\"_self\">Democratic Republic of the Congo</a>\\r\\n\\r\\n    </li>\\r\\n    <li class=\"\">\\r\\n        <a href=\"/redirect-pages/mega-menu/emergencies/emergencies/iraq\" target=\"_self\">Iraq</a>\\r\\n\\r\\n    </li>\\r\\n    <li class=\"\">\\r\\n        <a href=\"/redirect-pages/mega-menu/emergencies/emergencies/nigeria\" target=\"_self\">Nigeria</a>\\r\\n\\r\\n    </li>\\r\\n    <li class=\"\">\\r\\n        <a href=\"/redirect-pages/mega-menu/emergencies/emergencies/somalia\" target=\"_self\">Somalia</a>\\r\\n\\r\\n    </li>\\r\\n    <li class=\"\">\\r\\n        <a href=\"/redirect-pages/mega-menu/emergencies/emergencies/south-sudan\" target=\"_self\">South Sudan</a>\\r\\n\\r\\n    </li>\\r\\n    <li class=\"\">\\r\\n        <a href=\"/redirect-pages/mega-menu/emergencies/emergencies/syrian-arab-republic\" target=\"_self\">Syrian Arab Republic</a>\\r\\n\\r\\n    </li>\\r\\n    <li class=\"\">\\r\\n        <a href=\"/redirect-pages/mega-menu/emergencies/emergencies/yemen\" target=\"_self\">Yemen</a>\\r\\n\\r\\n    </li>\\r\\n            </ul>\\r\\n    </li>\\r\\n    <li class=\"\">\\r\\n        <a href=\"/redirect-pages/mega-menu/emergencies/all-emergencies\" target=\"_self\">All emergencies &#187;</a>\\r\\n\\r\\n    </li>\\r\\n    </ul>\\r\\n</div>\\r\\n\\r\\n\\r\\n\\r\\n\\r\\n\\r\\n    </div>\\r\\n     <div id=\"Navigation_TD9F2A204090_Col01\" class=\"sf_colsIn col-md-3\" data-sf-element=\"Column 2\" data-placeholder-label=\"Column 2\">\\r\\n<div class=\"main-navigation--wrapper\">\\r\\n\\r\\n    <ul class=\"main-navigation navVertical\">\\r\\n    <li class=\"\">\\r\\n        <a href=\"/redirect-pages/mega-menu/emergencies/news\" target=\"_self\">Latest &#187;</a>\\r\\n\\r\\n            <ul class=\"sub-level\">\\r\\n    <li class=\"\">\\r\\n        <a href=\"/redirect-pages/mega-menu/emergencies/news/by-country\" target=\"_self\">By country</a>\\r\\n\\r\\n    </li>\\r\\n    <li class=\"\">\\r\\n        <a href=\"/redirect-pages/mega-menu/emergencies/news/outbreaks-by-disease\" target=\"_self\">By disease</a>\\r\\n\\r\\n    </li>\\r\\n    <li class=\"\">\\r\\n        <a href=\"/redirect-pages/mega-menu/emergencies/news/disease-outbreak-news-(dons)\" target=\"_self\">Disease Outbreak News</a>\\r\\n\\r\\n    </li>\\r\\n    <li class=\"\">\\r\\n        <a href=\"/redirect-pages/mega-menu/emergencies/news/weekly-epidemiological-record\" target=\"_self\">Weekly Epidemiological Record</a>\\r\\n\\r\\n    </li>\\r\\n    <li class=\"\">\\r\\n        <a href=\"/redirect-pages/mega-menu/emergencies/news/health-emergency-highlights\" target=\"_self\">Health Emergency Highlights</a>\\r\\n\\r\\n    </li>\\r\\n    <li class=\"\">\\r\\n        <a href=\"/redirect-pages/mega-menu/emergencies/news/travel-advice\" target=\"_self\">Travel advice</a>\\r\\n\\r\\n    </li>\\r\\n            </ul>\\r\\n    </li>\\r\\n    </ul>\\r\\n</div>\\r\\n\\r\\n\\r\\n\\r\\n\\r\\n\\r\\n    </div>\\r\\n     <div id=\"Navigation_TD9F2A204090_Col02\" class=\"sf_colsIn col-md-3\" data-sf-element=\"Column 3\" data-placeholder-label=\"Column 3\">\\r\\n    </div>\\r\\n     <div id=\"Navigation_TD9F2A204090_Col03\" class=\"sf_colsIn col-md-3\" data-sf-element=\"Column 4\" data-placeholder-label=\"Column 4\">\\r\\n<div class=\"content-block\">\\r\\n    <div><ul><li><a href=\"http://www.who.int/ebola/\">Ebola virus disease &raquo;</a></li></ul></div>    \\r\\n\\r\\n</div>\\r\\n    <a href=\"http://www.who.int/redirect-pages/page/ebola-virus-disease\">\\r\\n                <img class=\"lazy\" data-src=\"/images/default-source/imported/ebola-drc-medical-experts.tmb-340v.jpg?sfvrsn=c50d9d59_15\" title=\"ebola drc medical experts\" alt=\"Ebola in the Democratic Republic of the Congo\">\\r\\n\\r\\n    </a>\\r\\n\\r\\n    </div>\\r\\n</div>\\r\\n</div>\\r\\n        </div>\\r\\n    </div>\\r\\n</div>\\r\\n<div class=\"navItemLayout\">\\r\\n    <div id=\"Navigation_TD9F2A204026_Col00\" class=\"sf_colsIn navParent\" data-sf-element=\"Menu Parent Link\" data-placeholder-label=\"Menu Parent Link\">\\r\\n<nav role=\"navigation\">\\r\\n    <ul class=\"main-navigation\">\\r\\n    <li class=\"\"><a href=\"/redirect-pages/mega-menu/about-us\" target=\"_blank\">About Us</a></li>\\r\\n    </ul>\\r\\n</nav>\\r\\n\\r\\n\\r\\n\\r\\n\\r\\n</div>\\r\\n\\r\\n    <div class=\"container\">\\r\\n        <div class=\"row\">\\r\\n            <div id=\"Navigation_TD9F2A204026_Col01\" class=\"sf_colsIn col-md-12 navDropdown\" data-sf-element=\"Menu Item Dropdown\" data-placeholder-label=\"Menu Item Dropdown\"><div class=\"row\" data-sf-element=\"Row\">\\r\\n    <div id=\"Navigation_TD9F2A204035_Col00\" class=\"sf_colsIn col-md-3\" data-sf-element=\"Column 1\" data-placeholder-label=\"Column 1\">\\r\\n<div class=\"main-navigation--wrapper\">\\r\\n\\r\\n    <ul class=\"main-navigation navVertical\">\\r\\n    <li class=\"\">\\r\\n        <a href=\"/redirect-pages/mega-menu/about-us/about\" target=\"_self\">About WHO  &#187;</a>\\r\\n\\r\\n            <ul class=\"sub-level\">\\r\\n    <li class=\"\">\\r\\n        <a href=\"/redirect-pages/mega-menu/about-us/about/who-we-are\" target=\"_self\">Who we are</a>\\r\\n\\r\\n    </li>\\r\\n    <li class=\"\">\\r\\n        <a href=\"/redirect-pages/mega-menu/about-us/about/what-we-do\" target=\"_self\">What we do</a>\\r\\n\\r\\n    </li>\\r\\n    <li class=\"\">\\r\\n        <a href=\"/redirect-pages/mega-menu/about-us/about/where-we-work\" target=\"_self\">Where we work</a>\\r\\n\\r\\n    </li>\\r\\n    <li class=\"\">\\r\\n        <a href=\"/redirect-pages/mega-menu/about-us/about/programmes\" target=\"_self\">Programmes</a>\\r\\n\\r\\n    </li>\\r\\n    <li class=\"\">\\r\\n        <a href=\"/redirect-pages/mega-menu/about-us/about/who-we-work-with\" target=\"_self\">Collaboration and partnerships</a>\\r\\n\\r\\n    </li>\\r\\n    <li class=\"\">\\r\\n        <a href=\"/redirect-pages/mega-menu/about-us/about/director-general\" target=\"_self\">Director-General</a>\\r\\n\\r\\n    </li>\\r\\n    <li class=\"\">\\r\\n        <a href=\"/redirect-pages/mega-menu/about-us/about/ethics\" target=\"_self\">Ethics</a>\\r\\n\\r\\n    </li>\\r\\n            </ul>\\r\\n    </li>\\r\\n    </ul>\\r\\n</div>\\r\\n\\r\\n\\r\\n\\r\\n\\r\\n\\r\\n<nav role=\"navigation\">\\r\\n    <ul class=\"main-navigation\">\\r\\n    <li class=\"\"><a href=\"/redirect-pages/mega-menu/about-us/contact-us\" target=\"_self\">Contact us &#187;</a></li>\\r\\n    </ul>\\r\\n</nav>\\r\\n\\r\\n\\r\\n\\r\\n\\r\\n\\r\\n    </div>\\r\\n     <div id=\"Navigation_TD9F2A204035_Col01\" class=\"sf_colsIn col-md-3\" data-sf-element=\"Column 2\" data-placeholder-label=\"Column 2\">\\r\\n<div class=\"main-navigation--wrapper\">\\r\\n\\r\\n    <ul class=\"main-navigation navVertical\">\\r\\n    <li class=\"\">\\r\\n        <a href=\"/redirect-pages/mega-menu/about-us/governance\" target=\"_blank\">Governing bodies &#187;</a>\\r\\n\\r\\n            <ul class=\"sub-level\">\\r\\n    <li class=\"\">\\r\\n        <a href=\"/redirect-pages/mega-menu/about-us/governance/world-health-assembly\" target=\"_self\">World Health Assembly</a>\\r\\n\\r\\n    </li>\\r\\n    <li class=\"\">\\r\\n        <a href=\"/redirect-pages/mega-menu/about-us/governance/executive-board\" target=\"_self\">Executive Board</a>\\r\\n\\r\\n    </li>\\r\\n            </ul>\\r\\n    </li>\\r\\n    </ul>\\r\\n</div>\\r\\n\\r\\n\\r\\n\\r\\n\\r\\n\\r\\n    </div>\\r\\n     <div id=\"Navigation_TD9F2A204035_Col02\" class=\"sf_colsIn col-md-3\" data-sf-element=\"Column 3\" data-placeholder-label=\"Column 3\">\\r\\n<div class=\"main-navigation--wrapper\">\\r\\n\\r\\n    <ul class=\"main-navigation navVertical\">\\r\\n    <li class=\"\">\\r\\n        <a href=\"/redirect-pages/mega-menu/about-us/planning-accountability\" target=\"_self\">Accountability &#187;</a>\\r\\n\\r\\n            <ul class=\"sub-level\">\\r\\n    <li class=\"\">\\r\\n        <a href=\"/redirect-pages/mega-menu/about-us/planning-accountability/13th-general-programme-of-work-(gpw13)\" target=\"_blank\">General Programme of Work</a>\\r\\n\\r\\n    </li>\\r\\n    <li class=\"\">\\r\\n        <a href=\"/redirect-pages/mega-menu/about-us/planning-accountability/budget\" target=\"_blank\">Programme Budget Portal</a>\\r\\n\\r\\n    </li>\\r\\n    <li class=\"\">\\r\\n        <a href=\"/redirect-pages/mega-menu/about-us/planning-accountability/funding\" target=\"_self\">Funding</a>\\r\\n\\r\\n    </li>\\r\\n    <li class=\"\">\\r\\n        <a href=\"/redirect-pages/mega-menu/about-us/planning-accountability/financial-programmatic-reports\" target=\"_self\">Financial reports</a>\\r\\n\\r\\n    </li>\\r\\n            </ul>\\r\\n    </li>\\r\\n    </ul>\\r\\n</div>\\r\\n\\r\\n\\r\\n\\r\\n\\r\\n\\r\\n    </div>\\r\\n     <div id=\"Navigation_TD9F2A204035_Col03\" class=\"sf_colsIn col-md-3\" data-sf-element=\"Column 4\" data-placeholder-label=\"Column 4\">\\r\\n<div class=\"content-block\">\\r\\n    <div><div class=\"navigation-title\"><a href=\"http://www.who.int/about/what-we-do/who-brochure/\">Better health for everyone&nbsp;&raquo;</a></div></div>    \\r\\n\\r\\n</div>\\r\\n    <a href=\"http://www.who.int/about-us/what-we-do/who-brochure\">\\r\\n                <img class=\"lazy\" data-src=\"/images/default-source/publications/brochure/boy-malawi.tmb-340v.jpg?sfvrsn=41439f93_6\" title=\"boy_malawi\" alt=\"boy_malawi\">\\r\\n\\r\\n    </a>\\r\\n\\r\\n    </div>\\r\\n</div>\\r\\n</div>\\r\\n        </div>\\r\\n    </div>\\r\\n</div>\\r\\n </div>\\r\\n</div>\\r\\n </div><div id=\"page\" class=\"template_sidebar\">\\n\\t\\t<!-- begin: wrapper -->\\n\\t\\t<div id=\"wrapper\">\\n\\t\\t\\t                   \\n\\t\\t\\t<!-- begin: header -->\\n\\t\\t\\t<div id=\"header\">\\n\\t\\t\\t\\t\\t<!--including masthead file: /mason/mheader_en.mc?entity_name=diabetes -->\\n\\t\\t\\t\\t\\t<!--googleoff: index-->  \\n\\n<!-- begin: skip to content -->\\n<div id=\"skip\"><a href=\"#content\">Skip to main content</a></div>\\n\\n<!-- CHANGED  -->\\n\\t\\n\\n\\n<!-- begin: branding -->\\n  \\n  <!-- end: branding -->\\n\\n  <!-- begin: access -->\\n  <div id=\"access\">\\n    <h3>Access</h3>\\n    <ul>\\n      <li>\\n        <a linkindex=\"1\" accesskey=\"0\" title=\"Home\" href=\"/en/\">Home Alt+0</a>\\n      </li>\\n      <li>\\n        <a linkindex=\"2\" accesskey=\"1\" title=\"Navigation\" href=\"#navigation\">Navigation Alt+1</a>\\n      </li>\\n      <li>\\n        <a linkindex=\"3\" accesskey=\"2\" title=\"Content\" href=\"#main\">Content Alt+2</a>\\n      </li>\\n    </ul>\\n  </div>\\n  <!-- end: access -->\\n  \\n  <!-- begin: search -->\\n  \\n \\n <!-- end: search -->\\n  \\n  \\n  <!-- begin: navigation -->\\n  \\n  \\n  <!-- end: navigation -->\\n\\n  <div class=\"clear\"></div>\\n\\n  <!-- begin: language -->\\n  \\n\\n  <!-- end: language -->\\n\\n  <!-- begin: social links -->\\n  <div class=\"header-social-links\">\\n     <div class=\"addthis_inline_follow_toolbox\"></div>\\n </div>\\n  <!-- end: social links -->\\n   <!--googleon: index-->\\n\\n\\n \\n\\n \\n\\t\\t\\t</div>\\n\\t\\t\\t<!-- end: header -->\\n\\n\\t\\t\\t\\n\\t\\n\\n\\t\\t\\t\\n\\t\\t\\t<!-- begin: main --> \\n\\t\\t\\t\\t<div id=\"main\">\\n\\t\\t\\t\\t\\t<!-- begin: title -->\\n<div id=\"title\">\\n\\t<h2>\\n       Diabetes\\n\\t</h2>\\t   \\n</div>\\n<!-- end: title -->\\t\\n\\n\\n \\t\\n\\t\\t\\t\\t <!-- begin: sidebar -->\\n\\t\\t\\t\\t <div id=\"sidebar\">\\n                   \\n\\t<!-- begin: secondary navigation subnavigation -->\\n\\t<div id=\"subnavigation\">\\n\\t\\t<h3>Menu</h3>\\n\\n\\t <!--googleoff: index-->\\n<!-- Diabetes secondary navigation -->\\n\\n<ul class=\"subnavigation\"><li id=\"__diabetes\" class=\"leave\"><a href=\"/diabetes/en/\">Diabetes</a>\\n</li>\\n<li id=\"__diabetes__country-profiles\" class=\"leave\"><a href=\"/diabetes/country-profiles/en/\">Country profiles</a>\\n</li>\\n<li id=\"__diabetes__publications\" class=\"leave\"><a href=\"/diabetes/publications/en/\">Publications</a>\\n</li>\\n<li id=\"__diabetes__collaboratingcentres\" class=\"leave\"><a href=\"/diabetes/collaboratingcentres/en/\">Collaborating Centres</a>\\n</li>\\n<li id=\"__diabetes__links\" class=\"leave\"><a href=\"/diabetes/links/en/\">Links</a>\\n</li>\\n</ul>\\n <!--googleon: index-->\\n\\n\\n\\t</div>\\n\\t<!-- end: subnavigation -->\\n\\n\\n \\n\\t\\t\\t\\t  </div>\\n\\t\\t\\t\\t <!-- end: sidebar -->\\n\\t\\t\\t\\t \\t\\t\\t\\t \\t\\t\\t\\t \\t\\t\\t\\t \\n\\t\\t\\t\\t <!-- begin: content --> \\n\\t\\t\\t\\t    <div id=\"content\">\\n\\n\\n\\n\\n\\n\\n\\n\\n\\n\\n\\n\\n\\n\\n<!-- start: columns -->\\n<div class=\"columns\">\\n\\n<!-- start: col_2-1_1 -->\\n\\t<div class=\"col_2-1_1\">\\n\\n <h1 class=\"headline\">Diabetes country profiles 2016</h1>\\n<p>In order to combat the global epidemic of diabetes and noncommunicable diseases (NCDs), it is imperative to create a baseline for monitoring trends and to assess the progress of countries in addressing the epidemic. <br>\\r\\n<br>\\r\\nThe aim of the diabetes country profiles is to synthesize, in one reference document, the national status of diabetes prevention and control. Each profile includes data on diabetes prevalence and trends; mortality; risk factors; availability of diabetes country plans; monitoring and surveillance; primary prevention and treatment policies and availability of medicines, basic technologies and procedures. The data presented in the profiles are derived from several sources. For details on these please see the <a href=\"http://www.who.int/diabetes/country-profiles/diabetes_profiles_explanatory_notes.pdf\">explanatory notes</a>. <br>\\r\\n<br>\\r\\nThe profiles can be accessed as PDF documents below.\\r\\n</p>\\n<a name=\"top\"></a>\\n\\n<ul class=\"horizontal_list\">\\n\\n\\n\\n\\n\\t\\t\\t\\t <li class=\"first\"><a href=\"#A\">A</a></li>\\n\\t\\t\\t\\t <li><a href=\"#B\">B</a></li>\\n\\t\\t\\t\\t <li><a href=\"#C\">C</a></li>\\n\\t\\t\\t\\t <li><a href=\"#D\">D</a></li>\\n\\t\\t\\t\\t <li><a href=\"#E\">E</a></li>\\n\\t\\t\\t\\t <li><a href=\"#F\">F</a></li>\\n\\t\\t\\t\\t <li><a href=\"#G\">G</a></li>\\n\\t\\t\\t\\t <li><a href=\"#H\">H</a></li>\\n\\t\\t\\t\\t <li><a href=\"#I\">I</a></li>\\n\\t\\t\\t\\t <li><a href=\"#J\">J</a></li>\\n\\t\\t\\t\\t <li><a href=\"#K\">K</a></li>\\n\\t\\t\\t\\t <li><a href=\"#L\">L</a></li>\\n\\t\\t\\t\\t <li><a href=\"#M\">M</a></li>\\n\\t\\t\\t\\t <li><a href=\"#N\">N</a></li>\\n\\t\\t\\t\\t <li><a href=\"#O\">O</a></li>\\n\\t\\t\\t\\t <li><a href=\"#P\">P</a></li>\\n\\t\\t\\t\\t <li><a href=\"#Q\">Q</a></li>\\n\\t\\t\\t\\t <li><a href=\"#R\">R</a></li>\\n\\t\\t\\t\\t <li><a href=\"#S\">S</a></li>\\n\\t\\t\\t\\t <li><a href=\"#T\">T</a></li>\\n\\t\\t\\t\\t <li><a href=\"#U\">U</a></li>\\n\\t\\t\\t\\t <li><a href=\"#V\">V</a></li>\\n                 <li><span class=\"null\">W</span></li>\\n                 <li><span class=\"null\">X</span></li>\\n\\t\\t\\t\\t <li><a href=\"#Y\">Y</a></li>\\n\\t\\t\\t\\t <li><a href=\"#Z\">Z</a></li>\\n</ul>\\n<!-- start: largebox --> \\n<div class=\"largebox\">\\n    <h3 class=\"largebox_title\"><a name=\"A\">A</a></h3>\\n\\t<ul class=\"a_z\">\\n   <li><a href=\"/diabetes/country-profiles/afg_en.pdf\" target=\"_new\">Afghanistan </a></li>\\n   <li><a href=\"/diabetes/country-profiles/alb_en.pdf \" target=\"_new\">Albania </a></li>\\n   <li><a href=\"/diabetes/country-profiles/dza_en.pdf\" target=\"_new\">Algeria </a></li>\\n   <li><a href=\"/diabetes/country-profiles/and_en.pdf \" target=\"_new\">Andorra </a></li>\\n   <li><a href=\"/diabetes/country-profiles/ago_en.pdf \" target=\"_new\">Angola </a></li>\\n   <li><a href=\"/diabetes/country-profiles/atg_en.pdf \" target=\"_new\">Antigua and Barbuda </a></li>\\n   <li><a href=\"/diabetes/country-profiles/arg_en.pdf\" target=\"_new\">Argentina </a></li>\\n   <li><a href=\"/diabetes/country-profiles/arm_en.pdf\" target=\"_new\">Armenia </a></li>\\n   <li><a href=\"/diabetes/country-profiles/aus_en.pdf\" target=\"_new\">Australia </a></li>\\n   <li><a href=\"/diabetes/country-profiles/aut_en.pdf\" target=\"_new\">Austria </a></li>\\n   <li><a href=\"/diabetes/country-profiles/aze_en.pdf\" target=\"_new\">Azerbaijan </a></li>\\n\\t\\t</ul>\\n\\t\\t<p><a href=\"#top\" class=\"jumplink_top\"></a></p>\\n\\t\\t</div>\\n\\t  <!-- end: largebox --> \\n<!-- start: largebox --> \\n<div class=\"largebox\">\\n    <h3 class=\"largebox_title\"><a name=\"B\">B</a></h3>\\n\\t<ul class=\"a_z\">\\n   <li><a href=\"/diabetes/country-profiles/bhs_en.pdf\" target=\"_new\">Bahamas </a></li>\\n   <li><a href=\"/diabetes/country-profiles/bhr_en.pdf\" target=\"_new\">Bahrain </a></li>\\n   <li><a href=\"/diabetes/country-profiles/bgd_en.pdf\" target=\"_new\">Bangladesh </a></li>\\n   <li><a href=\"/diabetes/country-profiles/brb_en.pdf\" target=\"_new\">Barbados </a></li>\\n   <li><a href=\"/diabetes/country-profiles/blr_en.pdf\" target=\"_new\">Belarus </a></li>\\n   <li><a href=\"/diabetes/country-profiles/bel_en.pdf\" target=\"_new\">Belgium </a></li>\\n   <li><a href=\"/diabetes/country-profiles/blz_en.pdf\" target=\"_new\">Belize </a></li>\\n   <li><a href=\"/diabetes/country-profiles/ben_en.pdf\" target=\"_new\">Benin </a></li>\\n   <li><a href=\"/diabetes/country-profiles/btn_en.pdf\" target=\"_new\">Bhutan </a></li>\\n   <li><a href=\"/diabetes/country-profiles/bol_en.pdf\" target=\"_new\">Bolivia (Plurinational State of) </a></li>\\n   <li><a href=\"/diabetes/country-profiles/bih_en.pdf\" target=\"_new\">Bosnia and Herzegovina </a></li>\\n   <li><a href=\"/diabetes/country-profiles/bwa_en.pdf\" target=\"_new\">Botswana </a></li>\\n   <li><a href=\"/diabetes/country-profiles/bra_en.pdf\" target=\"_new\">Brazil </a></li>\\n   <li><a href=\"/diabetes/country-profiles/brn_en.pdf\" target=\"_new\">Brunei Darussalam </a></li>\\n   <li><a href=\"/diabetes/country-profiles/bgr_en.pdf\" target=\"_new\">Bulgaria </a></li>\\n   <li><a href=\"/diabetes/country-profiles/bfa_en.pdf\" target=\"_new\">Burkina Faso </a></li>\\n   <li><a href=\"/diabetes/country-profiles/bdi_en.pdf\" target=\"_new\">Burundi </a></li>\\n\\t\\t</ul>\\n\\t\\t<p><a href=\"#top\" class=\"jumplink_top\"></a></p>\\n\\t\\t</div>\\n\\t  <!-- end: largebox --> \\n<!-- start: largebox --> \\n<div class=\"largebox\">\\n    <h3 class=\"largebox_title\"><a name=\"C\">C</a></h3>\\n\\t<ul class=\"a_z\">\\n   <li><a href=\"/diabetes/country-profiles/khm_en.pdf\" target=\"_new\">Cambodia </a></li>\\n   <li><a href=\"/diabetes/country-profiles/cmr_en.pdf\" target=\"_new\">Cameroon </a></li>\\n   <li><a href=\"/diabetes/country-profiles/can_en.pdf\" target=\"_new\">Canada </a></li>\\n   <li><a href=\"/diabetes/country-profiles/cpv_en.pdf\" target=\"_new\">Cape Verde </a></li>\\n   <li><a href=\"/diabetes/country-profiles/caf_en.pdf\" target=\"_new\">Central African Republic </a></li>\\n   <li><a href=\"/diabetes/country-profiles/tcd_en.pdf\" target=\"_new\">Chad </a></li>\\n   <li><a href=\"/entity/diabetes/country-profiles/chl_en.pdf\\r\\n\" target=\"_new\">Chile </a></li>\\n   <li><a href=\"/diabetes/country-profiles/chn_en.pdf\" target=\"_new\">China </a></li>\\n   <li><a href=\"/diabetes/country-profiles/col_en.pdf\" target=\"_new\">Colombia </a></li>\\n   <li><a href=\"/diabetes/country-profiles/com_en.pdf\" target=\"_new\">Comoros </a></li>\\n   <li><a href=\"/diabetes/country-profiles/cog_en.pdf\" target=\"_new\">Congo </a></li>\\n   <li><a href=\"/diabetes/country-profiles/cok_en.pdf\" target=\"_new\">Cook Islands </a></li>\\n   <li><a href=\"/diabetes/country-profiles/cri_en.pdf\" target=\"_new\">Costa Rica </a></li>\\n   <li><a href=\"/diabetes/country-profiles/civ_en.pdf\" target=\"_new\">CÃ´te d\\'Ivoire </a></li>\\n   <li><a href=\"/diabetes/country-profiles/hrv_en.pdf\" target=\"_new\">Croatia </a></li>\\n   <li><a href=\"/diabetes/country-profiles/cub_en.pdf\" target=\"_new\">Cuba </a></li>\\n   <li><a href=\"/diabetes/country-profiles/cyp_en.pdf\" target=\"_new\">Cyprus </a></li>\\n   <li><a href=\"/diabetes/country-profiles/cze_en.pdf\" target=\"_new\">Czech Republic </a></li>\\n\\t\\t</ul>\\n\\t\\t<p><a href=\"#top\" class=\"jumplink_top\"></a></p>\\n\\t\\t</div>\\n\\t  <!-- end: largebox --> \\n<!-- start: largebox --> \\n<div class=\"largebox\">\\n    <h3 class=\"largebox_title\"><a name=\"D\">D</a></h3>\\n\\t<ul class=\"a_z\">\\n   <li><a href=\"/diabetes/country-profiles/prk_en.pdf\" target=\"_new\">Democratic People\\'s Republic of Korea </a></li>\\n   <li><a href=\"/diabetes/country-profiles/cod_en.pdf\" target=\"_new\">Democratic Republic of the Congo </a></li>\\n   <li><a href=\"/diabetes/country-profiles/dnk_en.pdf\" target=\"_new\">Denmark </a></li>\\n   <li><a href=\"/diabetes/country-profiles/dji_en.pdf\" target=\"_new\">Djibouti </a></li>\\n   <li><a href=\"/diabetes/country-profiles/dma_en.pdf\" target=\"_new\">Dominica </a></li>\\n   <li><a href=\"/diabetes/country-profiles/dom_en.pdf\" target=\"_new\">Dominican Republic </a></li>\\n\\t\\t</ul>\\n\\t\\t<p><a href=\"#top\" class=\"jumplink_top\"></a></p>\\n\\t\\t</div>\\n\\t  <!-- end: largebox --> \\n<!-- start: largebox --> \\n<div class=\"largebox\">\\n    <h3 class=\"largebox_title\"><a name=\"E\">E</a></h3>\\n\\t<ul class=\"a_z\">\\n   <li><a href=\"/diabetes/country-profiles/ecu_en.pdf\" target=\"_new\">Ecuador </a></li>\\n   <li><a href=\"/diabetes/country-profiles/egy_en.pdf\" target=\"_new\">Egypt </a></li>\\n   <li><a href=\"/diabetes/country-profiles/slv_en.pdf\" target=\"_new\">El Salvador </a></li>\\n   <li><a href=\"/diabetes/country-profiles/gnq_en.pdf\" target=\"_new\">Equatorial Guinea </a></li>\\n   <li><a href=\"/diabetes/country-profiles/eri_en.pdf\" target=\"_new\">Eritrea </a></li>\\n   <li><a href=\"/diabetes/country-profiles/est_en.pdf\" target=\"_new\">Estonia </a></li>\\n   <li><a href=\"/diabetes/country-profiles/eth_en.pdf\" target=\"_new\">Ethiopia </a></li>\\n\\t\\t</ul>\\n\\t\\t<p><a href=\"#top\" class=\"jumplink_top\"></a></p>\\n\\t\\t</div>\\n\\t  <!-- end: largebox --> \\n<!-- start: largebox --> \\n<div class=\"largebox\">\\n    <h3 class=\"largebox_title\"><a name=\"F\">F</a></h3>\\n\\t<ul class=\"a_z\">\\n   <li><a href=\"/diabetes/country-profiles/fji_en.pdf\" target=\"_new\">Fiji </a></li>\\n   <li><a href=\"/diabetes/country-profiles/fin_en.pdf\" target=\"_new\">Finland </a></li>\\n   <li><a href=\"/diabetes/country-profiles/fra_en.pdf\" target=\"_new\">France </a></li>\\n\\t\\t</ul>\\n\\t\\t<p><a href=\"#top\" class=\"jumplink_top\"></a></p>\\n\\t\\t</div>\\n\\t  <!-- end: largebox --> \\n<!-- start: largebox --> \\n<div class=\"largebox\">\\n    <h3 class=\"largebox_title\"><a name=\"G\">G</a></h3>\\n\\t<ul class=\"a_z\">\\n   <li><a href=\"/diabetes/country-profiles/gab_en.pdf\" target=\"_new\">Gabon </a></li>\\n   <li><a href=\"/diabetes/country-profiles/gmb_en.pdf\" target=\"_new\">Gambia </a></li>\\n   <li><a href=\"/diabetes/country-profiles/geo_en.pdf\" target=\"_new\">Georgia </a></li>\\n   <li><a href=\"/diabetes/country-profiles/deu_en.pdf\" target=\"_new\">Germany </a></li>\\n   <li><a href=\"/diabetes/country-profiles/gha_en.pdf\" target=\"_new\">Ghana </a></li>\\n   <li><a href=\"/diabetes/country-profiles/grc_en.pdf\" target=\"_new\">Greece </a></li>\\n   <li><a href=\"/diabetes/country-profiles/grd_en.pdf\" target=\"_new\">Grenada </a></li>\\n   <li><a href=\"/diabetes/country-profiles/gtm_en.pdf\" target=\"_new\">Guatemala </a></li>\\n   <li><a href=\"/diabetes/country-profiles/gin_en.pdf\" target=\"_new\">Guinea </a></li>\\n   <li><a href=\"/diabetes/country-profiles/gnb_en.pdf\" target=\"_new\">Guinea-Bissau </a></li>\\n   <li><a href=\"/diabetes/country-profiles/guy_en.pdf\" target=\"_new\">Guyana </a></li>\\n\\t\\t</ul>\\n\\t\\t<p><a href=\"#top\" class=\"jumplink_top\"></a></p>\\n\\t\\t</div>\\n\\t  <!-- end: largebox --> \\n<!-- start: largebox --> \\n<div class=\"largebox\">\\n    <h3 class=\"largebox_title\"><a name=\"H\">H</a></h3>\\n\\t<ul class=\"a_z\">\\n   <li><a href=\"/diabetes/country-profiles/hti_en.pdf\" target=\"_new\">Haiti </a></li>\\n   <li><a href=\"/diabetes/country-profiles/hnd_en.pdf\" target=\"_new\">Honduras </a></li>\\n   <li><a href=\"/diabetes/country-profiles/hun_en.pdf\" target=\"_new\">Hungary </a></li>\\n\\t\\t</ul>\\n\\t\\t<p><a href=\"#top\" class=\"jumplink_top\"></a></p>\\n\\t\\t</div>\\n\\t  <!-- end: largebox --> \\n<!-- start: largebox --> \\n<div class=\"largebox\">\\n    <h3 class=\"largebox_title\"><a name=\"I\">I</a></h3>\\n\\t<ul class=\"a_z\">\\n   <li><a href=\"/diabetes/country-profiles/isl_en.pdf\" target=\"_new\">Iceland </a></li>\\n   <li><a href=\"/diabetes/country-profiles/ind_en.pdf\" target=\"_new\">India </a></li>\\n   <li><a href=\"/diabetes/country-profiles/idn_en.pdf\" target=\"_new\">Indonesia </a></li>\\n   <li><a href=\"/diabetes/country-profiles/irn_en.pdf\" target=\"_new\">Iran (Islamic Republic of) </a></li>\\n   <li><a href=\"/diabetes/country-profiles/irq_en.pdf\" target=\"_new\">Iraq </a></li>\\n   <li><a href=\"/diabetes/country-profiles/irl_en.pdf\" target=\"_new\">Ireland </a></li>\\n   <li><a href=\"/diabetes/country-profiles/isr_en.pdf\" target=\"_new\">Israel </a></li>\\n   <li><a href=\"/diabetes/country-profiles/ita_en.pdf\" target=\"_new\">Italy </a></li>\\n\\t\\t</ul>\\n\\t\\t<p><a href=\"#top\" class=\"jumplink_top\"></a></p>\\n\\t\\t</div>\\n\\t  <!-- end: largebox --> \\n<!-- start: largebox --> \\n<div class=\"largebox\">\\n    <h3 class=\"largebox_title\"><a name=\"J\">J</a></h3>\\n\\t<ul class=\"a_z\">\\n   <li><a href=\"/diabetes/country-profiles/jam_en.pdf\" target=\"_new\">Jamaica </a></li>\\n   <li><a href=\"/diabetes/country-profiles/jpn_en.pdf\" target=\"_new\">Japan </a></li>\\n   <li><a href=\"/diabetes/country-profiles/jor_en.pdf\" target=\"_new\">Jordan </a></li>\\n\\t\\t</ul>\\n\\t\\t<p><a href=\"#top\" class=\"jumplink_top\"></a></p>\\n\\t\\t</div>\\n\\t  <!-- end: largebox --> \\n<!-- start: largebox --> \\n<div class=\"largebox\">\\n    <h3 class=\"largebox_title\"><a name=\"K\">K</a></h3>\\n\\t<ul class=\"a_z\">\\n   <li><a href=\"/diabetes/country-profiles/kaz_en.pdf\" target=\"_new\">Kazakhstan </a></li>\\n   <li><a href=\"/diabetes/country-profiles/ken_en.pdf\" target=\"_new\">Kenya </a></li>\\n   <li><a href=\"/diabetes/country-profiles/kir_en.pdf\" target=\"_new\">Kiribati </a></li>\\n   <li><a href=\"/diabetes/country-profiles/kwt_en.pdf\" target=\"_new\">Kuwait </a></li>\\n   <li><a href=\"/diabetes/country-profiles/kgz_en.pdf\" target=\"_new\">Kyrgyzstan </a></li>\\n\\t\\t</ul>\\n\\t\\t<p><a href=\"#top\" class=\"jumplink_top\"></a></p>\\n\\t\\t</div>\\n\\t  <!-- end: largebox --> \\n<!-- start: largebox --> \\n<div class=\"largebox\">\\n    <h3 class=\"largebox_title\"><a name=\"L\">L</a></h3>\\n\\t<ul class=\"a_z\">\\n   <li><a href=\"/diabetes/country-profiles/lao_en.pdf\" target=\"_new\">Lao People\\'s Democratic Republic </a></li>\\n   <li><a href=\"/diabetes/country-profiles/lva_en.pdf\" target=\"_new\">Latvia </a></li>\\n   <li><a href=\"/diabetes/country-profiles/lbn_en.pdf\" target=\"_new\">Lebanon </a></li>\\n   <li><a href=\"/diabetes/country-profiles/lso_en.pdf\" target=\"_new\">Lesotho </a></li>\\n   <li><a href=\"/diabetes/country-profiles/lbr_en.pdf\" target=\"_new\">Liberia </a></li>\\n   <li><a href=\"/diabetes/country-profiles/lby_en.pdf\" target=\"_new\">Libya </a></li>\\n   <li><a href=\"/diabetes/country-profiles/ltu_en.pdf\" target=\"_new\">Lithuania </a></li>\\n   <li><a href=\"/diabetes/country-profiles/lux_en.pdf\" target=\"_new\">Luxembourg </a></li>\\n\\t\\t</ul>\\n\\t\\t<p><a href=\"#top\" class=\"jumplink_top\"></a></p>\\n\\t\\t</div>\\n\\t  <!-- end: largebox --> \\n<!-- start: largebox --> \\n<div class=\"largebox\">\\n    <h3 class=\"largebox_title\"><a name=\"M\">M</a></h3>\\n\\t<ul class=\"a_z\">\\n   <li><a href=\"/diabetes/country-profiles/mdg_en.pdf\" target=\"_new\">Madagascar </a></li>\\n   <li><a href=\"/diabetes/country-profiles/mwi_en.pdf\" target=\"_new\">Malawi </a></li>\\n   <li><a href=\"/diabetes/country-profiles/mys_en.pdf\" target=\"_new\">Malaysia </a></li>\\n   <li><a href=\"/diabetes/country-profiles/mdv_en.pdf\" target=\"_new\">Maldives </a></li>\\n   <li><a href=\"/diabetes/country-profiles/mli_en.pdf\" target=\"_new\">Mali </a></li>\\n   <li><a href=\"/diabetes/country-profiles/mlt_en.pdf\" target=\"_new\">Malta </a></li>\\n   <li><a href=\"/diabetes/country-profiles/mhl_en.pdf\" target=\"_new\">Marshall Islands </a></li>\\n   <li><a href=\"/diabetes/country-profiles/mrt_en.pdf\" target=\"_new\">Mauritania </a></li>\\n   <li><a href=\"/diabetes/country-profiles/mus_en.pdf\" target=\"_new\">Mauritius </a></li>\\n   <li><a href=\"/diabetes/country-profiles/mex_en.pdf\" target=\"_new\">Mexico </a></li>\\n   <li><a href=\"/diabetes/country-profiles/fsm_en.pdf\" target=\"_new\">Micronesia (Federated States of) </a></li>\\n   <li><a href=\"/diabetes/country-profiles/mco_en.pdf\" target=\"_new\">Monaco </a></li>\\n   <li><a href=\"/diabetes/country-profiles/mng_en.pdf\" target=\"_new\">Mongolia </a></li>\\n   <li><a href=\"/diabetes/country-profiles/mne_en.pdf\" target=\"_new\">Montenegro </a></li>\\n   <li><a href=\"/diabetes/country-profiles/mar_en.pdf\" target=\"_new\">Morocco </a></li>\\n   <li><a href=\"/diabetes/country-profiles/moz_en.pdf\" target=\"_new\">Mozambique </a></li>\\n   <li><a href=\"/diabetes/country-profiles/mmr_en.pdf\" target=\"_new\">Myanmar </a></li>\\n\\t\\t</ul>\\n\\t\\t<p><a href=\"#top\" class=\"jumplink_top\"></a></p>\\n\\t\\t</div>\\n\\t  <!-- end: largebox --> \\n<!-- start: largebox --> \\n<div class=\"largebox\">\\n    <h3 class=\"largebox_title\"><a name=\"N\">N</a></h3>\\n\\t<ul class=\"a_z\">\\n   <li><a href=\"/diabetes/country-profiles/nam_en.pdf\" target=\"_new\">Namibia </a></li>\\n   <li><a href=\"/diabetes/country-profiles/nru_en.pdf\" target=\"_new\">Nauru </a></li>\\n   <li><a href=\"/diabetes/country-profiles/npl_en.pdf\" target=\"_new\">Nepal </a></li>\\n   <li><a href=\"/diabetes/country-profiles/nld_en.pdf\" target=\"_new\">Netherlands </a></li>\\n   <li><a href=\"/diabetes/country-profiles/nzl_en.pdf\" target=\"_new\">New Zealand </a></li>\\n   <li><a href=\"/diabetes/country-profiles/nic_en.pdf\" target=\"_new\">Nicaragua </a></li>\\n   <li><a href=\"/diabetes/country-profiles/ner_en.pdf\" target=\"_new\">Niger </a></li>\\n   <li><a href=\"/diabetes/country-profiles/nga_en.pdf\" target=\"_new\">Nigeria </a></li>\\n   <li><a href=\"/diabetes/country-profiles/niu_en.pdf\" target=\"_new\">Niue </a></li>\\n   <li><a href=\"/diabetes/country-profiles/nor_en.pdf\" target=\"_new\">Norway </a></li>\\n\\t\\t</ul>\\n\\t\\t<p><a href=\"#top\" class=\"jumplink_top\"></a></p>\\n\\t\\t</div>\\n\\t  <!-- end: largebox --> \\n<!-- start: largebox --> \\n<div class=\"largebox\">\\n    <h3 class=\"largebox_title\"><a name=\"O\">O</a></h3>\\n\\t<ul class=\"a_z\">\\n   <li><a href=\"/diabetes/country-profiles/omn_en.pdf\" target=\"_new\">Oman </a></li>\\n\\t\\t</ul>\\n\\t\\t<p><a href=\"#top\" class=\"jumplink_top\"></a></p>\\n\\t\\t</div>\\n\\t  <!-- end: largebox --> \\n<!-- start: largebox --> \\n<div class=\"largebox\">\\n    <h3 class=\"largebox_title\"><a name=\"P\">P</a></h3>\\n\\t<ul class=\"a_z\">\\n   <li><a href=\"/diabetes/country-profiles/pak_en.pdf\" target=\"_new\">Pakistan </a></li>\\n   <li><a href=\"/diabetes/country-profiles/plw_en.pdf\" target=\"_new\">Palau </a></li>\\n   <li><a href=\"/diabetes/country-profiles/pan_en.pdf\" target=\"_new\">Panama </a></li>\\n   <li><a href=\"/diabetes/country-profiles/png_en.pdf\" target=\"_new\">Papua New Guinea </a></li>\\n   <li><a href=\"/diabetes/country-profiles/pry_en.pdf\" target=\"_new\">Paraguay </a></li>\\n   <li><a href=\"/diabetes/country-profiles/per_en.pdf\" target=\"_new\">Peru </a></li>\\n   <li><a href=\"/diabetes/country-profiles/phl_en.pdf\" target=\"_new\">Philippines </a></li>\\n   <li><a href=\"/entity/diabetes/country-profiles/pol_en.pdf\\r\\n\" target=\"_new\">Poland </a></li>\\n   <li><a href=\"/entity/diabetes/country-profiles/prt_en.pdf\\r\\n\" target=\"_new\">Portugal </a></li>\\n\\t\\t</ul>\\n\\t\\t<p><a href=\"#top\" class=\"jumplink_top\"></a></p>\\n\\t\\t</div>\\n\\t  <!-- end: largebox --> \\n<!-- start: largebox --> \\n<div class=\"largebox\">\\n    <h3 class=\"largebox_title\"><a name=\"Q\">Q</a></h3>\\n\\t<ul class=\"a_z\">\\n   <li><a href=\"/diabetes/country-profiles/qat_en.pdf\" target=\"_new\">Qatar </a></li>\\n\\t\\t</ul>\\n\\t\\t<p><a href=\"#top\" class=\"jumplink_top\"></a></p>\\n\\t\\t</div>\\n\\t  <!-- end: largebox --> \\n<!-- start: largebox --> \\n<div class=\"largebox\">\\n    <h3 class=\"largebox_title\"><a name=\"R\">R</a></h3>\\n\\t<ul class=\"a_z\">\\n   <li><a href=\"/diabetes/country-profiles/kor_en.pdf\" target=\"_new\">Republic of Korea </a></li>\\n   <li><a href=\"/diabetes/country-profiles/mda_en.pdf\" target=\"_new\">Republic of Moldova </a></li>\\n   <li><a href=\"/diabetes/country-profiles/rou_en.pdf\" target=\"_new\">Romania </a></li>\\n   <li><a href=\"/diabetes/country-profiles/rus_en.pdf\" target=\"_new\">Russian Federation </a></li>\\n   <li><a href=\"/diabetes/country-profiles/rwa_en.pdf\" target=\"_new\">Rwanda </a></li>\\n\\t\\t</ul>\\n\\t\\t<p><a href=\"#top\" class=\"jumplink_top\"></a></p>\\n\\t\\t</div>\\n\\t  <!-- end: largebox --> \\n<!-- start: largebox --> \\n<div class=\"largebox\">\\n    <h3 class=\"largebox_title\"><a name=\"S\">S</a></h3>\\n\\t<ul class=\"a_z\">\\n   <li><a href=\"/diabetes/country-profiles/kna_en.pdf\" target=\"_new\">Saint Kitts and Nevis </a></li>\\n   <li><a href=\"/diabetes/country-profiles/lca_en.pdf\" target=\"_new\">Saint Lucia </a></li>\\n   <li><a href=\"/diabetes/country-profiles/vct_en.pdf\" target=\"_new\">Saint Vincent and the Grenadines </a></li>\\n   <li><a href=\"/diabetes/country-profiles/wsm_en.pdf\" target=\"_new\">Samoa </a></li>\\n   <li><a href=\"/diabetes/country-profiles/smr_en.pdf\" target=\"_new\">San Marino </a></li>\\n   <li><a href=\"/diabetes/country-profiles/stp_en.pdf\" target=\"_new\">Sao Tome and Principe </a></li>\\n   <li><a href=\"/diabetes/country-profiles/sau_en.pdf\" target=\"_new\">Saudi Arabia </a></li>\\n   <li><a href=\"/diabetes/country-profiles/sen_en.pdf\" target=\"_new\">Senegal </a></li>\\n   <li><a href=\"/diabetes/country-profiles/srb_en.pdf\" target=\"_new\">Serbia </a></li>\\n   <li><a href=\"/diabetes/country-profiles/syc_en.pdf\" target=\"_new\">Seychelles </a></li>\\n   <li><a href=\"/diabetes/country-profiles/sle_en.pdf\" target=\"_new\">Sierra Leone </a></li>\\n   <li><a href=\"/diabetes/country-profiles/sgp_en.pdf\" target=\"_new\">Singapore </a></li>\\n   <li><a href=\"/diabetes/country-profiles/svk_en.pdf\" target=\"_new\">Slovakia </a></li>\\n   <li><a href=\"/diabetes/country-profiles/svn_en.pdf\" target=\"_new\">Slovenia </a></li>\\n   <li><a href=\"/diabetes/country-profiles/slb_en.pdf\" target=\"_new\">Solomon Islands </a></li>\\n   <li><a href=\"/diabetes/country-profiles/som_en.pdf\" target=\"_new\">Somalia </a></li>\\n   <li><a href=\"/diabetes/country-profiles/zaf_en.pdf\" target=\"_new\">South Africa </a></li>\\n   <li><a href=\"/diabetes/country-profiles/ssd_en.pdf\" target=\"_new\">South Sudan</a></li>\\n   <li><a href=\"/diabetes/country-profiles/esp_en.pdf\" target=\"_new\">Spain </a></li>\\n   <li><a href=\"/diabetes/country-profiles/lka_en.pdf\" target=\"_new\">Sri Lanka </a></li>\\n   <li><a href=\"/diabetes/country-profiles/sdn_en.pdf\" target=\"_new\">Sudan </a></li>\\n   <li><a href=\"/diabetes/country-profiles/sur_en.pdf\" target=\"_new\">Suriname </a></li>\\n   <li><a href=\"/diabetes/country-profiles/swz_en.pdf\" target=\"_new\">Swaziland </a></li>\\n   <li><a href=\"/diabetes/country-profiles/swe_en.pdf\" target=\"_new\">Sweden </a></li>\\n   <li><a href=\"/diabetes/country-profiles/che_en.pdf\" target=\"_new\">Switzerland </a></li>\\n   <li><a href=\"/diabetes/country-profiles/syr_en.pdf\" target=\"_new\">Syrian Arab Republic </a></li>\\n\\t\\t</ul>\\n\\t\\t<p><a href=\"#top\" class=\"jumplink_top\"></a></p>\\n\\t\\t</div>\\n\\t  <!-- end: largebox --> \\n<!-- start: largebox --> \\n<div class=\"largebox\">\\n    <h3 class=\"largebox_title\"><a name=\"T\">T</a></h3>\\n\\t<ul class=\"a_z\">\\n   <li><a href=\"/diabetes/country-profiles/tjk_en.pdf\" target=\"_new\">Tajikistan </a></li>\\n   <li><a href=\"/diabetes/country-profiles/tha_en.pdf\" target=\"_new\">Thailand </a></li>\\n   <li><a href=\"/diabetes/country-profiles/mkd_en.pdf\" target=\"_new\">The former Yugoslav Republic of Macedonia </a></li>\\n   <li><a href=\"/diabetes/country-profiles/tls_en.pdf\" target=\"_new\">Timor-Leste </a></li>\\n   <li><a href=\"/diabetes/country-profiles/tgo_en.pdf\" target=\"_new\">Togo </a></li>\\n   <li><a href=\"/diabetes/country-profiles/ton_en.pdf\" target=\"_new\">Tonga </a></li>\\n   <li><a href=\"/diabetes/country-profiles/tto_en.pdf\" target=\"_new\">Trinidad and Tobago </a></li>\\n   <li><a href=\"/diabetes/country-profiles/tun_en.pdf\" target=\"_new\">Tunisia </a></li>\\n   <li><a href=\"/diabetes/country-profiles/tur_en.pdf\" target=\"_new\">Turkey </a></li>\\n   <li><a href=\"/diabetes/country-profiles/tkm_en.pdf\" target=\"_new\">Turkmenistan </a></li>\\n   <li><a href=\"/diabetes/country-profiles/tuv_en.pdf\" target=\"_new\">Tuvalu </a></li>\\n\\t\\t</ul>\\n\\t\\t<p><a href=\"#top\" class=\"jumplink_top\"></a></p>\\n\\t\\t</div>\\n\\t  <!-- end: largebox --> \\n<!-- start: largebox --> \\n<div class=\"largebox\">\\n    <h3 class=\"largebox_title\"><a name=\"U\">U</a></h3>\\n\\t<ul class=\"a_z\">\\n   <li><a href=\"/diabetes/country-profiles/uga_en.pdf\" target=\"_new\">Uganda </a></li>\\n   <li><a href=\"/diabetes/country-profiles/ukr_en.pdf\" target=\"_new\">Ukraine </a></li>\\n   <li><a href=\"/diabetes/country-profiles/are_en.pdf\" target=\"_new\">United Arab Emirates </a></li>\\n   <li><a href=\"/entity/diabetes/country-profiles/gbr_en.pdf\\r\\n\" target=\"_new\">United Kingdom </a></li>\\n   <li><a href=\"/entity/diabetes/country-profiles/tza_en.pdf\\r\\n\" target=\"_new\">United Republic of Tanzania </a></li>\\n   <li><a href=\"/entity/diabetes/country-profiles/usa_en.pdf\\r\\n\" target=\"_new\">United States of America </a></li>\\n   <li><a href=\"/diabetes/country-profiles/ury_en.pdf\" target=\"_new\">Uruguay </a></li>\\n   <li><a href=\"/diabetes/country-profiles/uzb_en.pdf\" target=\"_new\">Uzbekistan </a></li>\\n\\t\\t</ul>\\n\\t\\t<p><a href=\"#top\" class=\"jumplink_top\"></a></p>\\n\\t\\t</div>\\n\\t  <!-- end: largebox --> \\n<!-- start: largebox --> \\n<div class=\"largebox\">\\n    <h3 class=\"largebox_title\"><a name=\"V\">V</a></h3>\\n\\t<ul class=\"a_z\">\\n   <li><a href=\"/diabetes/country-profiles/vut_en.pdf\" target=\"_new\">Vanuatu </a></li>\\n   <li><a href=\"/diabetes/country-profiles/ven_en.pdf\" target=\"_new\">Venezuela (Bolivarian Republic of) </a></li>\\n   <li><a href=\"/diabetes/country-profiles/vnm_en.pdf\" target=\"_new\">Viet Nam </a></li>\\n\\t\\t</ul>\\n\\t\\t<p><a href=\"#top\" class=\"jumplink_top\"></a></p>\\n\\t\\t</div>\\n\\t  <!-- end: largebox --> \\n<!-- start: largebox --> \\n<div class=\"largebox\">\\n    <h3 class=\"largebox_title\"><a name=\"Y\">Y</a></h3>\\n\\t<ul class=\"a_z\">\\n   <li><a href=\"/diabetes/country-profiles/yem_en.pdf\" target=\"_new\">Yemen </a></li>\\n\\t\\t</ul>\\n\\t\\t<p><a href=\"#top\" class=\"jumplink_top\"></a></p>\\n\\t\\t</div>\\n\\t  <!-- end: largebox --> \\n<!-- start: largebox --> \\n<div class=\"largebox\">\\n    <h3 class=\"largebox_title\"><a name=\"Z\">Z</a></h3>\\n\\t<ul class=\"a_z\">\\n   <li><a href=\"/diabetes/country-profiles/zmb_en.pdf\" target=\"_new\">Zambia </a></li>\\n   <li><a href=\"/entity/diabetes/country-profiles/zwe_en.pdf\\r\\n\" target=\"_new\">Zimbabwe </a></li>\\n\\n\\t\\t</ul>\\n\\t\\t<p><a href=\"#top\" class=\"jumplink_top\"></a></p>\\n\\t\\t</div><!-- end: largebox -->\\n\\t</div><!-- end: col_2-1_1 -->\\n\\t<!-- start: col_2-1_2 -->\\n\\t<div class=\"col_2-1_2\">\\n\\t   <!--googleoff: index-->\\n\\n\\n\\n\\n\\n\\n\\n\\n\\n\\n\\n\\n\\n\\n<!-- begin: box -->\\n<div class=\"box\">\\n<h3 class=\"box_title\">Contact us</h3>\\n<!-- start: teaser -->\\n<div class=\"teaser\">\\n\\t\\n   \\n \\n<p>\\n\\t<span> Ms Laura Sminkey <br>\\r\\nCommunications Officer<br>\\r\\nE-mail: <a href=\"mailto:sminkeyl@who.int\">sminkeyl@who.int</a><br>\\r\\nTel.: +41 22 791 4547<br>\\r\\nMob.: +41 79 249 3520</span>\\n</p>\\t\\n\\n</div>\\n<!-- end: teaser -->\\n\\n \\n</div>\\n<!-- begin: box -->\\n\\n\\n\\n\\n\\n\\n\\n <!--googleon: index-->\\n\\n\\n\\t</div>\\n\\t<!-- end: col_2-1_2 -->\\n</div>\\n<!-- end: columns -->\\n<div class=\"clear\"></div>\\n\\t\\t\\t\\t\\t\\t\\t<!-- & \\'/include/right_column.mc\\' & -->\\n\\t\\t\\t\\t\\t</div>\\n\\t\\t\\t\\t<!-- end: content -->\\n\\t\\t\\t\\t\\n\\t\\t\\t\\t<div class=\"clear\">\\n\\t\\t\\t\\t\\t<!-- all clear -->\\n\\t\\t\\t\\t</div>\\n\\t\\t\\t</div>\\n\\t\\t\\t<!-- end: main -->\\n\\t\\t\\t\\t\\t<div id=\"breadcrumb\">\\n    <h2>You are here:</h2>\\n\\t<ul>\\n\\t\\t<li>\\n\\t\\t\\t<a href=\"/diabetes/en/\" title=\"Diabetes Programme\">Diabetes Programme</a>\\n\\t\\t</li>\\n\\t\\t<li class=\"selected\">\\n\\t\\t\\t<a href=\"/diabetes/country-profiles/en/\" title=\"Diabetes country profiles 2016\">Diabetes country profiles 2016</a>\\n\\t\\t</li>\\n    </ul>\\n\\t<div class=\"clear\"></div>\\n</div>\\n\\n\\n\\n\\n\\n\\n\\n\\t\\t\\t<!-- begin: footer -->\\n\\t\\t\\t\\n\\t\\t\\t<!-- end: footer -->\\n\\t\\t\\t\\n\\t\\t</div>\\n\\t\\t<!-- end: wrapper -->\\n\\n\\t</div><footer id=\"sf-footer\"> <div class=\"main-footer\"> \\r\\n<div class=\"row\" data-sf-element=\"Row\">\\r\\n    <div id=\"Footer_T75121FDA191_Col00\" class=\"sf_colsIn col-md-3\" data-sf-element=\"Column 1\" data-placeholder-label=\"Column 1\">\\r\\n    </div>\\r\\n    <div id=\"Footer_T75121FDA191_Col01\" class=\"sf_colsIn col-md-6\" data-sf-element=\"Column 2\" data-placeholder-label=\"Column 2\">\\r\\n    </div>\\r\\n    <div id=\"Footer_T75121FDA191_Col02\" class=\"sf_colsIn col-md-3\" data-sf-element=\"Column 3\" data-placeholder-label=\"Column 3\">\\r\\n    </div>\\r\\n</div>\\r\\n<div id=\"Footer_TD9F2A204001_Col00\" class=\"sf_colsIn container\" data-sf-element=\"Container\" data-placeholder-label=\"Container\"><div class=\"row\" data-sf-element=\"Row\">\\r\\n    <div id=\"Footer_T75121FDA192_Col00\" class=\"sf_colsIn col-md-3\" data-sf-element=\"Column 1\" data-placeholder-label=\"Column 1\">\\r\\n    </div>\\r\\n     <div id=\"Footer_T75121FDA192_Col01\" class=\"sf_colsIn col-md-3\" data-sf-element=\"Column 2\" data-placeholder-label=\"Column 2\">\\r\\n    </div>\\r\\n     <div id=\"Footer_T75121FDA192_Col02\" class=\"sf_colsIn col-md-3\" data-sf-element=\"Column 3\" data-placeholder-label=\"Column 3\">\\r\\n    </div>\\r\\n     <div id=\"Footer_T75121FDA192_Col03\" class=\"sf_colsIn col-md-3\" data-sf-element=\"Column 4\" data-placeholder-label=\"Column 4\">\\r\\n    </div>\\r\\n</div>\\r\\n<div class=\"row\" data-sf-element=\"Row\">\\n    <div id=\"Footer_T75121FDA153_Col00\" class=\"sf_colsIn col-md-9\" data-sf-element=\"Column 1\" data-placeholder-label=\"Column 1\">\\r\\n<div class=\"main-navigation--wrapper\">\\r\\n\\r\\n    <ul class=\"main-navigation navVertical\">\\r\\n    <li class=\"\">\\r\\n        <a href=\"/redirect-pages/footer/quick-links\" target=\"_self\">What we do</a>\\r\\n\\r\\n            <ul class=\"sub-level\">\\r\\n    <li class=\"\">\\r\\n        <a href=\"/redirect-pages/footer/quick-links/topics\" target=\"_self\">Health Topics</a>\\r\\n\\r\\n    </li>\\r\\n    <li class=\"\">\\r\\n        <a href=\"/redirect-pages/footer/quick-links/countries\" target=\"_self\">Countries</a>\\r\\n\\r\\n    </li>\\r\\n    <li class=\"\">\\r\\n        <a href=\"/redirect-pages/footer/quick-links/programs\" target=\"_self\">Programmes</a>\\r\\n\\r\\n    </li>\\r\\n    <li class=\"\">\\r\\n        <a href=\"/redirect-pages/footer/quick-links/frequently-asked-questions\" target=\"_self\">Frequently asked questions</a>\\r\\n\\r\\n    </li>\\r\\n    <li class=\"\">\\r\\n        <a href=\"/redirect-pages/footer/quick-links/employment\" target=\"_self\">Employment</a>\\r\\n\\r\\n    </li>\\r\\n            </ul>\\r\\n    </li>\\r\\n    <li class=\"\">\\r\\n        <a href=\"/redirect-pages/footer/regions\" target=\"_self\">Regions</a>\\r\\n\\r\\n            <ul class=\"sub-level\">\\r\\n    <li class=\"\">\\r\\n        <a href=\"/redirect-pages/footer/regions/africa\" target=\"_self\">Africa</a>\\r\\n\\r\\n    </li>\\r\\n    <li class=\"\">\\r\\n        <a href=\"/redirect-pages/footer/regions/americas\" target=\"_self\">Americas</a>\\r\\n\\r\\n    </li>\\r\\n    <li class=\"\">\\r\\n        <a href=\"/redirect-pages/footer/regions/south-east-asia\" target=\"_self\">South-East Asia</a>\\r\\n\\r\\n    </li>\\r\\n    <li class=\"\">\\r\\n        <a href=\"/redirect-pages/footer/regions/europe\" target=\"_self\">Europe</a>\\r\\n\\r\\n    </li>\\r\\n    <li class=\"\">\\r\\n        <a href=\"/redirect-pages/footer/regions/eastern-mediterranen\" target=\"_self\">Eastern Mediterranean</a>\\r\\n\\r\\n    </li>\\r\\n    <li class=\"\">\\r\\n        <a href=\"/redirect-pages/footer/regions/western-pacific\" target=\"_self\">Western Pacific</a>\\r\\n\\r\\n    </li>\\r\\n            </ul>\\r\\n    </li>\\r\\n    <li class=\"\">\\r\\n        <a href=\"/redirect-pages/footer/about-us\" target=\"_self\">About us</a>\\r\\n\\r\\n            <ul class=\"sub-level\">\\r\\n    <li class=\"\">\\r\\n        <a href=\"/redirect-pages/footer/about-us/director-general\" target=\"_self\">Director-General</a>\\r\\n\\r\\n    </li>\\r\\n    <li class=\"\">\\r\\n        <a href=\"/redirect-pages/footer/about-us/world-health-assembly\" target=\"_self\">World Health Assembly</a>\\r\\n\\r\\n    </li>\\r\\n    <li class=\"\">\\r\\n        <a href=\"/redirect-pages/footer/about-us/executive-board\" target=\"_self\">Executive Board</a>\\r\\n\\r\\n    </li>\\r\\n    <li class=\"\">\\r\\n        <a href=\"/redirect-pages/footer/about-us/member-states\" target=\"_self\">Member States</a>\\r\\n\\r\\n    </li>\\r\\n    <li class=\"\">\\r\\n        <a href=\"/redirect-pages/footer/about-us/integrity-hotline\" target=\"_self\">Ethics</a>\\r\\n\\r\\n    </li>\\r\\n            </ul>\\r\\n    </li>\\r\\n    </ul>\\r\\n</div>\\r\\n\\r\\n\\r\\n\\r\\n\\r\\n\\n    </div>\\n    <div id=\"Footer_T75121FDA153_Col01\" class=\"sf_colsIn col-sm-3 col-md-3 centered-on-mobile\" data-sf-element=\"Column 2\" data-placeholder-label=\"Column 2\">\\r\\n<div class=\"main-navigation--wrapper\">\\r\\n\\r\\n    <ul class=\"main-navigation navVertical\">\\r\\n    <li class=\"\">\\r\\n        <a href=\"/redirect-pages/footer/contact-us\" target=\"_self\">Contact</a>\\r\\n\\r\\n            <ul class=\"sub-level\">\\r\\n    <li class=\"\">\\r\\n        <a href=\"/redirect-pages/footer/contact-us/contact-us\" target=\"_self\">Contact us</a>\\r\\n\\r\\n    </li>\\r\\n    <li class=\"\">\\r\\n        <a href=\"/redirect-pages/footer/contact-us/feedback\" target=\"_self\">Feedback</a>\\r\\n\\r\\n    </li>\\r\\n            </ul>\\r\\n    </li>\\r\\n    </ul>\\r\\n</div>\\r\\n\\r\\n\\r\\n\\r\\n\\r\\n\\r\\n<div class=\"content-block\">\\r\\n    <div><div class=\"button button-dark-background\" style=\"text-align:center;\"><a href=\"http://www.who.int/mediacentre/multimedia/newsletter/en/\">Subscribe to our newsletter</a></div></div>    \\r\\n\\r\\n</div>\\n    </div>\\n</div>\\n<div class=\"row\" data-sf-element=\"Row\">\\r\\n    <div id=\"Footer_T75121FDA199_Col00\" class=\"sf_colsIn col-md-12\" data-sf-element=\"Column 1\" data-placeholder-label=\"Column 1\">\\r\\n    </div>\\r\\n</div>\\r\\n\\r\\n</div>\\r\\n \\r\\n <div class=\"footer-logo\"> <a href=\"/\" title=\"Home\"> <img src=\"/ResourcePackages/WHO/assets/dist/images/logos/en/h-logo-white.svg\" alt=\"Home\" class=\"logo\"> </a> </div> </div> <div class=\"bottom-footer\"> <div class=\"container\"> <div class=\"row\"> <div class=\"col-md-4\"> \\r\\n\\r\\n<div class=\"content-block\">\\r\\n    <div><a href=\"http://who.int/about/privacy/en/\">Privacy Legal Notice</a></div>    \\r\\n\\r\\n</div> </div> <div class=\"col-md-4\"> \\r\\n\\r\\n\\r\\n<div class=\"social-share--add-this follow-us--footer\">\\r\\n    <div class=\"addthis_inline_follow_toolbox\"></div>\\r\\n</div>\\r\\n\\r\\n </div> <div class=\"col-md-4 copyright\"> <span>\\r\\n                                &copy;\\r\\n                            </span>\\r\\n\\r\\n                            2018\\r\\n\\r\\n                            \\r\\n\\r\\n<div class=\"content-block\">\\r\\n    <div><a href=\"http://www.who.int/about/copyright/en/\">WHO</a></div>    \\r\\n\\r\\n</div> </div> </div> </div> </div> </footer>\\n\\t<!-- end: page -->\\n<script type=\"text/javascript\">\\n        fixMenu();\\n</script> \\n\\n\\n\\n<!-- js to scrape:on --> <script type=\\'text/javascript\\' src=\\'/ResourcePackages/WHO/assets/dist/scripts/lib/slicknav.min.js?v=0202090422\\'></script> <script type=\\'text/javascript\\' src=\\'/ResourcePackages/WHO/assets/dist/scripts/lib/auto-complete.min.js?v=0202090422\\'></script> <script type=\\'text/javascript\\' src=\\'/ResourcePackages/WHO/assets/dist/scripts/lib/match-height.min.js?v=0206114536\\'></script> <script type=\\'text/javascript\\' src=\\'/ResourcePackages/WHO/assets/dist/scripts/lib/lazy.min.js?v=0503083924\\'></script> <script type=\\'text/javascript\\' src=\\'/ResourcePackages/WHO/assets/dist/scripts/lib/modernizr-custom.js?v=0816085418\\'></script> <script type=\\'text/javascript\\' src=\\'/ResourcePackages/WHO/assets/dist/scripts/lib/select2.full.min.js?v=0919072724\\'></script> <script type=\\'text/javascript\\' src=\\'/ResourcePackages/WHO/assets/dist/scripts/main.min.js?v=1011083602\\'></script> <script type=\\'text/javascript\\' src=\\'/ResourcePackages/WHO/assets/dist/scripts/main-navigation.min.js?v=1011083602\\'></script><script type=\\'text/javascript\\' src=\\'/ResourcePackages/WHO/assets/dist/scripts/geo-navigation.min.js?v=1011083602\\'></script> <!-- js to scrape:off --><script src=\"https://s7.addthis.com/js/300/addthis_widget.js#pubid=ra-5803f964fe6c9599\" type=\"text/javascript\"></script></body>\\n</html>\\n\\n\\n<!-- Elapsed burn time: 2.50183987617493 sec -->\\n'"
      ]
     },
     "execution_count": 7,
     "metadata": {},
     "output_type": "execute_result"
    }
   ],
   "source": [
    "res.text"
   ]
  },
  {
   "cell_type": "code",
   "execution_count": 8,
   "metadata": {
    "collapsed": true
   },
   "outputs": [],
   "source": [
    "import lxml"
   ]
  },
  {
   "cell_type": "code",
   "execution_count": 9,
   "metadata": {
    "collapsed": true
   },
   "outputs": [],
   "source": [
    "soup = bs4.BeautifulSoup(res.text,'lxml')"
   ]
  },
  {
   "cell_type": "code",
   "execution_count": 10,
   "metadata": {},
   "outputs": [
    {
     "data": {
      "text/plain": [
       "bs4.BeautifulSoup"
      ]
     },
     "execution_count": 10,
     "metadata": {},
     "output_type": "execute_result"
    }
   ],
   "source": [
    "type(soup)"
   ]
  },
  {
   "cell_type": "code",
   "execution_count": 11,
   "metadata": {
    "collapsed": true
   },
   "outputs": [],
   "source": [
    "test = soup.select('title')"
   ]
  },
  {
   "cell_type": "code",
   "execution_count": 12,
   "metadata": {},
   "outputs": [
    {
     "name": "stdout",
     "output_type": "stream",
     "text": [
      "[<title>WHO | Diabetes country profiles 2016</title>, <title>\r\n",
      "\tSYSTEM DO NOT MOVE OR EDIT\r\n",
      "</title>]\n"
     ]
    }
   ],
   "source": [
    "print (test)"
   ]
  },
  {
   "cell_type": "code",
   "execution_count": 16,
   "metadata": {
    "collapsed": true
   },
   "outputs": [],
   "source": [
    "test[0].gettext"
   ]
  },
  {
   "cell_type": "code",
   "execution_count": 18,
   "metadata": {
    "collapsed": true
   },
   "outputs": [],
   "source": [
    "import requests"
   ]
  },
  {
   "cell_type": "code",
   "execution_count": 19,
   "metadata": {
    "collapsed": true
   },
   "outputs": [],
   "source": [
    "import bs4"
   ]
  },
  {
   "cell_type": "code",
   "execution_count": 20,
   "metadata": {
    "collapsed": true
   },
   "outputs": [],
   "source": [
    "res = requests.get('https://www.dataquest.io/?utm_source=blog&utm_medium=logo&utm_term=blog%20readers&utm_content=image')"
   ]
  },
  {
   "cell_type": "code",
   "execution_count": 21,
   "metadata": {},
   "outputs": [
    {
     "data": {
      "text/plain": [
       "requests.models.Response"
      ]
     },
     "execution_count": 21,
     "metadata": {},
     "output_type": "execute_result"
    }
   ],
   "source": [
    "type(res)"
   ]
  },
  {
   "cell_type": "code",
   "execution_count": 22,
   "metadata": {
    "collapsed": true
   },
   "outputs": [],
   "source": [
    "import lxml"
   ]
  },
  {
   "cell_type": "code",
   "execution_count": 23,
   "metadata": {
    "collapsed": true
   },
   "outputs": [],
   "source": [
    "soup=bs4.BeautifulSoup(res.text, 'lxml')"
   ]
  },
  {
   "cell_type": "code",
   "execution_count": 27,
   "metadata": {},
   "outputs": [
    {
     "name": "stdout",
     "output_type": "stream",
     "text": [
      "<!DOCTYPE html>\n",
      "<html lang=\"en\"><head><meta charset=\"utf-8\"/><meta content=\"width=device-width,initial-scale=1\" name=\"viewport\"/><meta content=\"!\" name=\"fragment\"/><title idle-disabled=\"true\">Learn data science with Python and R projects</title><meta content=\"Learn Python and R for data science. Learn by coding and working with data in your browser. Build your portfolio with projects and become a data scientist.\" name=\"description\"/><script>(function(d) {\n",
      "      var config = {\n",
      "        kitId: 'nmj4kuc',\n",
      "        scriptTimeout: 3000,\n",
      "        async: true\n",
      "      },\n",
      "      h=d.documentElement,t=setTimeout(function(){h.className=h.className.replace(/\\bwf-loading\\b/g,\"\")+\" wf-inactive\";},config.scriptTimeout),tk=d.createElement(\"script\"),f=false,s=d.getElementsByTagName(\"script\")[0],a;h.className+=\" wf-loading\";tk.src='https://use.typekit.net/'+config.kitId+'.js';tk.async=true;tk.onload=tk.onreadystatechange=function(){a=this.readyState;if(f||a&&a!=\"complete\"&&a!=\"loaded\")return;f=true;clearTimeout(t);try{Typekit.load(config)}catch(e){}};s.parentNode.insertBefore(tk,s)\n",
      "    })(document);</script><style>.loader {\n",
      "      z-index: 1000;\n",
      "      position: absolute;\n",
      "      top: 0;\n",
      "      right: 0;\n",
      "      bottom: 0;\n",
      "      left: 0;\n",
      "      background-color: #f9f9fb;\n",
      "    }\n",
      "    .loader .top {\n",
      "      transition: all ease 0.25;\n",
      "      padding: 0 0 0 40px;\n",
      "      background-image: linear-gradient(90deg,#30394b,#4c5361);\n",
      "      height: 90px;\n",
      "      overflow: hidden;\n",
      "      display: -webkit-box;\n",
      "      display: -ms-flexbox;\n",
      "      display: flex;\n",
      "      -webkit-box-align: center;\n",
      "          -ms-flex-align: center;\n",
      "              align-items: center;\n",
      "    }\n",
      "    .loader .message {\n",
      "      font-family: \"ingra\", sans-serif;\n",
      "      font-size: 14px;\n",
      "      color: white;\n",
      "      margin-left: 20px;\n",
      "    }\n",
      "\n",
      "    .rocket {\n",
      "      width: 25px;\n",
      "      height: 25px;\n",
      "      background-size: contain;\n",
      "      background-image: url(\"data:image/png;base64,iVBORw0KGgoAAAANSUhEUgAAACgAAAAoCAYAAACM/rhtAAAABHNCSVQICAgIfAhkiAAAAAlwSFlzAAAFiQAABYkBbWid+gAAABl0RVh0U29mdHdhcmUAd3d3Lmlua3NjYXBlLm9yZ5vuPBoAAAATdEVYdFRpdGxlAExvZ28tT24tTGlnaHQVgXW8AAAEuUlEQVRYhb2YXYhVVRTHf+fOOIofjVYPLmdMmgqFRAO1PBGiDyGVRkZlOEQiQaZTaYp9oX1ASEUQOKYFKWMQRIEWWjmkMFlupXTCypeUCh2XmorTZKkzc08Pe92Z03Fk7jne23pZe6+z/mv92XufvdfewciRUymVqLpBACLh+VLFzJUqkKqbDPwMHFB1t5QqbkkIqroG4FugDrgJ2KPqFpUidnAlU6zqKoAPgYfM9DkQAHdZ/yOgXiTszprjSkfwNXrJrQZmA7OAN80213wyS+YRVHX3AlvwI7ZAJNyY+L4QWAdEwH0i4WdZ8mQaQVV3PdBk5DYkyQGIhOuBD8ynyTCppTILCFgBDAd+AZ5SdUOBV4G7gQqgGXgRWASEwI2GeSJtotRTbGSOAcOAe4AvgJ3A9ITrPuA2YCawDegARomEf6XJl2WK641cG7AdmGHkImA5sBC4AEwC5phPm2Hq0ybLQvAx0022fUy0/tci4Vsi4bv47QZgsvk0JbDlIajqcsAE635seqDpszHXP00PSvhOsBjlIQjUAlXWPmT6D9PjY8lvNn0i4VtlMcpG8AbTp2OLvQXotG/7VZ0DJgN54EsA8z2diFEWgoW97LeCQSQ8hN9C8vj1OBX/w7wiErbGsL8nYhQlaffByPTQuFEkfFvVteC3lArgK5FwbwI7OBGjLAQLa6pO1VWKhF0xkq1Aa18gVVdJ79Se6MvncpJ2igt/5wDSraU6w8RjFCVpCT4Sa49NgRt3mRj9StEEVd1oYH7MlOaMnBJrz7dYRUmaEVyG38cuWH+hqruqP5D5LLbuRYuxrBwEbzW9EX/wjwCWFIFbYr7t+PIrHqukBAsnwI/AWmsvVXXXXg5g35Zadx1wMBGrNATtCBPrHgFeAvbia8LNqm5gH5iBwGbz+R542bAAYveZ0hDEV8WFtdchEl4EHgROAXcAG/rAbLBvZ4AHRMIL9G4xRd+biyJoJdMe695vtiPAPPwRN0/Vva/qBqm6KlW3MfatXiQsHHNzTO8p9qaXZg1+Y7o+NqUtwA5rLwCO4ovT+Wbbhi//C68OD5t9V7FJ0xx1W4FVwNXAXFU3GHgeuC7mc00CMxs4qOpex49mNf4s3lps0lR3ElW3Dl/SR/h1CXAO2I0flZ/MNh6//m6nt7AoYNaLhEVfntIWC8/iL+a1QBewBl9WtSf8NgOoumHASvxeOABQ4Lk0CbPc6mYAbwCPioQH499qtPHpgKj7qDzZmMCMBTYBK0XC5rIStISBSPifuq5W19wZETQDRATTjsniXf1hipFMLwsiYTRa19Qdj12A8uRqeoPme9o12jhY9J2JWchlJjhK1y7JExyexL5PY6R69rU8uXzM3eXI/1CjjalfFTITzJGfac1ZBdtFqrbjq+UTAdFOgBptrMauqRHBtP+NYEQQJG0n5fGT7VSPaad6TJs0nALopqLHL0f+EkzZCPYl43R15XDOrqqmfcVxdZnI9CVZX7cK661nrZ1j6PSI4AWAKXy34wjsHsK57vP2uBARdF0apn/JOsWbgH+A9wq2gHwrvt7b/zdDDgAcluUd+LO4E/gkS67ML6w12jigTRo6+/M7ri4IcSN+lWfOZMnzLzfFicWWhq1kAAAAAElFTkSuQmCC\");\n",
      "    }\n",
      "    .loader .rocket {\n",
      "      -webkit-animation: loading_anim linear 4s;\n",
      "              animation: loading_anim linear 4s;\n",
      "      -webkit-animation-iteration-count: infinite;\n",
      "              animation-iteration-count: infinite;\n",
      "    }\n",
      "\n",
      "    .dq_text {\n",
      "      width: 140px;\n",
      "      height: 15px;\n",
      "      margin: 10px 0 10px 10px;\n",
      "      background-size: contain;\n",
      "      background-repeat: no-repeat;\n",
      "      background-image: url(\"data:image/svg+xml;base64,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\");\n",
      "    }\n",
      "\n",
      "    @-webkit-keyframes loading_anim {\n",
      "      0% {\n",
      "        -webkit-transform: translateY(0);\n",
      "                transform: translateY(0);\n",
      "        opacity: 0;\n",
      "      }\n",
      "      25% {\n",
      "        opacity: 1;\n",
      "        -webkit-transform: translateY(0);\n",
      "                transform: translateY(0);\n",
      "      }\n",
      "      50% {\n",
      "        -webkit-transition: translateY(-50%);\n",
      "        transition: translateY(-50%);\n",
      "      }\n",
      "      75%, 100% {\n",
      "        -webkit-transform: translateY(-500%);\n",
      "                transform: translateY(-500%);\n",
      "      }\n",
      "    }\n",
      "\n",
      "    @keyframes loading_anim {\n",
      "      0% {\n",
      "        -webkit-transform: translateY(0);\n",
      "                transform: translateY(0);\n",
      "        opacity: 0;\n",
      "      }\n",
      "      25% {\n",
      "        opacity: 1;\n",
      "        -webkit-transform: translateY(0);\n",
      "                transform: translateY(0);\n",
      "      }\n",
      "      50% {\n",
      "        -webkit-transition: translateY(-50%);\n",
      "        transition: translateY(-50%);\n",
      "      }\n",
      "      75%, 100% {\n",
      "        -webkit-transform: translateY(-500%);\n",
      "                transform: translateY(-500%);\n",
      "      }\n",
      "    }</style><link href=\"/icons-0de704297f9f471310abdd90188e8daf/apple-touch-icon-57x57.png\" rel=\"apple-touch-icon\" sizes=\"57x57\"/><link href=\"/icons-0de704297f9f471310abdd90188e8daf/apple-touch-icon-60x60.png\" rel=\"apple-touch-icon\" sizes=\"60x60\"/><link href=\"/icons-0de704297f9f471310abdd90188e8daf/apple-touch-icon-72x72.png\" rel=\"apple-touch-icon\" sizes=\"72x72\"/><link href=\"/icons-0de704297f9f471310abdd90188e8daf/apple-touch-icon-76x76.png\" rel=\"apple-touch-icon\" sizes=\"76x76\"/><link href=\"/icons-0de704297f9f471310abdd90188e8daf/apple-touch-icon-114x114.png\" rel=\"apple-touch-icon\" sizes=\"114x114\"/><link href=\"/icons-0de704297f9f471310abdd90188e8daf/apple-touch-icon-120x120.png\" rel=\"apple-touch-icon\" sizes=\"120x120\"/><link href=\"/icons-0de704297f9f471310abdd90188e8daf/apple-touch-icon-144x144.png\" rel=\"apple-touch-icon\" sizes=\"144x144\"/><link href=\"/icons-0de704297f9f471310abdd90188e8daf/apple-touch-icon-152x152.png\" rel=\"apple-touch-icon\" sizes=\"152x152\"/><link href=\"/icons-0de704297f9f471310abdd90188e8daf/apple-touch-icon-180x180.png\" rel=\"apple-touch-icon\" sizes=\"180x180\"/><meta content=\"yes\" name=\"apple-mobile-web-app-capable\"/><meta content=\"black-translucent\" name=\"apple-mobile-web-app-status-bar-style\"/><meta content=\"Dataquest\" name=\"apple-mobile-web-app-title\"/><meta content=\"yes\" name=\"mobile-web-app-capable\"/><meta content=\"#fff\" name=\"theme-color\"/><meta content=\"Dataquest\" name=\"application-name\"/><link href=\"/icons-0de704297f9f471310abdd90188e8daf/favicon-32x32.png\" rel=\"icon\" sizes=\"32x32\" type=\"image/png\"/><link href=\"/icons-0de704297f9f471310abdd90188e8daf/favicon-16x16.png\" rel=\"icon\" sizes=\"16x16\" type=\"image/png\"/><link href=\"/icons-0de704297f9f471310abdd90188e8daf/favicon.ico\" rel=\"shortcut icon\"/><link href=\"/icons-0de704297f9f471310abdd90188e8daf/apple-touch-startup-image-320x460.png\" media=\"(device-width: 320px) and (device-height: 480px) and (-webkit-device-pixel-ratio: 1)\" rel=\"apple-touch-startup-image\"/><link href=\"/icons-0de704297f9f471310abdd90188e8daf/apple-touch-startup-image-640x920.png\" media=\"(device-width: 320px) and (device-height: 480px) and (-webkit-device-pixel-ratio: 2)\" rel=\"apple-touch-startup-image\"/><link href=\"/icons-0de704297f9f471310abdd90188e8daf/apple-touch-startup-image-640x1096.png\" media=\"(device-width: 320px) and (device-height: 568px) and (-webkit-device-pixel-ratio: 2)\" rel=\"apple-touch-startup-image\"/><link href=\"/icons-0de704297f9f471310abdd90188e8daf/apple-touch-startup-image-750x1294.png\" media=\"(device-width: 375px) and (device-height: 667px) and (-webkit-device-pixel-ratio: 2)\" rel=\"apple-touch-startup-image\"/><link href=\"/icons-0de704297f9f471310abdd90188e8daf/apple-touch-startup-image-1182x2208.png\" media=\"(device-width: 414px) and (device-height: 736px) and (orientation: landscape) and (-webkit-device-pixel-ratio: 3)\" rel=\"apple-touch-startup-image\"/><link href=\"/icons-0de704297f9f471310abdd90188e8daf/apple-touch-startup-image-1242x2148.png\" media=\"(device-width: 414px) and (device-height: 736px) and (orientation: portrait) and (-webkit-device-pixel-ratio: 3)\" rel=\"apple-touch-startup-image\"/><link href=\"/icons-0de704297f9f471310abdd90188e8daf/apple-touch-startup-image-748x1024.png\" media=\"(device-width: 768px) and (device-height: 1024px) and (orientation: landscape) and (-webkit-device-pixel-ratio: 1)\" rel=\"apple-touch-startup-image\"/><link href=\"/icons-0de704297f9f471310abdd90188e8daf/apple-touch-startup-image-768x1004.png\" media=\"(device-width: 768px) and (device-height: 1024px) and (orientation: portrait) and (-webkit-device-pixel-ratio: 1)\" rel=\"apple-touch-startup-image\"/><link href=\"/icons-0de704297f9f471310abdd90188e8daf/apple-touch-startup-image-1496x2048.png\" media=\"(device-width: 768px) and (device-height: 1024px) and (orientation: landscape) and (-webkit-device-pixel-ratio: 2)\" rel=\"apple-touch-startup-image\"/><link href=\"/icons-0de704297f9f471310abdd90188e8daf/apple-touch-startup-image-1536x2008.png\" media=\"(device-width: 768px) and (device-height: 1024px) and (orientation: portrait) and (-webkit-device-pixel-ratio: 2)\" rel=\"apple-touch-startup-image\"/><link href=\"/app.706e4abd7aca52ee6c44.css\" rel=\"stylesheet\"/></head><body><div id=\"root\" style=\"height: 100%\"><div class=\"loader\"><header class=\"top\"><div class=\"rocket\"></div><div class=\"dq_text\"></div><div class=\"message\">Loading Learning Platform...</div></header></div></div><script crossorigin=\"\" src=\"https://cdnjs.cloudflare.com/ajax/libs/babel-polyfill/6.7.4/polyfill.min.js\" type=\"text/javascript\"></script><script crossorigin=\"\" src=\"https://cdnjs.cloudflare.com/ajax/libs/lodash.js/4.17.4/lodash.min.js\" type=\"text/javascript\"></script><script crossorigin=\"\" src=\"https://unpkg.com/react@16.3.1/umd/react.production.min.js\" type=\"text/javascript\"></script><script crossorigin=\"\" src=\"https://unpkg.com/react-dom@16.3.1/umd/react-dom.production.min.js\" type=\"text/javascript\"></script><script type=\"text/javascript\">!function(){var analytics=window.analytics=window.analytics||[];if(!analytics.initialize)if(analytics.invoked)window.console&&console.error&&console.error(\"Segment snippet included twice.\");else{analytics.invoked=!0;analytics.methods=[\"trackSubmit\",\"trackClick\",\"trackLink\",\"trackForm\",\"pageview\",\"identify\",\"reset\",\"group\",\"track\",\"ready\",\"alias\",\"page\",\"once\",\"off\",\"on\"];analytics.factory=function(t){return function(){var e=Array.prototype.slice.call(arguments);e.unshift(t);analytics.push(e);return analytics}};for(var t=0;t<analytics.methods.length;t++){var e=analytics.methods[t];analytics[e]=analytics.factory(e)}analytics.load=function(t){var e=document.createElement(\"script\");e.type=\"text/javascript\";e.async=!0;e.src=(\"https:\"===document.location.protocol?\"https://\":\"http://\")+\"cdn.segment.com/analytics.js/v1/\"+t+\"/analytics.min.js\";var n=document.getElementsByTagName(\"script\")[0];n.parentNode.insertBefore(e,n)};analytics.SNIPPET_VERSION=\"3.1.0\";\n",
      "  var key = (window.location.host === 'www.dataquest.io') ? 'BJhKYEXejzjqXq7xQDFI6N0M5W7HBAH5' : 'yPkme4oLIogTJ7xrH3SCEDVtcSz2J5Br';\n",
      "  analytics.load(key);\n",
      "  }}();</script><script src=\"/app.c7227af63de4961134b3.js\" type=\"text/javascript\"></script></body></html>\n"
     ]
    }
   ],
   "source": [
    "print (soup)"
   ]
  },
  {
   "cell_type": "code",
   "execution_count": 28,
   "metadata": {},
   "outputs": [
    {
     "data": {
      "text/plain": [
       "bs4.BeautifulSoup"
      ]
     },
     "execution_count": 28,
     "metadata": {},
     "output_type": "execute_result"
    }
   ],
   "source": [
    "type(soup)"
   ]
  },
  {
   "cell_type": "code",
   "execution_count": 29,
   "metadata": {
    "collapsed": true
   },
   "outputs": [],
   "source": [
    "test = soup.select('title')"
   ]
  },
  {
   "cell_type": "code",
   "execution_count": 30,
   "metadata": {},
   "outputs": [
    {
     "name": "stdout",
     "output_type": "stream",
     "text": [
      "[<title idle-disabled=\"true\">Learn data science with Python and R projects</title>]\n"
     ]
    }
   ],
   "source": [
    "print (test)"
   ]
  },
  {
   "cell_type": "code",
   "execution_count": 31,
   "metadata": {},
   "outputs": [
    {
     "name": "stdout",
     "output_type": "stream",
     "text": [
      "<title idle-disabled=\"true\">Learn data science with Python and R projects</title>\n"
     ]
    }
   ],
   "source": [
    "print (test[0])"
   ]
  },
  {
   "cell_type": "code",
   "execution_count": 32,
   "metadata": {},
   "outputs": [
    {
     "data": {
      "text/plain": [
       "<title idle-disabled=\"true\">Learn data science with Python and R projects</title>"
      ]
     },
     "execution_count": 32,
     "metadata": {},
     "output_type": "execute_result"
    }
   ],
   "source": [
    "test[0]"
   ]
  },
  {
   "cell_type": "code",
   "execution_count": 33,
   "metadata": {
    "collapsed": true
   },
   "outputs": [],
   "source": [
    "test[0].gettext"
   ]
  },
  {
   "cell_type": "code",
   "execution_count": 32,
   "metadata": {
    "collapsed": true
   },
   "outputs": [],
   "source": [
    "import requests"
   ]
  },
  {
   "cell_type": "code",
   "execution_count": 33,
   "metadata": {
    "collapsed": true
   },
   "outputs": [],
   "source": [
    "import bs4"
   ]
  },
  {
   "cell_type": "code",
   "execution_count": 34,
   "metadata": {
    "collapsed": true
   },
   "outputs": [],
   "source": [
    "res = requests.get('http://www.who.int/diabetes/country-profiles/en/#C')"
   ]
  },
  {
   "cell_type": "code",
   "execution_count": 35,
   "metadata": {
    "collapsed": true
   },
   "outputs": [],
   "source": [
    "import lxml"
   ]
  },
  {
   "cell_type": "code",
   "execution_count": 36,
   "metadata": {
    "collapsed": true
   },
   "outputs": [],
   "source": [
    "soup=bs4.BeautifulSoup(res.text, 'lxml')"
   ]
  },
  {
   "cell_type": "code",
   "execution_count": 50,
   "metadata": {},
   "outputs": [
    {
     "data": {
      "text/plain": [
       "[<ul class=\"a_z\">\n",
       " <li><a href=\"/diabetes/country-profiles/afg_en.pdf\" target=\"_new\">Afghanistan </a></li>\n",
       " <li><a href=\"/diabetes/country-profiles/alb_en.pdf \" target=\"_new\">Albania </a></li>\n",
       " <li><a href=\"/diabetes/country-profiles/dza_en.pdf\" target=\"_new\">Algeria </a></li>\n",
       " <li><a href=\"/diabetes/country-profiles/and_en.pdf \" target=\"_new\">Andorra </a></li>\n",
       " <li><a href=\"/diabetes/country-profiles/ago_en.pdf \" target=\"_new\">Angola </a></li>\n",
       " <li><a href=\"/diabetes/country-profiles/atg_en.pdf \" target=\"_new\">Antigua and Barbuda </a></li>\n",
       " <li><a href=\"/diabetes/country-profiles/arg_en.pdf\" target=\"_new\">Argentina </a></li>\n",
       " <li><a href=\"/diabetes/country-profiles/arm_en.pdf\" target=\"_new\">Armenia </a></li>\n",
       " <li><a href=\"/diabetes/country-profiles/aus_en.pdf\" target=\"_new\">Australia </a></li>\n",
       " <li><a href=\"/diabetes/country-profiles/aut_en.pdf\" target=\"_new\">Austria </a></li>\n",
       " <li><a href=\"/diabetes/country-profiles/aze_en.pdf\" target=\"_new\">Azerbaijan </a></li>\n",
       " </ul>, <ul class=\"a_z\">\n",
       " <li><a href=\"/diabetes/country-profiles/bhs_en.pdf\" target=\"_new\">Bahamas </a></li>\n",
       " <li><a href=\"/diabetes/country-profiles/bhr_en.pdf\" target=\"_new\">Bahrain </a></li>\n",
       " <li><a href=\"/diabetes/country-profiles/bgd_en.pdf\" target=\"_new\">Bangladesh </a></li>\n",
       " <li><a href=\"/diabetes/country-profiles/brb_en.pdf\" target=\"_new\">Barbados </a></li>\n",
       " <li><a href=\"/diabetes/country-profiles/blr_en.pdf\" target=\"_new\">Belarus </a></li>\n",
       " <li><a href=\"/diabetes/country-profiles/bel_en.pdf\" target=\"_new\">Belgium </a></li>\n",
       " <li><a href=\"/diabetes/country-profiles/blz_en.pdf\" target=\"_new\">Belize </a></li>\n",
       " <li><a href=\"/diabetes/country-profiles/ben_en.pdf\" target=\"_new\">Benin </a></li>\n",
       " <li><a href=\"/diabetes/country-profiles/btn_en.pdf\" target=\"_new\">Bhutan </a></li>\n",
       " <li><a href=\"/diabetes/country-profiles/bol_en.pdf\" target=\"_new\">Bolivia (Plurinational State of) </a></li>\n",
       " <li><a href=\"/diabetes/country-profiles/bih_en.pdf\" target=\"_new\">Bosnia and Herzegovina </a></li>\n",
       " <li><a href=\"/diabetes/country-profiles/bwa_en.pdf\" target=\"_new\">Botswana </a></li>\n",
       " <li><a href=\"/diabetes/country-profiles/bra_en.pdf\" target=\"_new\">Brazil </a></li>\n",
       " <li><a href=\"/diabetes/country-profiles/brn_en.pdf\" target=\"_new\">Brunei Darussalam </a></li>\n",
       " <li><a href=\"/diabetes/country-profiles/bgr_en.pdf\" target=\"_new\">Bulgaria </a></li>\n",
       " <li><a href=\"/diabetes/country-profiles/bfa_en.pdf\" target=\"_new\">Burkina Faso </a></li>\n",
       " <li><a href=\"/diabetes/country-profiles/bdi_en.pdf\" target=\"_new\">Burundi </a></li>\n",
       " </ul>, <ul class=\"a_z\">\n",
       " <li><a href=\"/diabetes/country-profiles/khm_en.pdf\" target=\"_new\">Cambodia </a></li>\n",
       " <li><a href=\"/diabetes/country-profiles/cmr_en.pdf\" target=\"_new\">Cameroon </a></li>\n",
       " <li><a href=\"/diabetes/country-profiles/can_en.pdf\" target=\"_new\">Canada </a></li>\n",
       " <li><a href=\"/diabetes/country-profiles/cpv_en.pdf\" target=\"_new\">Cape Verde </a></li>\n",
       " <li><a href=\"/diabetes/country-profiles/caf_en.pdf\" target=\"_new\">Central African Republic </a></li>\n",
       " <li><a href=\"/diabetes/country-profiles/tcd_en.pdf\" target=\"_new\">Chad </a></li>\n",
       " <li><a href=\"/entity/diabetes/country-profiles/chl_en.pdf\n",
       " \" target=\"_new\">Chile </a></li>\n",
       " <li><a href=\"/diabetes/country-profiles/chn_en.pdf\" target=\"_new\">China </a></li>\n",
       " <li><a href=\"/diabetes/country-profiles/col_en.pdf\" target=\"_new\">Colombia </a></li>\n",
       " <li><a href=\"/diabetes/country-profiles/com_en.pdf\" target=\"_new\">Comoros </a></li>\n",
       " <li><a href=\"/diabetes/country-profiles/cog_en.pdf\" target=\"_new\">Congo </a></li>\n",
       " <li><a href=\"/diabetes/country-profiles/cok_en.pdf\" target=\"_new\">Cook Islands </a></li>\n",
       " <li><a href=\"/diabetes/country-profiles/cri_en.pdf\" target=\"_new\">Costa Rica </a></li>\n",
       " <li><a href=\"/diabetes/country-profiles/civ_en.pdf\" target=\"_new\">CÃ´te d'Ivoire </a></li>\n",
       " <li><a href=\"/diabetes/country-profiles/hrv_en.pdf\" target=\"_new\">Croatia </a></li>\n",
       " <li><a href=\"/diabetes/country-profiles/cub_en.pdf\" target=\"_new\">Cuba </a></li>\n",
       " <li><a href=\"/diabetes/country-profiles/cyp_en.pdf\" target=\"_new\">Cyprus </a></li>\n",
       " <li><a href=\"/diabetes/country-profiles/cze_en.pdf\" target=\"_new\">Czech Republic </a></li>\n",
       " </ul>, <ul class=\"a_z\">\n",
       " <li><a href=\"/diabetes/country-profiles/prk_en.pdf\" target=\"_new\">Democratic People's Republic of Korea </a></li>\n",
       " <li><a href=\"/diabetes/country-profiles/cod_en.pdf\" target=\"_new\">Democratic Republic of the Congo </a></li>\n",
       " <li><a href=\"/diabetes/country-profiles/dnk_en.pdf\" target=\"_new\">Denmark </a></li>\n",
       " <li><a href=\"/diabetes/country-profiles/dji_en.pdf\" target=\"_new\">Djibouti </a></li>\n",
       " <li><a href=\"/diabetes/country-profiles/dma_en.pdf\" target=\"_new\">Dominica </a></li>\n",
       " <li><a href=\"/diabetes/country-profiles/dom_en.pdf\" target=\"_new\">Dominican Republic </a></li>\n",
       " </ul>, <ul class=\"a_z\">\n",
       " <li><a href=\"/diabetes/country-profiles/ecu_en.pdf\" target=\"_new\">Ecuador </a></li>\n",
       " <li><a href=\"/diabetes/country-profiles/egy_en.pdf\" target=\"_new\">Egypt </a></li>\n",
       " <li><a href=\"/diabetes/country-profiles/slv_en.pdf\" target=\"_new\">El Salvador </a></li>\n",
       " <li><a href=\"/diabetes/country-profiles/gnq_en.pdf\" target=\"_new\">Equatorial Guinea </a></li>\n",
       " <li><a href=\"/diabetes/country-profiles/eri_en.pdf\" target=\"_new\">Eritrea </a></li>\n",
       " <li><a href=\"/diabetes/country-profiles/est_en.pdf\" target=\"_new\">Estonia </a></li>\n",
       " <li><a href=\"/diabetes/country-profiles/eth_en.pdf\" target=\"_new\">Ethiopia </a></li>\n",
       " </ul>, <ul class=\"a_z\">\n",
       " <li><a href=\"/diabetes/country-profiles/fji_en.pdf\" target=\"_new\">Fiji </a></li>\n",
       " <li><a href=\"/diabetes/country-profiles/fin_en.pdf\" target=\"_new\">Finland </a></li>\n",
       " <li><a href=\"/diabetes/country-profiles/fra_en.pdf\" target=\"_new\">France </a></li>\n",
       " </ul>, <ul class=\"a_z\">\n",
       " <li><a href=\"/diabetes/country-profiles/gab_en.pdf\" target=\"_new\">Gabon </a></li>\n",
       " <li><a href=\"/diabetes/country-profiles/gmb_en.pdf\" target=\"_new\">Gambia </a></li>\n",
       " <li><a href=\"/diabetes/country-profiles/geo_en.pdf\" target=\"_new\">Georgia </a></li>\n",
       " <li><a href=\"/diabetes/country-profiles/deu_en.pdf\" target=\"_new\">Germany </a></li>\n",
       " <li><a href=\"/diabetes/country-profiles/gha_en.pdf\" target=\"_new\">Ghana </a></li>\n",
       " <li><a href=\"/diabetes/country-profiles/grc_en.pdf\" target=\"_new\">Greece </a></li>\n",
       " <li><a href=\"/diabetes/country-profiles/grd_en.pdf\" target=\"_new\">Grenada </a></li>\n",
       " <li><a href=\"/diabetes/country-profiles/gtm_en.pdf\" target=\"_new\">Guatemala </a></li>\n",
       " <li><a href=\"/diabetes/country-profiles/gin_en.pdf\" target=\"_new\">Guinea </a></li>\n",
       " <li><a href=\"/diabetes/country-profiles/gnb_en.pdf\" target=\"_new\">Guinea-Bissau </a></li>\n",
       " <li><a href=\"/diabetes/country-profiles/guy_en.pdf\" target=\"_new\">Guyana </a></li>\n",
       " </ul>, <ul class=\"a_z\">\n",
       " <li><a href=\"/diabetes/country-profiles/hti_en.pdf\" target=\"_new\">Haiti </a></li>\n",
       " <li><a href=\"/diabetes/country-profiles/hnd_en.pdf\" target=\"_new\">Honduras </a></li>\n",
       " <li><a href=\"/diabetes/country-profiles/hun_en.pdf\" target=\"_new\">Hungary </a></li>\n",
       " </ul>, <ul class=\"a_z\">\n",
       " <li><a href=\"/diabetes/country-profiles/isl_en.pdf\" target=\"_new\">Iceland </a></li>\n",
       " <li><a href=\"/diabetes/country-profiles/ind_en.pdf\" target=\"_new\">India </a></li>\n",
       " <li><a href=\"/diabetes/country-profiles/idn_en.pdf\" target=\"_new\">Indonesia </a></li>\n",
       " <li><a href=\"/diabetes/country-profiles/irn_en.pdf\" target=\"_new\">Iran (Islamic Republic of) </a></li>\n",
       " <li><a href=\"/diabetes/country-profiles/irq_en.pdf\" target=\"_new\">Iraq </a></li>\n",
       " <li><a href=\"/diabetes/country-profiles/irl_en.pdf\" target=\"_new\">Ireland </a></li>\n",
       " <li><a href=\"/diabetes/country-profiles/isr_en.pdf\" target=\"_new\">Israel </a></li>\n",
       " <li><a href=\"/diabetes/country-profiles/ita_en.pdf\" target=\"_new\">Italy </a></li>\n",
       " </ul>, <ul class=\"a_z\">\n",
       " <li><a href=\"/diabetes/country-profiles/jam_en.pdf\" target=\"_new\">Jamaica </a></li>\n",
       " <li><a href=\"/diabetes/country-profiles/jpn_en.pdf\" target=\"_new\">Japan </a></li>\n",
       " <li><a href=\"/diabetes/country-profiles/jor_en.pdf\" target=\"_new\">Jordan </a></li>\n",
       " </ul>, <ul class=\"a_z\">\n",
       " <li><a href=\"/diabetes/country-profiles/kaz_en.pdf\" target=\"_new\">Kazakhstan </a></li>\n",
       " <li><a href=\"/diabetes/country-profiles/ken_en.pdf\" target=\"_new\">Kenya </a></li>\n",
       " <li><a href=\"/diabetes/country-profiles/kir_en.pdf\" target=\"_new\">Kiribati </a></li>\n",
       " <li><a href=\"/diabetes/country-profiles/kwt_en.pdf\" target=\"_new\">Kuwait </a></li>\n",
       " <li><a href=\"/diabetes/country-profiles/kgz_en.pdf\" target=\"_new\">Kyrgyzstan </a></li>\n",
       " </ul>, <ul class=\"a_z\">\n",
       " <li><a href=\"/diabetes/country-profiles/lao_en.pdf\" target=\"_new\">Lao People's Democratic Republic </a></li>\n",
       " <li><a href=\"/diabetes/country-profiles/lva_en.pdf\" target=\"_new\">Latvia </a></li>\n",
       " <li><a href=\"/diabetes/country-profiles/lbn_en.pdf\" target=\"_new\">Lebanon </a></li>\n",
       " <li><a href=\"/diabetes/country-profiles/lso_en.pdf\" target=\"_new\">Lesotho </a></li>\n",
       " <li><a href=\"/diabetes/country-profiles/lbr_en.pdf\" target=\"_new\">Liberia </a></li>\n",
       " <li><a href=\"/diabetes/country-profiles/lby_en.pdf\" target=\"_new\">Libya </a></li>\n",
       " <li><a href=\"/diabetes/country-profiles/ltu_en.pdf\" target=\"_new\">Lithuania </a></li>\n",
       " <li><a href=\"/diabetes/country-profiles/lux_en.pdf\" target=\"_new\">Luxembourg </a></li>\n",
       " </ul>, <ul class=\"a_z\">\n",
       " <li><a href=\"/diabetes/country-profiles/mdg_en.pdf\" target=\"_new\">Madagascar </a></li>\n",
       " <li><a href=\"/diabetes/country-profiles/mwi_en.pdf\" target=\"_new\">Malawi </a></li>\n",
       " <li><a href=\"/diabetes/country-profiles/mys_en.pdf\" target=\"_new\">Malaysia </a></li>\n",
       " <li><a href=\"/diabetes/country-profiles/mdv_en.pdf\" target=\"_new\">Maldives </a></li>\n",
       " <li><a href=\"/diabetes/country-profiles/mli_en.pdf\" target=\"_new\">Mali </a></li>\n",
       " <li><a href=\"/diabetes/country-profiles/mlt_en.pdf\" target=\"_new\">Malta </a></li>\n",
       " <li><a href=\"/diabetes/country-profiles/mhl_en.pdf\" target=\"_new\">Marshall Islands </a></li>\n",
       " <li><a href=\"/diabetes/country-profiles/mrt_en.pdf\" target=\"_new\">Mauritania </a></li>\n",
       " <li><a href=\"/diabetes/country-profiles/mus_en.pdf\" target=\"_new\">Mauritius </a></li>\n",
       " <li><a href=\"/diabetes/country-profiles/mex_en.pdf\" target=\"_new\">Mexico </a></li>\n",
       " <li><a href=\"/diabetes/country-profiles/fsm_en.pdf\" target=\"_new\">Micronesia (Federated States of) </a></li>\n",
       " <li><a href=\"/diabetes/country-profiles/mco_en.pdf\" target=\"_new\">Monaco </a></li>\n",
       " <li><a href=\"/diabetes/country-profiles/mng_en.pdf\" target=\"_new\">Mongolia </a></li>\n",
       " <li><a href=\"/diabetes/country-profiles/mne_en.pdf\" target=\"_new\">Montenegro </a></li>\n",
       " <li><a href=\"/diabetes/country-profiles/mar_en.pdf\" target=\"_new\">Morocco </a></li>\n",
       " <li><a href=\"/diabetes/country-profiles/moz_en.pdf\" target=\"_new\">Mozambique </a></li>\n",
       " <li><a href=\"/diabetes/country-profiles/mmr_en.pdf\" target=\"_new\">Myanmar </a></li>\n",
       " </ul>, <ul class=\"a_z\">\n",
       " <li><a href=\"/diabetes/country-profiles/nam_en.pdf\" target=\"_new\">Namibia </a></li>\n",
       " <li><a href=\"/diabetes/country-profiles/nru_en.pdf\" target=\"_new\">Nauru </a></li>\n",
       " <li><a href=\"/diabetes/country-profiles/npl_en.pdf\" target=\"_new\">Nepal </a></li>\n",
       " <li><a href=\"/diabetes/country-profiles/nld_en.pdf\" target=\"_new\">Netherlands </a></li>\n",
       " <li><a href=\"/diabetes/country-profiles/nzl_en.pdf\" target=\"_new\">New Zealand </a></li>\n",
       " <li><a href=\"/diabetes/country-profiles/nic_en.pdf\" target=\"_new\">Nicaragua </a></li>\n",
       " <li><a href=\"/diabetes/country-profiles/ner_en.pdf\" target=\"_new\">Niger </a></li>\n",
       " <li><a href=\"/diabetes/country-profiles/nga_en.pdf\" target=\"_new\">Nigeria </a></li>\n",
       " <li><a href=\"/diabetes/country-profiles/niu_en.pdf\" target=\"_new\">Niue </a></li>\n",
       " <li><a href=\"/diabetes/country-profiles/nor_en.pdf\" target=\"_new\">Norway </a></li>\n",
       " </ul>, <ul class=\"a_z\">\n",
       " <li><a href=\"/diabetes/country-profiles/omn_en.pdf\" target=\"_new\">Oman </a></li>\n",
       " </ul>, <ul class=\"a_z\">\n",
       " <li><a href=\"/diabetes/country-profiles/pak_en.pdf\" target=\"_new\">Pakistan </a></li>\n",
       " <li><a href=\"/diabetes/country-profiles/plw_en.pdf\" target=\"_new\">Palau </a></li>\n",
       " <li><a href=\"/diabetes/country-profiles/pan_en.pdf\" target=\"_new\">Panama </a></li>\n",
       " <li><a href=\"/diabetes/country-profiles/png_en.pdf\" target=\"_new\">Papua New Guinea </a></li>\n",
       " <li><a href=\"/diabetes/country-profiles/pry_en.pdf\" target=\"_new\">Paraguay </a></li>\n",
       " <li><a href=\"/diabetes/country-profiles/per_en.pdf\" target=\"_new\">Peru </a></li>\n",
       " <li><a href=\"/diabetes/country-profiles/phl_en.pdf\" target=\"_new\">Philippines </a></li>\n",
       " <li><a href=\"/entity/diabetes/country-profiles/pol_en.pdf\n",
       " \" target=\"_new\">Poland </a></li>\n",
       " <li><a href=\"/entity/diabetes/country-profiles/prt_en.pdf\n",
       " \" target=\"_new\">Portugal </a></li>\n",
       " </ul>, <ul class=\"a_z\">\n",
       " <li><a href=\"/diabetes/country-profiles/qat_en.pdf\" target=\"_new\">Qatar </a></li>\n",
       " </ul>, <ul class=\"a_z\">\n",
       " <li><a href=\"/diabetes/country-profiles/kor_en.pdf\" target=\"_new\">Republic of Korea </a></li>\n",
       " <li><a href=\"/diabetes/country-profiles/mda_en.pdf\" target=\"_new\">Republic of Moldova </a></li>\n",
       " <li><a href=\"/diabetes/country-profiles/rou_en.pdf\" target=\"_new\">Romania </a></li>\n",
       " <li><a href=\"/diabetes/country-profiles/rus_en.pdf\" target=\"_new\">Russian Federation </a></li>\n",
       " <li><a href=\"/diabetes/country-profiles/rwa_en.pdf\" target=\"_new\">Rwanda </a></li>\n",
       " </ul>, <ul class=\"a_z\">\n",
       " <li><a href=\"/diabetes/country-profiles/kna_en.pdf\" target=\"_new\">Saint Kitts and Nevis </a></li>\n",
       " <li><a href=\"/diabetes/country-profiles/lca_en.pdf\" target=\"_new\">Saint Lucia </a></li>\n",
       " <li><a href=\"/diabetes/country-profiles/vct_en.pdf\" target=\"_new\">Saint Vincent and the Grenadines </a></li>\n",
       " <li><a href=\"/diabetes/country-profiles/wsm_en.pdf\" target=\"_new\">Samoa </a></li>\n",
       " <li><a href=\"/diabetes/country-profiles/smr_en.pdf\" target=\"_new\">San Marino </a></li>\n",
       " <li><a href=\"/diabetes/country-profiles/stp_en.pdf\" target=\"_new\">Sao Tome and Principe </a></li>\n",
       " <li><a href=\"/diabetes/country-profiles/sau_en.pdf\" target=\"_new\">Saudi Arabia </a></li>\n",
       " <li><a href=\"/diabetes/country-profiles/sen_en.pdf\" target=\"_new\">Senegal </a></li>\n",
       " <li><a href=\"/diabetes/country-profiles/srb_en.pdf\" target=\"_new\">Serbia </a></li>\n",
       " <li><a href=\"/diabetes/country-profiles/syc_en.pdf\" target=\"_new\">Seychelles </a></li>\n",
       " <li><a href=\"/diabetes/country-profiles/sle_en.pdf\" target=\"_new\">Sierra Leone </a></li>\n",
       " <li><a href=\"/diabetes/country-profiles/sgp_en.pdf\" target=\"_new\">Singapore </a></li>\n",
       " <li><a href=\"/diabetes/country-profiles/svk_en.pdf\" target=\"_new\">Slovakia </a></li>\n",
       " <li><a href=\"/diabetes/country-profiles/svn_en.pdf\" target=\"_new\">Slovenia </a></li>\n",
       " <li><a href=\"/diabetes/country-profiles/slb_en.pdf\" target=\"_new\">Solomon Islands </a></li>\n",
       " <li><a href=\"/diabetes/country-profiles/som_en.pdf\" target=\"_new\">Somalia </a></li>\n",
       " <li><a href=\"/diabetes/country-profiles/zaf_en.pdf\" target=\"_new\">South Africa </a></li>\n",
       " <li><a href=\"/diabetes/country-profiles/ssd_en.pdf\" target=\"_new\">South Sudan</a></li>\n",
       " <li><a href=\"/diabetes/country-profiles/esp_en.pdf\" target=\"_new\">Spain </a></li>\n",
       " <li><a href=\"/diabetes/country-profiles/lka_en.pdf\" target=\"_new\">Sri Lanka </a></li>\n",
       " <li><a href=\"/diabetes/country-profiles/sdn_en.pdf\" target=\"_new\">Sudan </a></li>\n",
       " <li><a href=\"/diabetes/country-profiles/sur_en.pdf\" target=\"_new\">Suriname </a></li>\n",
       " <li><a href=\"/diabetes/country-profiles/swz_en.pdf\" target=\"_new\">Swaziland </a></li>\n",
       " <li><a href=\"/diabetes/country-profiles/swe_en.pdf\" target=\"_new\">Sweden </a></li>\n",
       " <li><a href=\"/diabetes/country-profiles/che_en.pdf\" target=\"_new\">Switzerland </a></li>\n",
       " <li><a href=\"/diabetes/country-profiles/syr_en.pdf\" target=\"_new\">Syrian Arab Republic </a></li>\n",
       " </ul>, <ul class=\"a_z\">\n",
       " <li><a href=\"/diabetes/country-profiles/tjk_en.pdf\" target=\"_new\">Tajikistan </a></li>\n",
       " <li><a href=\"/diabetes/country-profiles/tha_en.pdf\" target=\"_new\">Thailand </a></li>\n",
       " <li><a href=\"/diabetes/country-profiles/mkd_en.pdf\" target=\"_new\">The former Yugoslav Republic of Macedonia </a></li>\n",
       " <li><a href=\"/diabetes/country-profiles/tls_en.pdf\" target=\"_new\">Timor-Leste </a></li>\n",
       " <li><a href=\"/diabetes/country-profiles/tgo_en.pdf\" target=\"_new\">Togo </a></li>\n",
       " <li><a href=\"/diabetes/country-profiles/ton_en.pdf\" target=\"_new\">Tonga </a></li>\n",
       " <li><a href=\"/diabetes/country-profiles/tto_en.pdf\" target=\"_new\">Trinidad and Tobago </a></li>\n",
       " <li><a href=\"/diabetes/country-profiles/tun_en.pdf\" target=\"_new\">Tunisia </a></li>\n",
       " <li><a href=\"/diabetes/country-profiles/tur_en.pdf\" target=\"_new\">Turkey </a></li>\n",
       " <li><a href=\"/diabetes/country-profiles/tkm_en.pdf\" target=\"_new\">Turkmenistan </a></li>\n",
       " <li><a href=\"/diabetes/country-profiles/tuv_en.pdf\" target=\"_new\">Tuvalu </a></li>\n",
       " </ul>, <ul class=\"a_z\">\n",
       " <li><a href=\"/diabetes/country-profiles/uga_en.pdf\" target=\"_new\">Uganda </a></li>\n",
       " <li><a href=\"/diabetes/country-profiles/ukr_en.pdf\" target=\"_new\">Ukraine </a></li>\n",
       " <li><a href=\"/diabetes/country-profiles/are_en.pdf\" target=\"_new\">United Arab Emirates </a></li>\n",
       " <li><a href=\"/entity/diabetes/country-profiles/gbr_en.pdf\n",
       " \" target=\"_new\">United Kingdom </a></li>\n",
       " <li><a href=\"/entity/diabetes/country-profiles/tza_en.pdf\n",
       " \" target=\"_new\">United Republic of Tanzania </a></li>\n",
       " <li><a href=\"/entity/diabetes/country-profiles/usa_en.pdf\n",
       " \" target=\"_new\">United States of America </a></li>\n",
       " <li><a href=\"/diabetes/country-profiles/ury_en.pdf\" target=\"_new\">Uruguay </a></li>\n",
       " <li><a href=\"/diabetes/country-profiles/uzb_en.pdf\" target=\"_new\">Uzbekistan </a></li>\n",
       " </ul>, <ul class=\"a_z\">\n",
       " <li><a href=\"/diabetes/country-profiles/vut_en.pdf\" target=\"_new\">Vanuatu </a></li>\n",
       " <li><a href=\"/diabetes/country-profiles/ven_en.pdf\" target=\"_new\">Venezuela (Bolivarian Republic of) </a></li>\n",
       " <li><a href=\"/diabetes/country-profiles/vnm_en.pdf\" target=\"_new\">Viet Nam </a></li>\n",
       " </ul>, <ul class=\"a_z\">\n",
       " <li><a href=\"/diabetes/country-profiles/yem_en.pdf\" target=\"_new\">Yemen </a></li>\n",
       " </ul>, <ul class=\"a_z\">\n",
       " <li><a href=\"/diabetes/country-profiles/zmb_en.pdf\" target=\"_new\">Zambia </a></li>\n",
       " <li><a href=\"/entity/diabetes/country-profiles/zwe_en.pdf\n",
       " \" target=\"_new\">Zimbabwe </a></li>\n",
       " </ul>]"
      ]
     },
     "execution_count": 50,
     "metadata": {},
     "output_type": "execute_result"
    }
   ],
   "source": [
    "soup.select('.a_z')"
   ]
  },
  {
   "cell_type": "code",
   "execution_count": 26,
   "metadata": {},
   "outputs": [],
   "source": [
    "for i in soup.select('.a_z'):\n",
    "    print (i.text)\n",
    "    file = i.text"
   ]
  },
  {
   "cell_type": "code",
   "execution_count": 27,
   "metadata": {},
   "outputs": [
    {
     "ename": "SyntaxError",
     "evalue": "invalid syntax (<ipython-input-27-1c5a9267c5c2>, line 3)",
     "output_type": "error",
     "traceback": [
      "\u001b[0;36m  File \u001b[0;32m\"<ipython-input-27-1c5a9267c5c2>\"\u001b[0;36m, line \u001b[0;32m3\u001b[0m\n\u001b[0;31m    open('output.csv', 'w', newline='') as f_output:\u001b[0m\n\u001b[0m                                         ^\u001b[0m\n\u001b[0;31mSyntaxError\u001b[0m\u001b[0;31m:\u001b[0m invalid syntax\n"
     ]
    }
   ],
   "source": [
    "for line in i.text:\n",
    "    line = line.strip()\n",
    "    open('output.csv', 'w', newline='') as f_output:\n",
    "    print ()"
   ]
  },
  {
   "cell_type": "code",
   "execution_count": null,
   "metadata": {
    "collapsed": true
   },
   "outputs": [],
   "source": []
  },
  {
   "cell_type": "code",
   "execution_count": 54,
   "metadata": {
    "collapsed": true
   },
   "outputs": [],
   "source": [
    "import PyPDF2"
   ]
  },
  {
   "cell_type": "code",
   "execution_count": 28,
   "metadata": {
    "scrolled": true
   },
   "outputs": [
    {
     "ename": "FileNotFoundError",
     "evalue": "[Errno 2] No such file or directory: '/Users/mohamedsellamia/Desktop/cmr_en.pdf'",
     "output_type": "error",
     "traceback": [
      "\u001b[0;31m---------------------------------------------------------------------------\u001b[0m",
      "\u001b[0;31mFileNotFoundError\u001b[0m                         Traceback (most recent call last)",
      "\u001b[0;32m<ipython-input-28-861bfea36a29>\u001b[0m in \u001b[0;36m<module>\u001b[0;34m()\u001b[0m\n\u001b[0;32m----> 1\u001b[0;31m \u001b[0mfile\u001b[0m \u001b[0;34m=\u001b[0m \u001b[0mopen\u001b[0m\u001b[0;34m(\u001b[0m\u001b[0;34m'/Users/mohamedsellamia/Desktop/cmr_en.pdf'\u001b[0m\u001b[0;34m,\u001b[0m \u001b[0;34m'rb'\u001b[0m\u001b[0;34m)\u001b[0m\u001b[0;34m\u001b[0m\u001b[0m\n\u001b[0m",
      "\u001b[0;31mFileNotFoundError\u001b[0m: [Errno 2] No such file or directory: '/Users/mohamedsellamia/Desktop/cmr_en.pdf'"
     ]
    }
   ],
   "source": [
    "file = open('/Users/mohamedsellamia/Desktop/cmr_en.pdf', 'rb')"
   ]
  },
  {
   "cell_type": "code",
   "execution_count": 22,
   "metadata": {
    "collapsed": true,
    "scrolled": true
   },
   "outputs": [],
   "source": [
    "pdfreader = PyPDF2.PdfFileReader(file)\n"
   ]
  },
  {
   "cell_type": "code",
   "execution_count": 23,
   "metadata": {},
   "outputs": [
    {
     "name": "stdout",
     "output_type": "stream",
     "text": [
      "1\n"
     ]
    }
   ],
   "source": [
    "print(pdfreader.getNumPages())"
   ]
  },
  {
   "cell_type": "code",
   "execution_count": 25,
   "metadata": {
    "collapsed": true
   },
   "outputs": [],
   "source": [
    "pdfobj = pdfreader.getPage(0)"
   ]
  },
  {
   "cell_type": "code",
   "execution_count": 27,
   "metadata": {},
   "outputs": [
    {
     "name": "stdout",
     "output_type": "stream",
     "text": [
      "Number of diabetes deaths\n",
      "Number of deaths attributable to high blood glucose\n",
      "males\n",
      "females\n",
      "\n",
      "1 120\n",
      "\n",
      "1 730\n",
      "ages 70+\n",
      "800\n",
      "ages 70+\n",
      "1 840\n",
      "Operational policy/strategy/action plan for diabetes\n",
      "Evidence-based national diabetes guidelines/protocols/standards\n",
      "Standard criteria for referral of patients from primary care to higher level of care\n",
      "Diabetes registry\n",
      "Recent national risk factor survey in which blood glucose was measured\n",
      "Availability of medicines, basic technologies and procedures in the public health sector\n",
      "Medicines in primary care facilities\n",
      "Basic technologies in primary care facilities\n",
      "Procedures\n",
      "\n",
      " \n",
      "= not generally available \n",
      "   \n",
      " \n",
      "= generally available\n",
      "Cameroon\n",
      "Total population: 23 344 000\n",
      "Income group:  Lower middle\n",
      "Mortality*\n",
      "females\n",
      "males\n",
      "1 220\n",
      "1 680\n",
      "1 260\n",
      "1 180\n",
      "Proportional mortality (% of total deaths, all ages)*\n",
      "Trends in age-standardized prevalence of diabetes \n",
      "Prevalence of diabetes and related risk factors\n",
      "males\n",
      "females\n",
      "total\n",
      "Diabetes\n",
      "4.5%\n",
      "4.9%\n",
      "4.7%\n",
      "Overweight\n",
      "22.1%\n",
      "36.9%\n",
      "29.5%\n",
      "Operational policy/strategy/action plan to reduce physical inactivity \n",
      "No\n",
      "Obesity\n",
      "4.9%\n",
      "14.3%\n",
      "9.6%\n",
      "Physical inactivity\n",
      "20.9%\n",
      "37.7%\n",
      "29.3%\n",
      "National response to diabetes\n",
      "Policies, guidelines and monitoring\n",
      "No\n",
      "Operational policy/strategy/action plan to reduce overweight and obesity\n",
      "No\n",
      "DK\n",
      "Not available\n",
      "No\n",
      "No\n",
      "Insulin\n",
      "\n",
      "Blood glucose measurement\n",
      "\n",
      "Metformin\n",
      "\n",
      "Oral glucose tolerance test\n",
      "\n",
      "Sulphonylurea\n",
      "\n",
      "HbA1c test\n",
      "\n",
      "Dilated fundus examination\n",
      "\n",
      "Retinal photocoagulation\n",
      "\n",
      "Foot vibration perception by tuning fork\n",
      "\n",
      "Renal replacement therapy by dialysis\n",
      "\n",
      "Foot vascular status by Doppler\n",
      "\n",
      "Renal replacement therapy by transplantation\n",
      "\n",
      "Urine strips for glucose and ketone measurement\n",
      "\n",
      "* The mortality estimates for this country have a high degree of uncertainty because they are not \n",
      " based on any national NCD mortality data (see Explanatory Notes).\n",
      "DK = country responded \"don't know\"\n",
      "\n",
      "No data available\n",
      " \n",
      "Cardiovascular \n",
      "diseases\n",
      " \n",
      "11%\n",
      " \n",
      "Cancers\n",
      " \n",
      "3%\n",
      " \n",
      "Respiratory \n",
      "diseases\n",
      " \n",
      "2%\n",
      " \n",
      "Diabetes \n",
      " \n",
      "2%\n",
      " \n",
      "Other NCDs\n",
      " \n",
      "13%\n",
      " \n",
      "Communicable, \n",
      "maternal, perinatal \n",
      "and nutritional \n",
      "conditions\n",
      " \n",
      "61%\n",
      " \n",
      "Injuries\n",
      " \n",
      "8%\n",
      " \n",
      "No data available\n",
      " \n",
      "0%\n",
      "5%\n",
      "10%\n",
      "15%\n",
      "20%\n",
      "25%\n",
      "30%\n",
      "35%\n",
      "% of population\n",
      " \n",
      "males\n",
      " \n",
      "females\n",
      " \n",
      "\n",
      " \n",
      "\n"
     ]
    }
   ],
   "source": [
    "print (pdfobj.extractText())"
   ]
  },
  {
   "cell_type": "code",
   "execution_count": 1,
   "metadata": {
    "collapsed": true
   },
   "outputs": [],
   "source": [
    "import xlrd"
   ]
  },
  {
   "cell_type": "code",
   "execution_count": 2,
   "metadata": {
    "collapsed": true
   },
   "outputs": [],
   "source": [
    "file = ('/Users/mohamedsellamia/Desktop/test_file.xlsx')"
   ]
  },
  {
   "cell_type": "code",
   "execution_count": 4,
   "metadata": {
    "collapsed": true
   },
   "outputs": [],
   "source": [
    "file_content=xlrd.open_workbook(file)"
   ]
  },
  {
   "cell_type": "code",
   "execution_count": 8,
   "metadata": {
    "collapsed": true
   },
   "outputs": [],
   "source": [
    "sheet = file_content.sheet_by_index(0)"
   ]
  },
  {
   "cell_type": "code",
   "execution_count": null,
   "metadata": {
    "collapsed": true
   },
   "outputs": [],
   "source": []
  }
 ],
 "metadata": {
  "kernelspec": {
   "display_name": "Python 3",
   "language": "python",
   "name": "python3"
  },
  "language_info": {
   "codemirror_mode": {
    "name": "ipython",
    "version": 3
   },
   "file_extension": ".py",
   "mimetype": "text/x-python",
   "name": "python",
   "nbconvert_exporter": "python",
   "pygments_lexer": "ipython3",
   "version": "3.6.3"
  }
 },
 "nbformat": 4,
 "nbformat_minor": 2
}
